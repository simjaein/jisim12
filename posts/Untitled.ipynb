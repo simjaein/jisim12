{
 "cells": [
  {
   "cell_type": "code",
   "execution_count": null,
   "id": "742e183f-7460-4e9f-a560-fb98f2d66aa1",
   "metadata": {},
   "outputs": [],
   "source": []
  },
  {
   "cell_type": "code",
   "execution_count": 1,
   "id": "0589d920-5d79-495a-85ff-19a1e0514849",
   "metadata": {},
   "outputs": [],
   "source": [
    "import tensorflow as tf\n",
    "import tensorflow.experimental.numpy as tnp"
   ]
  },
  {
   "cell_type": "code",
   "execution_count": 2,
   "id": "dc3ffb5a-5be8-4c46-b448-5c704a0093d1",
   "metadata": {},
   "outputs": [],
   "source": [
    "tnp.experimental_enable_numpy_behavior()"
   ]
  },
  {
   "cell_type": "code",
   "execution_count": 3,
   "id": "c7d29585-76a1-4015-bb6a-1e9f049c9a45",
   "metadata": {},
   "outputs": [
    {
     "name": "stderr",
     "output_type": "stream",
     "text": [
      "2022-05-23 23:36:31.857883: I tensorflow/stream_executor/cuda/cuda_gpu_executor.cc:939] successful NUMA node read from SysFS had negative value (-1), but there must be at least one NUMA node, so returning NUMA node zero\n"
     ]
    },
    {
     "data": {
      "text/plain": [
       "<tf.Tensor: shape=(50, 25), dtype=float64, numpy=\n",
       "array([[10., 10., 10., ..., 10., 10., 10.],\n",
       "       [10., 10., 10., ..., 10., 10., 10.],\n",
       "       [10., 10., 10., ..., 10., 10., 10.],\n",
       "       ...,\n",
       "       [10., 10., 10., ..., 10., 10., 10.],\n",
       "       [10., 10., 10., ..., 10., 10., 10.],\n",
       "       [10., 10., 10., ..., 10., 10., 10.]])>"
      ]
     },
     "execution_count": 3,
     "metadata": {},
     "output_type": "execute_result"
    }
   ],
   "source": [
    "_X1 = tnp.ones([50,25])*10 \n",
    "_X1"
   ]
  },
  {
   "cell_type": "code",
   "execution_count": 4,
   "id": "1f650e6c-ba82-46ad-90be-64214833fa28",
   "metadata": {},
   "outputs": [
    {
     "data": {
      "text/plain": [
       "<tf.Tensor: shape=(50, 25), dtype=float64, numpy=\n",
       "array([[0., 0., 0., ..., 0., 0., 0.],\n",
       "       [0., 0., 0., ..., 0., 0., 0.],\n",
       "       [0., 0., 0., ..., 0., 0., 0.],\n",
       "       ...,\n",
       "       [0., 0., 0., ..., 0., 0., 0.],\n",
       "       [0., 0., 0., ..., 0., 0., 0.],\n",
       "       [0., 0., 0., ..., 0., 0., 0.]])>"
      ]
     },
     "execution_count": 4,
     "metadata": {},
     "output_type": "execute_result"
    }
   ],
   "source": [
    "_X2 = tnp.zeros([50,25])*10 \n",
    "_X2"
   ]
  },
  {
   "cell_type": "code",
   "execution_count": 5,
   "id": "826fbf12-2107-485d-9864-8e9498198ca8",
   "metadata": {},
   "outputs": [
    {
     "data": {
      "text/plain": [
       "<tf.Tensor: shape=(50, 50), dtype=float64, numpy=\n",
       "array([[10., 10., 10., ...,  0.,  0.,  0.],\n",
       "       [10., 10., 10., ...,  0.,  0.,  0.],\n",
       "       [10., 10., 10., ...,  0.,  0.,  0.],\n",
       "       ...,\n",
       "       [10., 10., 10., ...,  0.,  0.,  0.],\n",
       "       [10., 10., 10., ...,  0.,  0.,  0.],\n",
       "       [10., 10., 10., ...,  0.,  0.,  0.]])>"
      ]
     },
     "execution_count": 5,
     "metadata": {},
     "output_type": "execute_result"
    }
   ],
   "source": [
    "tf.concat([_X1,_X2],axis=1)"
   ]
  },
  {
   "cell_type": "code",
   "execution_count": 6,
   "id": "223d9be2-23a8-41c6-9f9a-af03b09fdd12",
   "metadata": {},
   "outputs": [
    {
     "data": {
      "text/plain": [
       "<tf.Tensor: shape=(50, 50), dtype=float64, numpy=\n",
       "array([[-0.35893472,  1.34715133, -1.09867888, ...,  0.86637446,\n",
       "         0.76534142,  0.02492512],\n",
       "       [-2.0924809 ,  0.40532776, -0.22088057, ..., -0.40185935,\n",
       "         0.45020357,  1.668251  ],\n",
       "       [ 1.5649497 ,  0.09772148, -0.44497024, ...,  0.95732265,\n",
       "         1.36476409,  0.81405914],\n",
       "       ...,\n",
       "       [-0.15583511, -0.59527225, -0.46381306, ...,  0.16362863,\n",
       "         1.08391654,  0.49281776],\n",
       "       [ 1.07869912,  1.07151975, -0.0196227 , ...,  1.25430225,\n",
       "         0.43976791,  0.40134943],\n",
       "       [ 0.15613959,  0.10136015,  2.32804407, ..., -1.03957414,\n",
       "        -2.6255478 , -0.08386856]])>"
      ]
     },
     "execution_count": 6,
     "metadata": {},
     "output_type": "execute_result"
    }
   ],
   "source": [
    "_noise = tnp.random.randn(50*50).reshape(50,50)\n",
    "_noise"
   ]
  },
  {
   "cell_type": "code",
   "execution_count": 7,
   "id": "da0f1efa-abea-49be-82b5-5df0585dcc25",
   "metadata": {},
   "outputs": [],
   "source": [
    "XXX = tf.concat([_X1,_X2],axis=1) + _noise"
   ]
  },
  {
   "cell_type": "code",
   "execution_count": 8,
   "id": "a9fdff92-0884-4e30-b16a-0a4af084f587",
   "metadata": {},
   "outputs": [],
   "source": [
    "XXX=XXX.reshape(1,50,50,1)"
   ]
  },
  {
   "cell_type": "code",
   "execution_count": 9,
   "id": "7c4c6f0a-671d-417e-8f83-881788a36f0b",
   "metadata": {},
   "outputs": [
    {
     "ename": "NameError",
     "evalue": "name 'plt' is not defined",
     "output_type": "error",
     "traceback": [
      "\u001b[0;31m---------------------------------------------------------------------------\u001b[0m",
      "\u001b[0;31mNameError\u001b[0m                                 Traceback (most recent call last)",
      "Input \u001b[0;32mIn [9]\u001b[0m, in \u001b[0;36m<cell line: 1>\u001b[0;34m()\u001b[0m\n\u001b[0;32m----> 1\u001b[0m \u001b[43mplt\u001b[49m\u001b[38;5;241m.\u001b[39mimshow(XXX\u001b[38;5;241m.\u001b[39mreshape(\u001b[38;5;241m50\u001b[39m,\u001b[38;5;241m50\u001b[39m),cmap\u001b[38;5;241m=\u001b[39m\u001b[38;5;124m'\u001b[39m\u001b[38;5;124mgray\u001b[39m\u001b[38;5;124m'\u001b[39m)\n",
      "\u001b[0;31mNameError\u001b[0m: name 'plt' is not defined"
     ]
    }
   ],
   "source": [
    "plt.imshow(XXX.reshape(50,50),cmap='gray')"
   ]
  },
  {
   "cell_type": "code",
   "execution_count": 10,
   "id": "0f0b9c1d-5e81-40d7-bdea-247f735293ac",
   "metadata": {},
   "outputs": [],
   "source": [
    "conv = tf.keras.layers.Conv2D(2,(2,2))"
   ]
  },
  {
   "cell_type": "code",
   "execution_count": null,
   "id": "826ea81d-16af-471f-b260-242c3f28b74a",
   "metadata": {},
   "outputs": [],
   "source": []
  },
  {
   "cell_type": "code",
   "execution_count": null,
   "id": "6d1b5495-c573-420e-ade9-5a21896833ce",
   "metadata": {},
   "outputs": [],
   "source": []
  },
  {
   "cell_type": "code",
   "execution_count": null,
   "id": "aae532b8-e89d-4b37-8db5-bcc5288c8cb1",
   "metadata": {},
   "outputs": [],
   "source": []
  },
  {
   "cell_type": "code",
   "execution_count": null,
   "id": "9532634a-38fa-44c8-a216-4068e17650e4",
   "metadata": {},
   "outputs": [],
   "source": []
  },
  {
   "cell_type": "code",
   "execution_count": null,
   "id": "693ff274-7b0d-4c0d-b98a-158bd3311709",
   "metadata": {},
   "outputs": [],
   "source": []
  },
  {
   "cell_type": "code",
   "execution_count": null,
   "id": "4da71430-57bf-4fec-ab3b-5b143b8793fb",
   "metadata": {},
   "outputs": [],
   "source": []
  },
  {
   "cell_type": "code",
   "execution_count": null,
   "id": "6bcdcc1e-35b9-4c2f-a393-a278b6f0335c",
   "metadata": {},
   "outputs": [],
   "source": []
  },
  {
   "cell_type": "code",
   "execution_count": null,
   "id": "714de1c3-55fd-4fa7-ad43-3dd71edcddbe",
   "metadata": {},
   "outputs": [],
   "source": []
  },
  {
   "cell_type": "code",
   "execution_count": null,
   "id": "e619c500-4985-4ce6-8d43-9e4a491b7d9c",
   "metadata": {},
   "outputs": [],
   "source": []
  }
 ],
 "metadata": {
  "kernelspec": {
   "display_name": "Python 3",
   "language": "python",
   "name": "python3"
  },
  "language_info": {
   "codemirror_mode": {
    "name": "ipython",
    "version": 3
   },
   "file_extension": ".py",
   "mimetype": "text/x-python",
   "name": "python",
   "nbconvert_exporter": "python",
   "pygments_lexer": "ipython3",
   "version": "3.9.7"
  }
 },
 "nbformat": 4,
 "nbformat_minor": 5
}
