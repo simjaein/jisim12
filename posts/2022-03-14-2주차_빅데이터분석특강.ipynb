{
 "cells": [
  {
   "cell_type": "markdown",
   "id": "d19c7baf-cae0-47cd-b7ff-30f75baaf4a6",
   "metadata": {},
   "source": [
    "# 2주차-3월 14일\n",
    "> 빅데이터분석특강\n",
    "\n",
    "- toc:false\n",
    "- branch: master\n",
    "- badges: true\n",
    "- comments: true\n",
    "- author: 심재인"
   ]
  },
  {
   "cell_type": "markdown",
   "id": "6e725889-889a-45cc-98d7-2b91c3c82523",
   "metadata": {},
   "source": [
    "### import"
   ]
  },
  {
   "cell_type": "code",
   "execution_count": 1,
   "id": "3a0bc522-00c6-47af-ab5d-98fb18c23445",
   "metadata": {},
   "outputs": [],
   "source": [
    "import tensorflow as tf\n",
    "import numpy as np"
   ]
  },
  {
   "cell_type": "code",
   "execution_count": 2,
   "id": "44706133-4374-4bcb-a95f-c363e99d5160",
   "metadata": {},
   "outputs": [
    {
     "name": "stderr",
     "output_type": "stream",
     "text": [
      "2022-04-25 14:46:52.378177: I tensorflow/stream_executor/cuda/cuda_gpu_executor.cc:939] successful NUMA node read from SysFS had negative value (-1), but there must be at least one NUMA node, so returning NUMA node zero\n"
     ]
    },
    {
     "data": {
      "text/plain": [
       "[PhysicalDevice(name='/physical_device:GPU:0', device_type='GPU')]"
      ]
     },
     "execution_count": 2,
     "metadata": {},
     "output_type": "execute_result"
    }
   ],
   "source": [
    "tf.config.experimental.list_physical_devices('GPU')"
   ]
  },
  {
   "cell_type": "markdown",
   "id": "34ea38ed-32f3-4cbc-8de1-2617fdfb78bc",
   "metadata": {},
   "source": [
    "### tf.constant\n",
    "#### 예비학습: 중첩리스트 "
   ]
  },
  {
   "cell_type": "markdown",
   "id": "bd79ed60-c08e-448d-9640-c8ca8b2f50ea",
   "metadata": {},
   "source": [
    "`-` 리스트"
   ]
  },
  {
   "cell_type": "code",
   "execution_count": 3,
   "id": "fe4b584c-56a2-4125-b3de-68d89c1bd38d",
   "metadata": {},
   "outputs": [
    {
     "data": {
      "text/plain": [
       "[1, 2, 4, 5, 6]"
      ]
     },
     "execution_count": 3,
     "metadata": {},
     "output_type": "execute_result"
    }
   ],
   "source": [
    "lst = [1,2,4,5,6]\n",
    "lst"
   ]
  },
  {
   "cell_type": "code",
   "execution_count": 4,
   "id": "b6f76204-b74f-4fff-967f-7ee62524f94d",
   "metadata": {},
   "outputs": [
    {
     "data": {
      "text/plain": [
       "2"
      ]
     },
     "execution_count": 4,
     "metadata": {},
     "output_type": "execute_result"
    }
   ],
   "source": [
    "lst[1] # 두번쨰원소"
   ]
  },
  {
   "cell_type": "code",
   "execution_count": 5,
   "id": "be9d9497-e66f-49c7-aeb9-c5c125b882ce",
   "metadata": {},
   "outputs": [
    {
     "data": {
      "text/plain": [
       "6"
      ]
     },
     "execution_count": 5,
     "metadata": {},
     "output_type": "execute_result"
    }
   ],
   "source": [
    "lst[-1] # 마지막원소"
   ]
  },
  {
   "cell_type": "markdown",
   "id": "6646fb38-f68b-4314-95db-ce51516e75e0",
   "metadata": {},
   "source": [
    "`-` (2,2) matrix 느낌의 list"
   ]
  },
  {
   "cell_type": "code",
   "execution_count": 6,
   "id": "5bb71593-fed0-4675-8910-5b1c0f399281",
   "metadata": {},
   "outputs": [
    {
     "data": {
      "text/plain": [
       "[[1, 2], [3, 4]]"
      ]
     },
     "execution_count": 6,
     "metadata": {},
     "output_type": "execute_result"
    }
   ],
   "source": [
    "lst= [[1,2],[3,4]]\n",
    "lst"
   ]
  },
  {
   "cell_type": "markdown",
   "id": "2e39f20c-0ce6-41f9-9d2c-4e0ca41a3048",
   "metadata": {},
   "source": [
    "위를 아래와 같은 매트릭스로 생각할수 있다. \n",
    "\n",
    "```\n",
    "1 2 \n",
    "3 4 \n",
    "```"
   ]
  },
  {
   "cell_type": "code",
   "execution_count": 7,
   "id": "bc109945-c12e-4430-a62a-565dfa477b45",
   "metadata": {},
   "outputs": [
    {
     "name": "stdout",
     "output_type": "stream",
     "text": [
      "1\n",
      "2\n",
      "3\n",
      "4\n"
     ]
    }
   ],
   "source": [
    "print(lst[0][0]) # (1,1) \n",
    "print(lst[0][1]) # (1,2) \n",
    "print(lst[1][0]) # (2,1) \n",
    "print(lst[1][1]) # (2,2) "
   ]
  },
  {
   "cell_type": "markdown",
   "id": "9caef603-67c2-4941-aaa3-90b57d29e2ea",
   "metadata": {},
   "source": [
    "`-` (4,1) matrix 느낌의 list"
   ]
  },
  {
   "cell_type": "code",
   "execution_count": 8,
   "id": "34c0ba24-1449-47b1-984a-4907287a0d0a",
   "metadata": {},
   "outputs": [
    {
     "data": {
      "text/plain": [
       "[[1], [2], [3], [4]]"
      ]
     },
     "execution_count": 8,
     "metadata": {},
     "output_type": "execute_result"
    }
   ],
   "source": [
    "lst=[[1],[2],[3],[4]] # (4,1) matrix = 길이가 4인 col-vector\n",
    "lst"
   ]
  },
  {
   "cell_type": "markdown",
   "id": "a222b378-adb6-47de-8fa7-a95cd4f1ad68",
   "metadata": {},
   "source": [
    "`-` (1,4) matrix 느낌의 list "
   ]
  },
  {
   "cell_type": "code",
   "execution_count": 9,
   "id": "005938ab-8287-425e-84e4-9340781ab4f2",
   "metadata": {},
   "outputs": [
    {
     "data": {
      "text/plain": [
       "[[1, 2, 3, 4]]"
      ]
     },
     "execution_count": 9,
     "metadata": {},
     "output_type": "execute_result"
    }
   ],
   "source": [
    "lst=[[1,2,3,4]] # (1,4) matrix = 길이가 4인 row-vector \n",
    "lst"
   ]
  },
  {
   "cell_type": "markdown",
   "id": "62124468-d147-4d0b-99b2-b012d41f6903",
   "metadata": {},
   "source": [
    "#### 선언\n",
    "`-` 스칼라 "
   ]
  },
  {
   "cell_type": "code",
   "execution_count": 10,
   "id": "673a592c-baf7-4cee-aee5-7d155d780167",
   "metadata": {},
   "outputs": [
    {
     "data": {
      "text/plain": [
       "<tf.Tensor: shape=(), dtype=float32, numpy=3.14>"
      ]
     },
     "execution_count": 10,
     "metadata": {},
     "output_type": "execute_result"
    }
   ],
   "source": [
    "tf.constant(3.14)"
   ]
  },
  {
   "cell_type": "code",
   "execution_count": 11,
   "id": "392d2997-b73f-4225-b4f1-0c660d746811",
   "metadata": {},
   "outputs": [
    {
     "data": {
      "text/plain": [
       "<tf.Tensor: shape=(), dtype=float32, numpy=6.28>"
      ]
     },
     "execution_count": 11,
     "metadata": {},
     "output_type": "execute_result"
    }
   ],
   "source": [
    "tf.constant(3.14)+tf.constant(3.14)"
   ]
  },
  {
   "cell_type": "markdown",
   "id": "ac398506-4e42-466c-b351-ce91c914c0d4",
   "metadata": {},
   "source": [
    "`-` 벡터"
   ]
  },
  {
   "cell_type": "code",
   "execution_count": 12,
   "id": "1ae2a4ff-8460-432e-8570-d9f497cb378b",
   "metadata": {},
   "outputs": [],
   "source": [
    "_vector=tf.constant([1,2,3])"
   ]
  },
  {
   "cell_type": "code",
   "execution_count": 13,
   "id": "1c4cc631-22b7-481d-bdd3-448bb96081f7",
   "metadata": {},
   "outputs": [
    {
     "data": {
      "text/plain": [
       "<tf.Tensor: shape=(), dtype=int32, numpy=3>"
      ]
     },
     "execution_count": 13,
     "metadata": {},
     "output_type": "execute_result"
    }
   ],
   "source": [
    "_vector[-1]"
   ]
  },
  {
   "cell_type": "markdown",
   "id": "031fddf6-1f97-4639-808c-eeb2fb37f9fe",
   "metadata": {},
   "source": [
    "`-` 매트릭스"
   ]
  },
  {
   "cell_type": "code",
   "execution_count": 14,
   "id": "bcce22e1-9fba-4d22-8059-b1795a9dbb69",
   "metadata": {},
   "outputs": [
    {
     "data": {
      "text/plain": [
       "<tf.Tensor: shape=(2, 2), dtype=int32, numpy=\n",
       "array([[1, 0],\n",
       "       [0, 1]], dtype=int32)>"
      ]
     },
     "execution_count": 14,
     "metadata": {},
     "output_type": "execute_result"
    }
   ],
   "source": [
    "_matrix= tf.constant([[1,0],[0,1]])\n",
    "_matrix"
   ]
  },
  {
   "cell_type": "markdown",
   "id": "2143b7f0-53b0-44e3-9f19-62ae232a4040",
   "metadata": {},
   "source": [
    "`-` array"
   ]
  },
  {
   "cell_type": "code",
   "execution_count": 15,
   "id": "0abf1c20-f33a-49f9-81e4-37bfbb286e02",
   "metadata": {},
   "outputs": [
    {
     "data": {
      "text/plain": [
       "<tf.Tensor: shape=(2, 2, 3), dtype=int32, numpy=\n",
       "array([[[ 0,  1,  1],\n",
       "        [ 1,  2, -1]],\n",
       "\n",
       "       [[ 0,  1,  2],\n",
       "        [ 1,  2, -1]]], dtype=int32)>"
      ]
     },
     "execution_count": 15,
     "metadata": {},
     "output_type": "execute_result"
    }
   ],
   "source": [
    "tf.constant([[[0,1,1],[1,2,-1]],[[0,1,2],[1,2,-1]]])"
   ]
  },
  {
   "cell_type": "markdown",
   "id": "d4ef42b4-7640-47a3-acd4-d56fbf12dd09",
   "metadata": {},
   "source": [
    "#### 타입"
   ]
  },
  {
   "cell_type": "code",
   "execution_count": 16,
   "id": "dd8d869a-d5a9-4829-a657-1570d9fec739",
   "metadata": {},
   "outputs": [
    {
     "data": {
      "text/plain": [
       "tensorflow.python.framework.ops.EagerTensor"
      ]
     },
     "execution_count": 16,
     "metadata": {},
     "output_type": "execute_result"
    }
   ],
   "source": [
    "type(tf.constant(3.14))"
   ]
  },
  {
   "cell_type": "markdown",
   "id": "1d93e542-5fd1-4557-8f95-91e4a8014a61",
   "metadata": {},
   "source": [
    "#### 인덱싱"
   ]
  },
  {
   "cell_type": "code",
   "execution_count": 17,
   "id": "245fd77c-7924-49c2-ae56-117b30d49f4a",
   "metadata": {},
   "outputs": [
    {
     "data": {
      "text/plain": [
       "<tf.Tensor: shape=(2, 2), dtype=int32, numpy=\n",
       "array([[1, 2],\n",
       "       [3, 4]], dtype=int32)>"
      ]
     },
     "execution_count": 17,
     "metadata": {},
     "output_type": "execute_result"
    }
   ],
   "source": [
    "_matrix = tf.constant([[1,2],[3,4]])\n",
    "_matrix"
   ]
  },
  {
   "cell_type": "code",
   "execution_count": 18,
   "id": "fbf44e84-93a0-4928-9b34-17a7b93f47fb",
   "metadata": {},
   "outputs": [
    {
     "data": {
      "text/plain": [
       "<tf.Tensor: shape=(), dtype=int32, numpy=1>"
      ]
     },
     "execution_count": 18,
     "metadata": {},
     "output_type": "execute_result"
    }
   ],
   "source": [
    "_matrix[0][0]"
   ]
  },
  {
   "cell_type": "code",
   "execution_count": 19,
   "id": "eba14ff9-c365-41fb-86ed-a1a11adeac35",
   "metadata": {},
   "outputs": [
    {
     "data": {
      "text/plain": [
       "<tf.Tensor: shape=(2,), dtype=int32, numpy=array([1, 2], dtype=int32)>"
      ]
     },
     "execution_count": 19,
     "metadata": {},
     "output_type": "execute_result"
    }
   ],
   "source": [
    "_matrix[0]"
   ]
  },
  {
   "cell_type": "code",
   "execution_count": 20,
   "id": "c37b5558-286e-4ff6-a534-c8282f441263",
   "metadata": {},
   "outputs": [
    {
     "data": {
      "text/plain": [
       "<tf.Tensor: shape=(2,), dtype=int32, numpy=array([1, 2], dtype=int32)>"
      ]
     },
     "execution_count": 20,
     "metadata": {},
     "output_type": "execute_result"
    }
   ],
   "source": [
    "_matrix[0,:]"
   ]
  },
  {
   "cell_type": "code",
   "execution_count": 21,
   "id": "afe40e25-37d1-4231-809c-438e4c38a22b",
   "metadata": {},
   "outputs": [
    {
     "data": {
      "text/plain": [
       "<tf.Tensor: shape=(2,), dtype=int32, numpy=array([1, 3], dtype=int32)>"
      ]
     },
     "execution_count": 21,
     "metadata": {},
     "output_type": "execute_result"
    }
   ],
   "source": [
    "_matrix[:,0]"
   ]
  },
  {
   "cell_type": "markdown",
   "id": "00b8953c-b8a8-46d5-ac12-12b5014c874c",
   "metadata": {},
   "source": [
    "#### tf.constant는 불편하다.\n",
    "`-` 불편한점\n",
    "1. 모든 원소가 같은 dtype을 가지고 있어야함. \n",
    "2. 원소 수정이 불가능함. \n",
    "3. 묵시적 형변환이 불가능하다.\n",
    "\n",
    "`-` 원소수정이 불가능함"
   ]
  },
  {
   "cell_type": "code",
   "execution_count": 22,
   "id": "e57a180b-313c-479c-aad2-bf06c699d15a",
   "metadata": {},
   "outputs": [
    {
     "data": {
      "text/plain": [
       "<tf.Tensor: shape=(3,), dtype=int32, numpy=array([ 1, 22, 33], dtype=int32)>"
      ]
     },
     "execution_count": 22,
     "metadata": {},
     "output_type": "execute_result"
    }
   ],
   "source": [
    "a=tf.constant([1,22,33])\n",
    "a"
   ]
  },
  {
   "cell_type": "code",
   "execution_count": 23,
   "id": "f5b3b23f-e90c-4f50-8856-7fccf31a4ce4",
   "metadata": {},
   "outputs": [
    {
     "ename": "TypeError",
     "evalue": "'tensorflow.python.framework.ops.EagerTensor' object does not support item assignment",
     "output_type": "error",
     "traceback": [
      "\u001b[0;31m---------------------------------------------------------------------------\u001b[0m",
      "\u001b[0;31mTypeError\u001b[0m                                 Traceback (most recent call last)",
      "Input \u001b[0;32mIn [23]\u001b[0m, in \u001b[0;36m<cell line: 1>\u001b[0;34m()\u001b[0m\n\u001b[0;32m----> 1\u001b[0m a[\u001b[38;5;241m0\u001b[39m]\u001b[38;5;241m=\u001b[39m\u001b[38;5;241m11\u001b[39m\n",
      "\u001b[0;31mTypeError\u001b[0m: 'tensorflow.python.framework.ops.EagerTensor' object does not support item assignment"
     ]
    }
   ],
   "source": [
    "a[0]=11"
   ]
  },
  {
   "cell_type": "markdown",
   "id": "1f2aa077-d6f0-4fbe-9486-ab77c19fa534",
   "metadata": {},
   "source": [
    "`-` 묵시적 형변환이 불가능하다 "
   ]
  },
  {
   "cell_type": "code",
   "execution_count": 24,
   "id": "c31e7bad-c329-4f79-af43-b63659150382",
   "metadata": {},
   "outputs": [
    {
     "ename": "InvalidArgumentError",
     "evalue": "cannot compute AddV2 as input #1(zero-based) was expected to be a int32 tensor but is a float tensor [Op:AddV2]",
     "output_type": "error",
     "traceback": [
      "\u001b[0;31m---------------------------------------------------------------------------\u001b[0m",
      "\u001b[0;31mInvalidArgumentError\u001b[0m                      Traceback (most recent call last)",
      "Input \u001b[0;32mIn [24]\u001b[0m, in \u001b[0;36m<cell line: 1>\u001b[0;34m()\u001b[0m\n\u001b[0;32m----> 1\u001b[0m \u001b[43mtf\u001b[49m\u001b[38;5;241;43m.\u001b[39;49m\u001b[43mconstant\u001b[49m\u001b[43m(\u001b[49m\u001b[38;5;241;43m1\u001b[39;49m\u001b[43m)\u001b[49m\u001b[38;5;241;43m+\u001b[39;49m\u001b[43mtf\u001b[49m\u001b[38;5;241;43m.\u001b[39;49m\u001b[43mconstant\u001b[49m\u001b[43m(\u001b[49m\u001b[38;5;241;43m3.14\u001b[39;49m\u001b[43m)\u001b[49m\n",
      "File \u001b[0;32m~/anaconda3/envs/py310/lib/python3.10/site-packages/tensorflow/python/util/traceback_utils.py:153\u001b[0m, in \u001b[0;36mfilter_traceback.<locals>.error_handler\u001b[0;34m(*args, **kwargs)\u001b[0m\n\u001b[1;32m    151\u001b[0m \u001b[38;5;28;01mexcept\u001b[39;00m \u001b[38;5;167;01mException\u001b[39;00m \u001b[38;5;28;01mas\u001b[39;00m e:\n\u001b[1;32m    152\u001b[0m   filtered_tb \u001b[38;5;241m=\u001b[39m _process_traceback_frames(e\u001b[38;5;241m.\u001b[39m__traceback__)\n\u001b[0;32m--> 153\u001b[0m   \u001b[38;5;28;01mraise\u001b[39;00m e\u001b[38;5;241m.\u001b[39mwith_traceback(filtered_tb) \u001b[38;5;28;01mfrom\u001b[39;00m \u001b[38;5;28mNone\u001b[39m\n\u001b[1;32m    154\u001b[0m \u001b[38;5;28;01mfinally\u001b[39;00m:\n\u001b[1;32m    155\u001b[0m   \u001b[38;5;28;01mdel\u001b[39;00m filtered_tb\n",
      "File \u001b[0;32m~/anaconda3/envs/py310/lib/python3.10/site-packages/tensorflow/python/framework/ops.py:7107\u001b[0m, in \u001b[0;36mraise_from_not_ok_status\u001b[0;34m(e, name)\u001b[0m\n\u001b[1;32m   7105\u001b[0m \u001b[38;5;28;01mdef\u001b[39;00m \u001b[38;5;21mraise_from_not_ok_status\u001b[39m(e, name):\n\u001b[1;32m   7106\u001b[0m   e\u001b[38;5;241m.\u001b[39mmessage \u001b[38;5;241m+\u001b[39m\u001b[38;5;241m=\u001b[39m (\u001b[38;5;124m\"\u001b[39m\u001b[38;5;124m name: \u001b[39m\u001b[38;5;124m\"\u001b[39m \u001b[38;5;241m+\u001b[39m name \u001b[38;5;28;01mif\u001b[39;00m name \u001b[38;5;129;01mis\u001b[39;00m \u001b[38;5;129;01mnot\u001b[39;00m \u001b[38;5;28;01mNone\u001b[39;00m \u001b[38;5;28;01melse\u001b[39;00m \u001b[38;5;124m\"\u001b[39m\u001b[38;5;124m\"\u001b[39m)\n\u001b[0;32m-> 7107\u001b[0m   \u001b[38;5;28;01mraise\u001b[39;00m core\u001b[38;5;241m.\u001b[39m_status_to_exception(e) \u001b[38;5;28;01mfrom\u001b[39;00m \u001b[38;5;28mNone\u001b[39m\n",
      "\u001b[0;31mInvalidArgumentError\u001b[0m: cannot compute AddV2 as input #1(zero-based) was expected to be a int32 tensor but is a float tensor [Op:AddV2]"
     ]
    }
   ],
   "source": [
    "tf.constant(1)+tf.constant(3.14)"
   ]
  },
  {
   "cell_type": "code",
   "execution_count": 25,
   "id": "d95f52c1-f246-4ae0-90e4-c19e1895122a",
   "metadata": {},
   "outputs": [
    {
     "data": {
      "text/plain": [
       "<tf.Tensor: shape=(), dtype=float32, numpy=4.1400003>"
      ]
     },
     "execution_count": 25,
     "metadata": {},
     "output_type": "execute_result"
    }
   ],
   "source": [
    "tf.constant(1.0)+tf.constant(3.14)"
   ]
  },
  {
   "cell_type": "markdown",
   "id": "ef684819-24e9-4e9c-942e-562fa8c6b971",
   "metadata": {},
   "source": [
    "`-` 같은 float도 안되는 경우가 있음"
   ]
  },
  {
   "cell_type": "code",
   "execution_count": 26,
   "id": "82b2db99-fbdb-4713-910f-3d0fe7a3c9f5",
   "metadata": {},
   "outputs": [
    {
     "data": {
      "text/plain": [
       "<tf.Tensor: shape=(), dtype=float64, numpy=1.0>"
      ]
     },
     "execution_count": 26,
     "metadata": {},
     "output_type": "execute_result"
    }
   ],
   "source": [
    "tf.constant(1.0,dtype=tf.float64)"
   ]
  },
  {
   "cell_type": "code",
   "execution_count": 27,
   "id": "7c3839be-ce4b-4fe1-a9f2-5e3f2a59bc11",
   "metadata": {},
   "outputs": [
    {
     "data": {
      "text/plain": [
       "<tf.Tensor: shape=(), dtype=float32, numpy=3.14>"
      ]
     },
     "execution_count": 27,
     "metadata": {},
     "output_type": "execute_result"
    }
   ],
   "source": [
    "tf.constant(3.14)"
   ]
  },
  {
   "cell_type": "code",
   "execution_count": 28,
   "id": "d2557ab1-ff32-48bc-8456-9be369d9cbc0",
   "metadata": {},
   "outputs": [
    {
     "ename": "InvalidArgumentError",
     "evalue": "cannot compute AddV2 as input #1(zero-based) was expected to be a double tensor but is a float tensor [Op:AddV2]",
     "output_type": "error",
     "traceback": [
      "\u001b[0;31m---------------------------------------------------------------------------\u001b[0m",
      "\u001b[0;31mInvalidArgumentError\u001b[0m                      Traceback (most recent call last)",
      "Input \u001b[0;32mIn [28]\u001b[0m, in \u001b[0;36m<cell line: 1>\u001b[0;34m()\u001b[0m\n\u001b[0;32m----> 1\u001b[0m \u001b[43mtf\u001b[49m\u001b[38;5;241;43m.\u001b[39;49m\u001b[43mconstant\u001b[49m\u001b[43m(\u001b[49m\u001b[38;5;241;43m1.0\u001b[39;49m\u001b[43m,\u001b[49m\u001b[43mdtype\u001b[49m\u001b[38;5;241;43m=\u001b[39;49m\u001b[43mtf\u001b[49m\u001b[38;5;241;43m.\u001b[39;49m\u001b[43mfloat64\u001b[49m\u001b[43m)\u001b[49m\u001b[38;5;241;43m+\u001b[39;49m\u001b[43mtf\u001b[49m\u001b[38;5;241;43m.\u001b[39;49m\u001b[43mconstant\u001b[49m\u001b[43m(\u001b[49m\u001b[38;5;241;43m3.14\u001b[39;49m\u001b[43m)\u001b[49m\n",
      "File \u001b[0;32m~/anaconda3/envs/py310/lib/python3.10/site-packages/tensorflow/python/util/traceback_utils.py:153\u001b[0m, in \u001b[0;36mfilter_traceback.<locals>.error_handler\u001b[0;34m(*args, **kwargs)\u001b[0m\n\u001b[1;32m    151\u001b[0m \u001b[38;5;28;01mexcept\u001b[39;00m \u001b[38;5;167;01mException\u001b[39;00m \u001b[38;5;28;01mas\u001b[39;00m e:\n\u001b[1;32m    152\u001b[0m   filtered_tb \u001b[38;5;241m=\u001b[39m _process_traceback_frames(e\u001b[38;5;241m.\u001b[39m__traceback__)\n\u001b[0;32m--> 153\u001b[0m   \u001b[38;5;28;01mraise\u001b[39;00m e\u001b[38;5;241m.\u001b[39mwith_traceback(filtered_tb) \u001b[38;5;28;01mfrom\u001b[39;00m \u001b[38;5;28mNone\u001b[39m\n\u001b[1;32m    154\u001b[0m \u001b[38;5;28;01mfinally\u001b[39;00m:\n\u001b[1;32m    155\u001b[0m   \u001b[38;5;28;01mdel\u001b[39;00m filtered_tb\n",
      "File \u001b[0;32m~/anaconda3/envs/py310/lib/python3.10/site-packages/tensorflow/python/framework/ops.py:7107\u001b[0m, in \u001b[0;36mraise_from_not_ok_status\u001b[0;34m(e, name)\u001b[0m\n\u001b[1;32m   7105\u001b[0m \u001b[38;5;28;01mdef\u001b[39;00m \u001b[38;5;21mraise_from_not_ok_status\u001b[39m(e, name):\n\u001b[1;32m   7106\u001b[0m   e\u001b[38;5;241m.\u001b[39mmessage \u001b[38;5;241m+\u001b[39m\u001b[38;5;241m=\u001b[39m (\u001b[38;5;124m\"\u001b[39m\u001b[38;5;124m name: \u001b[39m\u001b[38;5;124m\"\u001b[39m \u001b[38;5;241m+\u001b[39m name \u001b[38;5;28;01mif\u001b[39;00m name \u001b[38;5;129;01mis\u001b[39;00m \u001b[38;5;129;01mnot\u001b[39;00m \u001b[38;5;28;01mNone\u001b[39;00m \u001b[38;5;28;01melse\u001b[39;00m \u001b[38;5;124m\"\u001b[39m\u001b[38;5;124m\"\u001b[39m)\n\u001b[0;32m-> 7107\u001b[0m   \u001b[38;5;28;01mraise\u001b[39;00m core\u001b[38;5;241m.\u001b[39m_status_to_exception(e) \u001b[38;5;28;01mfrom\u001b[39;00m \u001b[38;5;28mNone\u001b[39m\n",
      "\u001b[0;31mInvalidArgumentError\u001b[0m: cannot compute AddV2 as input #1(zero-based) was expected to be a double tensor but is a float tensor [Op:AddV2]"
     ]
    }
   ],
   "source": [
    "tf.constant(1.0,dtype=tf.float64)+tf.constant(3.14)"
   ]
  },
  {
   "cell_type": "markdown",
   "id": "5f404753-3a3c-48f0-9e3a-6eca0881c504",
   "metadata": {},
   "source": [
    "#### tf.constant $\\to$ 넘파이"
   ]
  },
  {
   "cell_type": "code",
   "execution_count": 29,
   "id": "377c8be4-8e43-431b-992d-0181f24f3112",
   "metadata": {},
   "outputs": [
    {
     "data": {
      "text/plain": [
       "array(1, dtype=int32)"
      ]
     },
     "execution_count": 29,
     "metadata": {},
     "output_type": "execute_result"
    }
   ],
   "source": [
    "np.array(tf.constant(1)) # 방법1"
   ]
  },
  {
   "cell_type": "code",
   "execution_count": 30,
   "id": "41f18539-6531-4043-b88c-ca72f2758560",
   "metadata": {},
   "outputs": [
    {
     "data": {
      "text/plain": [
       "tensorflow.python.framework.ops.EagerTensor"
      ]
     },
     "execution_count": 30,
     "metadata": {},
     "output_type": "execute_result"
    }
   ],
   "source": [
    "a=tf.constant([3.14,-3.14])\n",
    "type(a)"
   ]
  },
  {
   "cell_type": "code",
   "execution_count": 31,
   "id": "be425b07-c071-45b8-8ca3-c95cc1928f36",
   "metadata": {},
   "outputs": [
    {
     "data": {
      "text/plain": [
       "array([ 3.14, -3.14], dtype=float32)"
      ]
     },
     "execution_count": 31,
     "metadata": {},
     "output_type": "execute_result"
    }
   ],
   "source": [
    "a.numpy()"
   ]
  },
  {
   "cell_type": "code",
   "execution_count": 32,
   "id": "627d7ac7-8920-4a15-a60e-ebca964a31f7",
   "metadata": {},
   "outputs": [],
   "source": [
    "#### 연산"
   ]
  },
  {
   "cell_type": "markdown",
   "id": "3a56a861-872f-4eca-96f6-454256c2d05a",
   "metadata": {},
   "source": [
    "`-` 더하기"
   ]
  },
  {
   "cell_type": "code",
   "execution_count": 33,
   "id": "f254797b-a913-4107-ab17-4472cb3f9b38",
   "metadata": {},
   "outputs": [
    {
     "data": {
      "text/plain": [
       "<tf.Tensor: shape=(2,), dtype=int32, numpy=array([4, 6], dtype=int32)>"
      ]
     },
     "execution_count": 33,
     "metadata": {},
     "output_type": "execute_result"
    }
   ],
   "source": [
    "a=tf.constant([1,2])\n",
    "b=tf.constant([3,4])\n",
    "a+b"
   ]
  },
  {
   "cell_type": "code",
   "execution_count": 34,
   "id": "238daaa4-087c-4046-be4a-c14980c7e085",
   "metadata": {},
   "outputs": [
    {
     "data": {
      "text/plain": [
       "<tf.Tensor: shape=(2,), dtype=int32, numpy=array([4, 6], dtype=int32)>"
      ]
     },
     "execution_count": 34,
     "metadata": {},
     "output_type": "execute_result"
    }
   ],
   "source": [
    "tf.add(a,b)"
   ]
  },
  {
   "cell_type": "markdown",
   "id": "9bb2ff78-a7aa-4976-8038-8ad2e4513882",
   "metadata": {},
   "source": [
    "`-` 곱하기"
   ]
  },
  {
   "cell_type": "code",
   "execution_count": 35,
   "id": "6be599f0-5a26-4af9-b5b0-c33f188f85fd",
   "metadata": {},
   "outputs": [
    {
     "data": {
      "text/plain": [
       "<tf.Tensor: shape=(2, 2), dtype=int32, numpy=\n",
       "array([[ 5, 12],\n",
       "       [21, 32]], dtype=int32)>"
      ]
     },
     "execution_count": 35,
     "metadata": {},
     "output_type": "execute_result"
    }
   ],
   "source": [
    "a=tf.constant([[1,2],[3,4]])\n",
    "b=tf.constant([[5,6],[7,8]])\n",
    "a*b"
   ]
  },
  {
   "cell_type": "code",
   "execution_count": 36,
   "id": "229e3980-a944-4530-8213-140b463bd287",
   "metadata": {},
   "outputs": [
    {
     "data": {
      "text/plain": [
       "<tf.Tensor: shape=(2, 2), dtype=int32, numpy=\n",
       "array([[ 5, 12],\n",
       "       [21, 32]], dtype=int32)>"
      ]
     },
     "execution_count": 36,
     "metadata": {},
     "output_type": "execute_result"
    }
   ],
   "source": [
    "tf.multiply(a,b)"
   ]
  },
  {
   "cell_type": "markdown",
   "id": "5b84e38b-aec0-4353-8760-054fbb86614b",
   "metadata": {},
   "source": [
    "`-` 매트릭스의곱"
   ]
  },
  {
   "cell_type": "code",
   "execution_count": 37,
   "id": "3e9cdf94-c510-48ad-9892-fd02f51b50fb",
   "metadata": {},
   "outputs": [
    {
     "data": {
      "text/plain": [
       "<tf.Tensor: shape=(2, 1), dtype=int32, numpy=\n",
       "array([[5],\n",
       "       [7]], dtype=int32)>"
      ]
     },
     "execution_count": 37,
     "metadata": {},
     "output_type": "execute_result"
    }
   ],
   "source": [
    "a=tf.constant([[1,0],[0,1]]) # (2,2)\n",
    "b=tf.constant([[5],[7]]) # (2,1) \n",
    "a@b"
   ]
  },
  {
   "cell_type": "code",
   "execution_count": 38,
   "id": "741ed62c-ab5d-46d3-84e0-4004c851e132",
   "metadata": {},
   "outputs": [
    {
     "data": {
      "text/plain": [
       "<tf.Tensor: shape=(2, 1), dtype=int32, numpy=\n",
       "array([[5],\n",
       "       [7]], dtype=int32)>"
      ]
     },
     "execution_count": 38,
     "metadata": {},
     "output_type": "execute_result"
    }
   ],
   "source": [
    "tf.matmul(a,b)"
   ]
  },
  {
   "cell_type": "markdown",
   "id": "4dcf610f-faab-4609-9454-390bd3349675",
   "metadata": {},
   "source": [
    "`-` 역행렬 "
   ]
  },
  {
   "cell_type": "code",
   "execution_count": 39,
   "id": "282062a9-e6c0-4ca7-a8d3-eef1787cd5b3",
   "metadata": {},
   "outputs": [
    {
     "data": {
      "text/plain": [
       "<tf.Tensor: shape=(2, 2), dtype=int32, numpy=\n",
       "array([[1, 0],\n",
       "       [0, 2]], dtype=int32)>"
      ]
     },
     "execution_count": 39,
     "metadata": {},
     "output_type": "execute_result"
    }
   ],
   "source": [
    "a=tf.constant([[1,0],[0,2]])\n",
    "a"
   ]
  },
  {
   "cell_type": "code",
   "execution_count": 40,
   "id": "df24193b-a343-4209-a31f-8a24942e1397",
   "metadata": {},
   "outputs": [
    {
     "ename": "InvalidArgumentError",
     "evalue": "Value for attr 'T' of int32 is not in the list of allowed values: double, float, half, complex64, complex128\n\t; NodeDef: {{node MatrixInverse}}; Op<name=MatrixInverse; signature=input:T -> output:T; attr=adjoint:bool,default=false; attr=T:type,allowed=[DT_DOUBLE, DT_FLOAT, DT_HALF, DT_COMPLEX64, DT_COMPLEX128]> [Op:MatrixInverse]",
     "output_type": "error",
     "traceback": [
      "\u001b[0;31m---------------------------------------------------------------------------\u001b[0m",
      "\u001b[0;31mInvalidArgumentError\u001b[0m                      Traceback (most recent call last)",
      "Input \u001b[0;32mIn [40]\u001b[0m, in \u001b[0;36m<cell line: 1>\u001b[0;34m()\u001b[0m\n\u001b[0;32m----> 1\u001b[0m \u001b[43mtf\u001b[49m\u001b[38;5;241;43m.\u001b[39;49m\u001b[43mlinalg\u001b[49m\u001b[38;5;241;43m.\u001b[39;49m\u001b[43minv\u001b[49m\u001b[43m(\u001b[49m\u001b[43ma\u001b[49m\u001b[43m)\u001b[49m\n",
      "File \u001b[0;32m~/anaconda3/envs/py310/lib/python3.10/site-packages/tensorflow/python/ops/gen_linalg_ops.py:1506\u001b[0m, in \u001b[0;36mmatrix_inverse\u001b[0;34m(input, adjoint, name)\u001b[0m\n\u001b[1;32m   1504\u001b[0m   \u001b[38;5;28;01mreturn\u001b[39;00m _result\n\u001b[1;32m   1505\u001b[0m \u001b[38;5;28;01mexcept\u001b[39;00m _core\u001b[38;5;241m.\u001b[39m_NotOkStatusException \u001b[38;5;28;01mas\u001b[39;00m e:\n\u001b[0;32m-> 1506\u001b[0m   \u001b[43m_ops\u001b[49m\u001b[38;5;241;43m.\u001b[39;49m\u001b[43mraise_from_not_ok_status\u001b[49m\u001b[43m(\u001b[49m\u001b[43me\u001b[49m\u001b[43m,\u001b[49m\u001b[43m \u001b[49m\u001b[43mname\u001b[49m\u001b[43m)\u001b[49m\n\u001b[1;32m   1507\u001b[0m \u001b[38;5;28;01mexcept\u001b[39;00m _core\u001b[38;5;241m.\u001b[39m_FallbackException:\n\u001b[1;32m   1508\u001b[0m   \u001b[38;5;28;01mpass\u001b[39;00m\n",
      "File \u001b[0;32m~/anaconda3/envs/py310/lib/python3.10/site-packages/tensorflow/python/framework/ops.py:7107\u001b[0m, in \u001b[0;36mraise_from_not_ok_status\u001b[0;34m(e, name)\u001b[0m\n\u001b[1;32m   7105\u001b[0m \u001b[38;5;28;01mdef\u001b[39;00m \u001b[38;5;21mraise_from_not_ok_status\u001b[39m(e, name):\n\u001b[1;32m   7106\u001b[0m   e\u001b[38;5;241m.\u001b[39mmessage \u001b[38;5;241m+\u001b[39m\u001b[38;5;241m=\u001b[39m (\u001b[38;5;124m\"\u001b[39m\u001b[38;5;124m name: \u001b[39m\u001b[38;5;124m\"\u001b[39m \u001b[38;5;241m+\u001b[39m name \u001b[38;5;28;01mif\u001b[39;00m name \u001b[38;5;129;01mis\u001b[39;00m \u001b[38;5;129;01mnot\u001b[39;00m \u001b[38;5;28;01mNone\u001b[39;00m \u001b[38;5;28;01melse\u001b[39;00m \u001b[38;5;124m\"\u001b[39m\u001b[38;5;124m\"\u001b[39m)\n\u001b[0;32m-> 7107\u001b[0m   \u001b[38;5;28;01mraise\u001b[39;00m core\u001b[38;5;241m.\u001b[39m_status_to_exception(e) \u001b[38;5;28;01mfrom\u001b[39;00m \u001b[38;5;28mNone\u001b[39m\n",
      "\u001b[0;31mInvalidArgumentError\u001b[0m: Value for attr 'T' of int32 is not in the list of allowed values: double, float, half, complex64, complex128\n\t; NodeDef: {{node MatrixInverse}}; Op<name=MatrixInverse; signature=input:T -> output:T; attr=adjoint:bool,default=false; attr=T:type,allowed=[DT_DOUBLE, DT_FLOAT, DT_HALF, DT_COMPLEX64, DT_COMPLEX128]> [Op:MatrixInverse]"
     ]
    }
   ],
   "source": [
    "tf.linalg.inv(a)"
   ]
  },
  {
   "cell_type": "code",
   "execution_count": 41,
   "id": "da2db884-f713-41e2-9804-d4f3f4b1dc14",
   "metadata": {},
   "outputs": [
    {
     "data": {
      "text/plain": [
       "<tf.Tensor: shape=(2, 2), dtype=float32, numpy=\n",
       "array([[1. , 0. ],\n",
       "       [0. , 0.5]], dtype=float32)>"
      ]
     },
     "execution_count": 41,
     "metadata": {},
     "output_type": "execute_result"
    }
   ],
   "source": [
    "a=tf.constant([[1.0,0.0],[0.0,2.0]])\n",
    "tf.linalg.inv(a)"
   ]
  },
  {
   "cell_type": "markdown",
   "id": "2f716ba7-5391-4ed1-a98d-8c4d5b19fee4",
   "metadata": {},
   "source": [
    "`-` `tf.linalg.` + `tab`을 누르면 좋아보이는 연산들 많음 "
   ]
  },
  {
   "cell_type": "code",
   "execution_count": 42,
   "id": "d932b476-d339-4b17-8f3b-7c51afeba229",
   "metadata": {},
   "outputs": [
    {
     "name": "stdout",
     "output_type": "stream",
     "text": [
      "tf.Tensor(\n",
      "[[1. 2.]\n",
      " [3. 4.]], shape=(2, 2), dtype=float32)\n"
     ]
    },
    {
     "data": {
      "text/plain": [
       "<tf.Tensor: shape=(), dtype=float32, numpy=-2.0>"
      ]
     },
     "execution_count": 42,
     "metadata": {},
     "output_type": "execute_result"
    }
   ],
   "source": [
    "a=tf.constant([[1.0,2.0],[3.0,4.0]])\n",
    "print(a)\n",
    "tf.linalg.det(a)"
   ]
  },
  {
   "cell_type": "code",
   "execution_count": 43,
   "id": "3757edc0-6d4b-421c-ae5b-89ec3f7b4cab",
   "metadata": {},
   "outputs": [
    {
     "data": {
      "text/plain": [
       "<tf.Tensor: shape=(), dtype=float32, numpy=5.0>"
      ]
     },
     "execution_count": 43,
     "metadata": {},
     "output_type": "execute_result"
    }
   ],
   "source": [
    "tf.linalg.trace(a)"
   ]
  },
  {
   "cell_type": "markdown",
   "id": "f1c19a74-f598-4ce5-8128-582561a03b43",
   "metadata": {},
   "source": [
    "#### 형태변환\n",
    "`-` 기본: tf.reshape() 를 이용"
   ]
  },
  {
   "cell_type": "code",
   "execution_count": 44,
   "id": "cd132218-6e81-4453-bf2e-3b930523713b",
   "metadata": {},
   "outputs": [
    {
     "data": {
      "text/plain": [
       "<tf.Tensor: shape=(4,), dtype=int32, numpy=array([1, 2, 3, 4], dtype=int32)>"
      ]
     },
     "execution_count": 44,
     "metadata": {},
     "output_type": "execute_result"
    }
   ],
   "source": [
    "a=tf.constant([1,2,3,4])\n",
    "a"
   ]
  },
  {
   "cell_type": "code",
   "execution_count": 45,
   "id": "89a5e2e7-26b0-4abe-826b-f498fe6f4a3e",
   "metadata": {},
   "outputs": [
    {
     "data": {
      "text/plain": [
       "<tf.Tensor: shape=(4, 1), dtype=int32, numpy=\n",
       "array([[1],\n",
       "       [2],\n",
       "       [3],\n",
       "       [4]], dtype=int32)>"
      ]
     },
     "execution_count": 45,
     "metadata": {},
     "output_type": "execute_result"
    }
   ],
   "source": [
    "tf.reshape(a,(4,1))"
   ]
  },
  {
   "cell_type": "code",
   "execution_count": 46,
   "id": "ab807f4a-29ee-49df-b8b2-821321351641",
   "metadata": {},
   "outputs": [
    {
     "data": {
      "text/plain": [
       "<tf.Tensor: shape=(2, 2), dtype=int32, numpy=\n",
       "array([[1, 2],\n",
       "       [3, 4]], dtype=int32)>"
      ]
     },
     "execution_count": 46,
     "metadata": {},
     "output_type": "execute_result"
    }
   ],
   "source": [
    "tf.reshape(a,(2,2))"
   ]
  },
  {
   "cell_type": "code",
   "execution_count": 47,
   "id": "c2c863d9-4742-4baf-a7ca-78151a664f1d",
   "metadata": {},
   "outputs": [
    {
     "data": {
      "text/plain": [
       "<tf.Tensor: shape=(2, 2, 1), dtype=int32, numpy=\n",
       "array([[[1],\n",
       "        [2]],\n",
       "\n",
       "       [[3],\n",
       "        [4]]], dtype=int32)>"
      ]
     },
     "execution_count": 47,
     "metadata": {},
     "output_type": "execute_result"
    }
   ],
   "source": [
    "tf.reshape(a,(2,2,1))"
   ]
  },
  {
   "cell_type": "markdown",
   "id": "ee3eeb6b-1f46-4d60-a269-2166b8a10b30",
   "metadata": {},
   "source": [
    "`-` 다차원"
   ]
  },
  {
   "cell_type": "code",
   "execution_count": 48,
   "id": "116f09f8-995f-4608-8d16-287b7d83e648",
   "metadata": {},
   "outputs": [
    {
     "data": {
      "text/plain": [
       "<tf.Tensor: shape=(12,), dtype=int32, numpy=array([ 1,  2,  3,  4,  5,  6,  7,  8,  9, 10, 11, 12], dtype=int32)>"
      ]
     },
     "execution_count": 48,
     "metadata": {},
     "output_type": "execute_result"
    }
   ],
   "source": [
    "a=tf.constant([1,2,3,4,5,6,7,8,9,10,11,12])\n",
    "a"
   ]
  },
  {
   "cell_type": "code",
   "execution_count": 49,
   "id": "7dcd6eb4-b197-4b29-9dad-f2d442904205",
   "metadata": {},
   "outputs": [
    {
     "data": {
      "text/plain": [
       "<tf.Tensor: shape=(2, 2, 3), dtype=int32, numpy=\n",
       "array([[[ 1,  2,  3],\n",
       "        [ 4,  5,  6]],\n",
       "\n",
       "       [[ 7,  8,  9],\n",
       "        [10, 11, 12]]], dtype=int32)>"
      ]
     },
     "execution_count": 49,
     "metadata": {},
     "output_type": "execute_result"
    }
   ],
   "source": [
    "tf.reshape(a,(2,2,3))"
   ]
  },
  {
   "cell_type": "code",
   "execution_count": 50,
   "id": "d6630bd8-614e-4662-abb0-69a59017c578",
   "metadata": {},
   "outputs": [
    {
     "data": {
      "text/plain": [
       "<tf.Tensor: shape=(4, 3), dtype=int32, numpy=\n",
       "array([[ 1,  2,  3],\n",
       "       [ 4,  5,  6],\n",
       "       [ 7,  8,  9],\n",
       "       [10, 11, 12]], dtype=int32)>"
      ]
     },
     "execution_count": 50,
     "metadata": {},
     "output_type": "execute_result"
    }
   ],
   "source": [
    "tf.reshape(a,(4,3))"
   ]
  },
  {
   "cell_type": "markdown",
   "id": "35063e4d-bb4c-40ff-b38c-21b86e74454b",
   "metadata": {},
   "source": [
    "`-` tf.resh"
   ]
  },
  {
   "cell_type": "code",
   "execution_count": 51,
   "id": "69c1edd7-5bec-4eea-9c1f-e285c811e9f2",
   "metadata": {},
   "outputs": [
    {
     "data": {
      "text/plain": [
       "<tf.Tensor: shape=(12,), dtype=int32, numpy=array([ 1,  2,  3,  4,  5,  6,  7,  8,  9, 10, 11, 12], dtype=int32)>"
      ]
     },
     "execution_count": 51,
     "metadata": {},
     "output_type": "execute_result"
    }
   ],
   "source": [
    "a=tf.constant([1,2,3,4,5,6,7,8,9,10,11,12])\n",
    "a"
   ]
  },
  {
   "cell_type": "code",
   "execution_count": 52,
   "id": "a9da3eb5-4913-4b91-a4f3-b934dda0c5fa",
   "metadata": {},
   "outputs": [
    {
     "data": {
      "text/plain": [
       "<tf.Tensor: shape=(4, 3), dtype=int32, numpy=\n",
       "array([[ 1,  2,  3],\n",
       "       [ 4,  5,  6],\n",
       "       [ 7,  8,  9],\n",
       "       [10, 11, 12]], dtype=int32)>"
      ]
     },
     "execution_count": 52,
     "metadata": {},
     "output_type": "execute_result"
    }
   ],
   "source": [
    "tf.reshape(a,(4,-1))"
   ]
  },
  {
   "cell_type": "code",
   "execution_count": 53,
   "id": "418488a9-e320-43bb-aba8-7f2a8f8ba543",
   "metadata": {},
   "outputs": [
    {
     "data": {
      "text/plain": [
       "<tf.Tensor: shape=(2, 2, 3), dtype=int32, numpy=\n",
       "array([[[ 1,  2,  3],\n",
       "        [ 4,  5,  6]],\n",
       "\n",
       "       [[ 7,  8,  9],\n",
       "        [10, 11, 12]]], dtype=int32)>"
      ]
     },
     "execution_count": 53,
     "metadata": {},
     "output_type": "execute_result"
    }
   ],
   "source": [
    "tf.reshape(a,(2,2,-1))"
   ]
  },
  {
   "cell_type": "code",
   "execution_count": 54,
   "id": "40645e09-7a01-4ca6-9e09-14bb4de2a006",
   "metadata": {},
   "outputs": [
    {
     "data": {
      "text/plain": [
       "<tf.Tensor: shape=(2, 2, 3), dtype=int32, numpy=\n",
       "array([[[ 1,  2,  3],\n",
       "        [ 4,  5,  6]],\n",
       "\n",
       "       [[ 7,  8,  9],\n",
       "        [10, 11, 12]]], dtype=int32)>"
      ]
     },
     "execution_count": 54,
     "metadata": {},
     "output_type": "execute_result"
    }
   ],
   "source": [
    "b=tf.reshape(a,(2,2,-1))\n",
    "b"
   ]
  },
  {
   "cell_type": "code",
   "execution_count": 55,
   "id": "02a359c3-831a-4b28-94a6-4f595b2e3bb8",
   "metadata": {},
   "outputs": [
    {
     "data": {
      "text/plain": [
       "<tf.Tensor: shape=(12,), dtype=int32, numpy=array([ 1,  2,  3,  4,  5,  6,  7,  8,  9, 10, 11, 12], dtype=int32)>"
      ]
     },
     "execution_count": 55,
     "metadata": {},
     "output_type": "execute_result"
    }
   ],
   "source": [
    "tf.reshape(b,-1)"
   ]
  },
  {
   "cell_type": "markdown",
   "id": "3d1d624b-a6ac-4d44-852c-b107d794ced4",
   "metadata": {},
   "source": [
    "#### 선언고급\n",
    "`-` 다른 자료형 (리스트나 넘파이)로 만들고 바꾸는것도 좋다."
   ]
  },
  {
   "cell_type": "code",
   "execution_count": 56,
   "id": "2050d4f4-8cc7-4201-ba87-661f088dc78e",
   "metadata": {},
   "outputs": [
    {
     "data": {
      "text/plain": [
       "array([[1, 0, 0, 0],\n",
       "       [0, 2, 0, 0],\n",
       "       [0, 0, 3, 0],\n",
       "       [0, 0, 0, 4]])"
      ]
     },
     "execution_count": 56,
     "metadata": {},
     "output_type": "execute_result"
    }
   ],
   "source": [
    "np.diag([1,2,3,4])"
   ]
  },
  {
   "cell_type": "code",
   "execution_count": 57,
   "id": "2db0035d-e532-44a4-9409-f74f1fbf1b6a",
   "metadata": {},
   "outputs": [
    {
     "data": {
      "text/plain": [
       "<tf.Tensor: shape=(4, 4), dtype=int64, numpy=\n",
       "array([[1, 0, 0, 0],\n",
       "       [0, 2, 0, 0],\n",
       "       [0, 0, 3, 0],\n",
       "       [0, 0, 0, 4]])>"
      ]
     },
     "execution_count": 57,
     "metadata": {},
     "output_type": "execute_result"
    }
   ],
   "source": [
    "tf.constant(np.diag([1,2,3,4]))"
   ]
  },
  {
   "cell_type": "markdown",
   "id": "3d996435-d6e1-459f-9e65-4152458d61f4",
   "metadata": {},
   "source": [
    "`-` tf.ones, tf.zeros"
   ]
  },
  {
   "cell_type": "code",
   "execution_count": 58,
   "id": "f59c1002-5842-4f9a-be24-de33fc419425",
   "metadata": {},
   "outputs": [
    {
     "data": {
      "text/plain": [
       "<tf.Tensor: shape=(3, 3), dtype=float32, numpy=\n",
       "array([[0., 0., 0.],\n",
       "       [0., 0., 0.],\n",
       "       [0., 0., 0.]], dtype=float32)>"
      ]
     },
     "execution_count": 58,
     "metadata": {},
     "output_type": "execute_result"
    }
   ],
   "source": [
    "tf.zeros([3,3])"
   ]
  },
  {
   "cell_type": "code",
   "execution_count": 59,
   "id": "77eb6ca9-e75a-48c9-b483-fe13315149a6",
   "metadata": {},
   "outputs": [
    {
     "data": {
      "text/plain": [
       "<tf.Tensor: shape=(3, 3), dtype=int32, numpy=\n",
       "array([[0, 0, 0],\n",
       "       [0, 0, 0],\n",
       "       [0, 0, 0]], dtype=int32)>"
      ]
     },
     "execution_count": 59,
     "metadata": {},
     "output_type": "execute_result"
    }
   ],
   "source": [
    "tf.reshape(tf.constant([0]*9),(3,3))"
   ]
  },
  {
   "cell_type": "markdown",
   "id": "bf3f7828-1501-42cf-b282-99cc2a86362a",
   "metadata": {},
   "source": [
    "`-` range(10)"
   ]
  },
  {
   "cell_type": "code",
   "execution_count": 60,
   "id": "d3f52521-45a0-4a49-973f-0297ce1e02f4",
   "metadata": {},
   "outputs": [
    {
     "data": {
      "text/plain": [
       "<tf.Tensor: shape=(12,), dtype=int32, numpy=array([ 0,  1,  2,  3,  4,  5,  6,  7,  8,  9, 10, 11], dtype=int32)>"
      ]
     },
     "execution_count": 60,
     "metadata": {},
     "output_type": "execute_result"
    }
   ],
   "source": [
    "a=range(0,12)\n",
    "tf.constant(a)"
   ]
  },
  {
   "cell_type": "code",
   "execution_count": 61,
   "id": "e3fca386-fb35-44d3-a1fa-c1e3fe9f8b5c",
   "metadata": {},
   "outputs": [
    {
     "data": {
      "text/plain": [
       "<tf.Tensor: shape=(7,), dtype=int32, numpy=array([ 1,  4,  7, 10, 13, 16, 19], dtype=int32)>"
      ]
     },
     "execution_count": 61,
     "metadata": {},
     "output_type": "execute_result"
    }
   ],
   "source": [
    "tf.constant(range(1,20,3))"
   ]
  },
  {
   "cell_type": "markdown",
   "id": "443ffe1e-a66e-41a0-98b0-7dc9e76bf5e9",
   "metadata": {},
   "source": [
    "`-` tf.linspace"
   ]
  },
  {
   "cell_type": "code",
   "execution_count": 62,
   "id": "c2397dff-2fd6-4c86-b71d-f9fa0541fcfd",
   "metadata": {},
   "outputs": [
    {
     "data": {
      "text/plain": [
       "<tf.Tensor: shape=(10,), dtype=float64, numpy=\n",
       "array([0.        , 0.11111111, 0.22222222, 0.33333333, 0.44444444,\n",
       "       0.55555556, 0.66666667, 0.77777778, 0.88888889, 1.        ])>"
      ]
     },
     "execution_count": 62,
     "metadata": {},
     "output_type": "execute_result"
    }
   ],
   "source": [
    "tf.linspace(0,1,10)"
   ]
  },
  {
   "cell_type": "markdown",
   "id": "c30ec661-5c0e-4cb9-95e3-bd305bd9ceb8",
   "metadata": {},
   "source": [
    "#### tf.concat\n",
    "`-` (2,1) concat (2,1) => (2,2)\n",
    "- 두번째 축이 바뀌었다. => axis=1"
   ]
  },
  {
   "cell_type": "code",
   "execution_count": 63,
   "id": "273fc3c0-e424-4e3a-b6bc-23e4bbfd4db3",
   "metadata": {},
   "outputs": [
    {
     "data": {
      "text/plain": [
       "(<tf.Tensor: shape=(2, 1), dtype=int32, numpy=\n",
       " array([[1],\n",
       "        [2]], dtype=int32)>,\n",
       " <tf.Tensor: shape=(2, 1), dtype=int32, numpy=\n",
       " array([[3],\n",
       "        [4]], dtype=int32)>)"
      ]
     },
     "execution_count": 63,
     "metadata": {},
     "output_type": "execute_result"
    }
   ],
   "source": [
    "a=tf.constant([[1],[2]])\n",
    "b=tf.constant([[3],[4]])\n",
    "a,b"
   ]
  },
  {
   "cell_type": "code",
   "execution_count": 64,
   "id": "ee0c0791-a932-4ff0-a654-99ffcc0e0aa5",
   "metadata": {},
   "outputs": [
    {
     "data": {
      "text/plain": [
       "<tf.Tensor: shape=(2, 2), dtype=int32, numpy=\n",
       "array([[1, 3],\n",
       "       [2, 4]], dtype=int32)>"
      ]
     },
     "execution_count": 64,
     "metadata": {},
     "output_type": "execute_result"
    }
   ],
   "source": [
    "tf.concat([a,b],axis=1)"
   ]
  },
  {
   "cell_type": "markdown",
   "id": "77c51d28-e5cf-4734-9b1d-63debf213d5a",
   "metadata": {},
   "source": [
    "`-` (2,1) concat (2,1) => (4,1)\n",
    "- 첫번째 축이 바뀌었다. => axis=0"
   ]
  },
  {
   "cell_type": "code",
   "execution_count": 65,
   "id": "f1236c6e-a288-4b81-ba9f-566c0f67dfc5",
   "metadata": {},
   "outputs": [
    {
     "data": {
      "text/plain": [
       "(<tf.Tensor: shape=(2, 1), dtype=int32, numpy=\n",
       " array([[1],\n",
       "        [2]], dtype=int32)>,\n",
       " <tf.Tensor: shape=(2, 1), dtype=int32, numpy=\n",
       " array([[3],\n",
       "        [4]], dtype=int32)>)"
      ]
     },
     "execution_count": 65,
     "metadata": {},
     "output_type": "execute_result"
    }
   ],
   "source": [
    "a=tf.constant([[1],[2]])\n",
    "b=tf.constant([[3],[4]])\n",
    "a,b"
   ]
  },
  {
   "cell_type": "code",
   "execution_count": 66,
   "id": "be088084-4db0-4222-964c-73eff0d08718",
   "metadata": {},
   "outputs": [
    {
     "data": {
      "text/plain": [
       "<tf.Tensor: shape=(4, 1), dtype=int32, numpy=\n",
       "array([[1],\n",
       "       [2],\n",
       "       [3],\n",
       "       [4]], dtype=int32)>"
      ]
     },
     "execution_count": 66,
     "metadata": {},
     "output_type": "execute_result"
    }
   ],
   "source": [
    "tf.concat([a,b],axis=0)"
   ]
  },
  {
   "cell_type": "markdown",
   "id": "85fd1615-0740-44a1-a7f5-511d8b62c545",
   "metadata": {},
   "source": [
    "`-` (1,2) concat (1,2) => (2,2) \n",
    "- 첫번째 // axis=0"
   ]
  },
  {
   "cell_type": "code",
   "execution_count": 67,
   "id": "792f5b7a-8d86-4844-b88f-c9afc24598b4",
   "metadata": {},
   "outputs": [],
   "source": [
    "a=tf.constant([[1,2]])\n",
    "b=tf.constant([[3,4]])"
   ]
  },
  {
   "cell_type": "code",
   "execution_count": 68,
   "id": "8e1c31e5-daa9-4ac1-8954-a9dbf629d667",
   "metadata": {},
   "outputs": [
    {
     "data": {
      "text/plain": [
       "<tf.Tensor: shape=(2, 2), dtype=int32, numpy=\n",
       "array([[1, 2],\n",
       "       [3, 4]], dtype=int32)>"
      ]
     },
     "execution_count": 68,
     "metadata": {},
     "output_type": "execute_result"
    }
   ],
   "source": [
    "tf.concat([a,b],axis=0)"
   ]
  },
  {
   "cell_type": "markdown",
   "id": "e1cc2a2a-c859-4bbb-9ed7-97089af280a6",
   "metadata": {},
   "source": [
    "`-` (1,2) concat (1,2) => (1,4) \n",
    "- 첫번째 // axis=0"
   ]
  },
  {
   "cell_type": "markdown",
   "id": "e0bc624b-4bc2-427e-b271-15e713eae0e0",
   "metadata": {},
   "source": [
    "`-` (2,3,4,5) concat (2,3,4,5) => (4,3,4,5) \n",
    "- 첫번째 // axis=0"
   ]
  },
  {
   "cell_type": "code",
   "execution_count": 69,
   "id": "8ee17bdb-5f7c-43b2-8bf8-d9d3b1c52bc2",
   "metadata": {},
   "outputs": [],
   "source": [
    "a=tf.reshape(tf.constant(range(120)),(2,3,4,5))\n",
    "b=-a"
   ]
  },
  {
   "cell_type": "code",
   "execution_count": 70,
   "id": "96b8e27e-1d1f-47e1-8445-fb4a18f8c135",
   "metadata": {},
   "outputs": [
    {
     "data": {
      "text/plain": [
       "<tf.Tensor: shape=(4, 3, 4, 5), dtype=int32, numpy=\n",
       "array([[[[   0,    1,    2,    3,    4],\n",
       "         [   5,    6,    7,    8,    9],\n",
       "         [  10,   11,   12,   13,   14],\n",
       "         [  15,   16,   17,   18,   19]],\n",
       "\n",
       "        [[  20,   21,   22,   23,   24],\n",
       "         [  25,   26,   27,   28,   29],\n",
       "         [  30,   31,   32,   33,   34],\n",
       "         [  35,   36,   37,   38,   39]],\n",
       "\n",
       "        [[  40,   41,   42,   43,   44],\n",
       "         [  45,   46,   47,   48,   49],\n",
       "         [  50,   51,   52,   53,   54],\n",
       "         [  55,   56,   57,   58,   59]]],\n",
       "\n",
       "\n",
       "       [[[  60,   61,   62,   63,   64],\n",
       "         [  65,   66,   67,   68,   69],\n",
       "         [  70,   71,   72,   73,   74],\n",
       "         [  75,   76,   77,   78,   79]],\n",
       "\n",
       "        [[  80,   81,   82,   83,   84],\n",
       "         [  85,   86,   87,   88,   89],\n",
       "         [  90,   91,   92,   93,   94],\n",
       "         [  95,   96,   97,   98,   99]],\n",
       "\n",
       "        [[ 100,  101,  102,  103,  104],\n",
       "         [ 105,  106,  107,  108,  109],\n",
       "         [ 110,  111,  112,  113,  114],\n",
       "         [ 115,  116,  117,  118,  119]]],\n",
       "\n",
       "\n",
       "       [[[   0,   -1,   -2,   -3,   -4],\n",
       "         [  -5,   -6,   -7,   -8,   -9],\n",
       "         [ -10,  -11,  -12,  -13,  -14],\n",
       "         [ -15,  -16,  -17,  -18,  -19]],\n",
       "\n",
       "        [[ -20,  -21,  -22,  -23,  -24],\n",
       "         [ -25,  -26,  -27,  -28,  -29],\n",
       "         [ -30,  -31,  -32,  -33,  -34],\n",
       "         [ -35,  -36,  -37,  -38,  -39]],\n",
       "\n",
       "        [[ -40,  -41,  -42,  -43,  -44],\n",
       "         [ -45,  -46,  -47,  -48,  -49],\n",
       "         [ -50,  -51,  -52,  -53,  -54],\n",
       "         [ -55,  -56,  -57,  -58,  -59]]],\n",
       "\n",
       "\n",
       "       [[[ -60,  -61,  -62,  -63,  -64],\n",
       "         [ -65,  -66,  -67,  -68,  -69],\n",
       "         [ -70,  -71,  -72,  -73,  -74],\n",
       "         [ -75,  -76,  -77,  -78,  -79]],\n",
       "\n",
       "        [[ -80,  -81,  -82,  -83,  -84],\n",
       "         [ -85,  -86,  -87,  -88,  -89],\n",
       "         [ -90,  -91,  -92,  -93,  -94],\n",
       "         [ -95,  -96,  -97,  -98,  -99]],\n",
       "\n",
       "        [[-100, -101, -102, -103, -104],\n",
       "         [-105, -106, -107, -108, -109],\n",
       "         [-110, -111, -112, -113, -114],\n",
       "         [-115, -116, -117, -118, -119]]]], dtype=int32)>"
      ]
     },
     "execution_count": 70,
     "metadata": {},
     "output_type": "execute_result"
    }
   ],
   "source": [
    "tf.concat([a,b],axis=0)"
   ]
  },
  {
   "cell_type": "markdown",
   "id": "2a1eabe4-1ed1-461a-9131-561feb229433",
   "metadata": {},
   "source": [
    "`-` (2,3,4,5) concat (2,3,4,5) => (2,6,4,5) \n",
    "- 두번째 // axis=1"
   ]
  },
  {
   "cell_type": "code",
   "execution_count": 71,
   "id": "1dec5a73-7502-4091-8f27-1fe01fb059ab",
   "metadata": {},
   "outputs": [],
   "source": [
    "a=tf.reshape(tf.constant(range(120)),(2,3,4,5))\n",
    "b=-a"
   ]
  },
  {
   "cell_type": "code",
   "execution_count": 72,
   "id": "088f8bf7-ae67-4c55-ab8c-60db46f540d7",
   "metadata": {},
   "outputs": [
    {
     "data": {
      "text/plain": [
       "<tf.Tensor: shape=(2, 6, 4, 5), dtype=int32, numpy=\n",
       "array([[[[   0,    1,    2,    3,    4],\n",
       "         [   5,    6,    7,    8,    9],\n",
       "         [  10,   11,   12,   13,   14],\n",
       "         [  15,   16,   17,   18,   19]],\n",
       "\n",
       "        [[  20,   21,   22,   23,   24],\n",
       "         [  25,   26,   27,   28,   29],\n",
       "         [  30,   31,   32,   33,   34],\n",
       "         [  35,   36,   37,   38,   39]],\n",
       "\n",
       "        [[  40,   41,   42,   43,   44],\n",
       "         [  45,   46,   47,   48,   49],\n",
       "         [  50,   51,   52,   53,   54],\n",
       "         [  55,   56,   57,   58,   59]],\n",
       "\n",
       "        [[   0,   -1,   -2,   -3,   -4],\n",
       "         [  -5,   -6,   -7,   -8,   -9],\n",
       "         [ -10,  -11,  -12,  -13,  -14],\n",
       "         [ -15,  -16,  -17,  -18,  -19]],\n",
       "\n",
       "        [[ -20,  -21,  -22,  -23,  -24],\n",
       "         [ -25,  -26,  -27,  -28,  -29],\n",
       "         [ -30,  -31,  -32,  -33,  -34],\n",
       "         [ -35,  -36,  -37,  -38,  -39]],\n",
       "\n",
       "        [[ -40,  -41,  -42,  -43,  -44],\n",
       "         [ -45,  -46,  -47,  -48,  -49],\n",
       "         [ -50,  -51,  -52,  -53,  -54],\n",
       "         [ -55,  -56,  -57,  -58,  -59]]],\n",
       "\n",
       "\n",
       "       [[[  60,   61,   62,   63,   64],\n",
       "         [  65,   66,   67,   68,   69],\n",
       "         [  70,   71,   72,   73,   74],\n",
       "         [  75,   76,   77,   78,   79]],\n",
       "\n",
       "        [[  80,   81,   82,   83,   84],\n",
       "         [  85,   86,   87,   88,   89],\n",
       "         [  90,   91,   92,   93,   94],\n",
       "         [  95,   96,   97,   98,   99]],\n",
       "\n",
       "        [[ 100,  101,  102,  103,  104],\n",
       "         [ 105,  106,  107,  108,  109],\n",
       "         [ 110,  111,  112,  113,  114],\n",
       "         [ 115,  116,  117,  118,  119]],\n",
       "\n",
       "        [[ -60,  -61,  -62,  -63,  -64],\n",
       "         [ -65,  -66,  -67,  -68,  -69],\n",
       "         [ -70,  -71,  -72,  -73,  -74],\n",
       "         [ -75,  -76,  -77,  -78,  -79]],\n",
       "\n",
       "        [[ -80,  -81,  -82,  -83,  -84],\n",
       "         [ -85,  -86,  -87,  -88,  -89],\n",
       "         [ -90,  -91,  -92,  -93,  -94],\n",
       "         [ -95,  -96,  -97,  -98,  -99]],\n",
       "\n",
       "        [[-100, -101, -102, -103, -104],\n",
       "         [-105, -106, -107, -108, -109],\n",
       "         [-110, -111, -112, -113, -114],\n",
       "         [-115, -116, -117, -118, -119]]]], dtype=int32)>"
      ]
     },
     "execution_count": 72,
     "metadata": {},
     "output_type": "execute_result"
    }
   ],
   "source": [
    "tf.concat([a,b],axis=1)"
   ]
  },
  {
   "cell_type": "markdown",
   "id": "db8eb487-63f6-436b-a85f-a48bfc028dfa",
   "metadata": {},
   "source": [
    "`-` (2,3,4,5) concat (2,3,4,5) => (2,3,8,5) \n",
    "- 세번째 // axis=2"
   ]
  },
  {
   "cell_type": "code",
   "execution_count": 73,
   "id": "3758aa75-d30a-428b-9c8b-74ba1a6e6325",
   "metadata": {},
   "outputs": [],
   "source": [
    "a=tf.reshape(tf.constant(range(120)),(2,3,4,5))\n",
    "b=-a"
   ]
  },
  {
   "cell_type": "code",
   "execution_count": 74,
   "id": "c725f548-f392-44ee-8de2-b13f8a71d330",
   "metadata": {},
   "outputs": [
    {
     "data": {
      "text/plain": [
       "<tf.Tensor: shape=(2, 3, 8, 5), dtype=int32, numpy=\n",
       "array([[[[   0,    1,    2,    3,    4],\n",
       "         [   5,    6,    7,    8,    9],\n",
       "         [  10,   11,   12,   13,   14],\n",
       "         [  15,   16,   17,   18,   19],\n",
       "         [   0,   -1,   -2,   -3,   -4],\n",
       "         [  -5,   -6,   -7,   -8,   -9],\n",
       "         [ -10,  -11,  -12,  -13,  -14],\n",
       "         [ -15,  -16,  -17,  -18,  -19]],\n",
       "\n",
       "        [[  20,   21,   22,   23,   24],\n",
       "         [  25,   26,   27,   28,   29],\n",
       "         [  30,   31,   32,   33,   34],\n",
       "         [  35,   36,   37,   38,   39],\n",
       "         [ -20,  -21,  -22,  -23,  -24],\n",
       "         [ -25,  -26,  -27,  -28,  -29],\n",
       "         [ -30,  -31,  -32,  -33,  -34],\n",
       "         [ -35,  -36,  -37,  -38,  -39]],\n",
       "\n",
       "        [[  40,   41,   42,   43,   44],\n",
       "         [  45,   46,   47,   48,   49],\n",
       "         [  50,   51,   52,   53,   54],\n",
       "         [  55,   56,   57,   58,   59],\n",
       "         [ -40,  -41,  -42,  -43,  -44],\n",
       "         [ -45,  -46,  -47,  -48,  -49],\n",
       "         [ -50,  -51,  -52,  -53,  -54],\n",
       "         [ -55,  -56,  -57,  -58,  -59]]],\n",
       "\n",
       "\n",
       "       [[[  60,   61,   62,   63,   64],\n",
       "         [  65,   66,   67,   68,   69],\n",
       "         [  70,   71,   72,   73,   74],\n",
       "         [  75,   76,   77,   78,   79],\n",
       "         [ -60,  -61,  -62,  -63,  -64],\n",
       "         [ -65,  -66,  -67,  -68,  -69],\n",
       "         [ -70,  -71,  -72,  -73,  -74],\n",
       "         [ -75,  -76,  -77,  -78,  -79]],\n",
       "\n",
       "        [[  80,   81,   82,   83,   84],\n",
       "         [  85,   86,   87,   88,   89],\n",
       "         [  90,   91,   92,   93,   94],\n",
       "         [  95,   96,   97,   98,   99],\n",
       "         [ -80,  -81,  -82,  -83,  -84],\n",
       "         [ -85,  -86,  -87,  -88,  -89],\n",
       "         [ -90,  -91,  -92,  -93,  -94],\n",
       "         [ -95,  -96,  -97,  -98,  -99]],\n",
       "\n",
       "        [[ 100,  101,  102,  103,  104],\n",
       "         [ 105,  106,  107,  108,  109],\n",
       "         [ 110,  111,  112,  113,  114],\n",
       "         [ 115,  116,  117,  118,  119],\n",
       "         [-100, -101, -102, -103, -104],\n",
       "         [-105, -106, -107, -108, -109],\n",
       "         [-110, -111, -112, -113, -114],\n",
       "         [-115, -116, -117, -118, -119]]]], dtype=int32)>"
      ]
     },
     "execution_count": 74,
     "metadata": {},
     "output_type": "execute_result"
    }
   ],
   "source": [
    "tf.concat([a,b],axis=2)"
   ]
  },
  {
   "cell_type": "markdown",
   "id": "53c942d7-c86c-4046-85ec-963a0c9e9ab9",
   "metadata": {},
   "source": [
    "`-` (2,3,4,5) concat (2,3,4,5) => (2,3,4,10) \n",
    "- 네번째 // axis=3 # 0,1,2,3 // -4 -3 -2 -1"
   ]
  },
  {
   "cell_type": "code",
   "execution_count": 75,
   "id": "5633f98d-89eb-433d-bcda-8a20ba8967d8",
   "metadata": {},
   "outputs": [],
   "source": [
    "a=tf.reshape(tf.constant(range(120)),(2,3,4,5))\n",
    "b=-a"
   ]
  },
  {
   "cell_type": "code",
   "execution_count": 76,
   "id": "7c940a09-2204-43ed-bc2a-0b22968c8a30",
   "metadata": {},
   "outputs": [
    {
     "data": {
      "text/plain": [
       "<tf.Tensor: shape=(2, 3, 4, 10), dtype=int32, numpy=\n",
       "array([[[[   0,    1,    2,    3,    4,    0,   -1,   -2,   -3,   -4],\n",
       "         [   5,    6,    7,    8,    9,   -5,   -6,   -7,   -8,   -9],\n",
       "         [  10,   11,   12,   13,   14,  -10,  -11,  -12,  -13,  -14],\n",
       "         [  15,   16,   17,   18,   19,  -15,  -16,  -17,  -18,  -19]],\n",
       "\n",
       "        [[  20,   21,   22,   23,   24,  -20,  -21,  -22,  -23,  -24],\n",
       "         [  25,   26,   27,   28,   29,  -25,  -26,  -27,  -28,  -29],\n",
       "         [  30,   31,   32,   33,   34,  -30,  -31,  -32,  -33,  -34],\n",
       "         [  35,   36,   37,   38,   39,  -35,  -36,  -37,  -38,  -39]],\n",
       "\n",
       "        [[  40,   41,   42,   43,   44,  -40,  -41,  -42,  -43,  -44],\n",
       "         [  45,   46,   47,   48,   49,  -45,  -46,  -47,  -48,  -49],\n",
       "         [  50,   51,   52,   53,   54,  -50,  -51,  -52,  -53,  -54],\n",
       "         [  55,   56,   57,   58,   59,  -55,  -56,  -57,  -58,  -59]]],\n",
       "\n",
       "\n",
       "       [[[  60,   61,   62,   63,   64,  -60,  -61,  -62,  -63,  -64],\n",
       "         [  65,   66,   67,   68,   69,  -65,  -66,  -67,  -68,  -69],\n",
       "         [  70,   71,   72,   73,   74,  -70,  -71,  -72,  -73,  -74],\n",
       "         [  75,   76,   77,   78,   79,  -75,  -76,  -77,  -78,  -79]],\n",
       "\n",
       "        [[  80,   81,   82,   83,   84,  -80,  -81,  -82,  -83,  -84],\n",
       "         [  85,   86,   87,   88,   89,  -85,  -86,  -87,  -88,  -89],\n",
       "         [  90,   91,   92,   93,   94,  -90,  -91,  -92,  -93,  -94],\n",
       "         [  95,   96,   97,   98,   99,  -95,  -96,  -97,  -98,  -99]],\n",
       "\n",
       "        [[ 100,  101,  102,  103,  104, -100, -101, -102, -103, -104],\n",
       "         [ 105,  106,  107,  108,  109, -105, -106, -107, -108, -109],\n",
       "         [ 110,  111,  112,  113,  114, -110, -111, -112, -113, -114],\n",
       "         [ 115,  116,  117,  118,  119, -115, -116, -117, -118, -119]]]],\n",
       "      dtype=int32)>"
      ]
     },
     "execution_count": 76,
     "metadata": {},
     "output_type": "execute_result"
    }
   ],
   "source": [
    "tf.concat([a,b],axis=-1)"
   ]
  },
  {
   "cell_type": "markdown",
   "id": "57d7a27f-a53b-495f-81de-66f83abed496",
   "metadata": {},
   "source": [
    "`-` (4,) concat (4,) => (8,)\n",
    "- 첫번째축? // axis=0"
   ]
  },
  {
   "cell_type": "code",
   "execution_count": 77,
   "id": "d0ce0979-a25d-487e-ba29-19e646609a4f",
   "metadata": {},
   "outputs": [
    {
     "data": {
      "text/plain": [
       "(<tf.Tensor: shape=(4,), dtype=int32, numpy=array([1, 2, 3, 4], dtype=int32)>,\n",
       " <tf.Tensor: shape=(4,), dtype=int32, numpy=array([-1, -2, -3, -4], dtype=int32)>)"
      ]
     },
     "execution_count": 77,
     "metadata": {},
     "output_type": "execute_result"
    }
   ],
   "source": [
    "a=tf.constant([1,2,3,4])\n",
    "b=-a \n",
    "a,b"
   ]
  },
  {
   "cell_type": "code",
   "execution_count": 78,
   "id": "972fe33b-628f-4381-9be3-b5dae6c58d72",
   "metadata": {},
   "outputs": [
    {
     "data": {
      "text/plain": [
       "<tf.Tensor: shape=(8,), dtype=int32, numpy=array([ 1,  2,  3,  4, -1, -2, -3, -4], dtype=int32)>"
      ]
     },
     "execution_count": 78,
     "metadata": {},
     "output_type": "execute_result"
    }
   ],
   "source": [
    "tf.concat([a,b],axis=0)"
   ]
  },
  {
   "cell_type": "markdown",
   "id": "61496422-e787-41c1-bbf0-feefd4d37357",
   "metadata": {},
   "source": [
    "`-` (4,) concat (4,) => (4,2) \n",
    "- 두번째축? // axis=1 ==> 이런거없다.."
   ]
  },
  {
   "cell_type": "code",
   "execution_count": 79,
   "id": "526c8cd3-7ecc-49de-b238-23c6cf304f0a",
   "metadata": {},
   "outputs": [
    {
     "data": {
      "text/plain": [
       "(<tf.Tensor: shape=(4,), dtype=int32, numpy=array([1, 2, 3, 4], dtype=int32)>,\n",
       " <tf.Tensor: shape=(4,), dtype=int32, numpy=array([-1, -2, -3, -4], dtype=int32)>)"
      ]
     },
     "execution_count": 79,
     "metadata": {},
     "output_type": "execute_result"
    }
   ],
   "source": [
    "a=tf.constant([1,2,3,4])\n",
    "b=-a \n",
    "a,b"
   ]
  },
  {
   "cell_type": "code",
   "execution_count": 80,
   "id": "350d3df6-8a3b-446a-981a-9243561bc961",
   "metadata": {},
   "outputs": [
    {
     "ename": "InvalidArgumentError",
     "evalue": "ConcatOp : Expected concatenating dimensions in the range [-1, 1), but got 1 [Op:ConcatV2] name: concat",
     "output_type": "error",
     "traceback": [
      "\u001b[0;31m---------------------------------------------------------------------------\u001b[0m",
      "\u001b[0;31mInvalidArgumentError\u001b[0m                      Traceback (most recent call last)",
      "Input \u001b[0;32mIn [80]\u001b[0m, in \u001b[0;36m<cell line: 1>\u001b[0;34m()\u001b[0m\n\u001b[0;32m----> 1\u001b[0m \u001b[43mtf\u001b[49m\u001b[38;5;241;43m.\u001b[39;49m\u001b[43mconcat\u001b[49m\u001b[43m(\u001b[49m\u001b[43m[\u001b[49m\u001b[43ma\u001b[49m\u001b[43m,\u001b[49m\u001b[43mb\u001b[49m\u001b[43m]\u001b[49m\u001b[43m,\u001b[49m\u001b[43maxis\u001b[49m\u001b[38;5;241;43m=\u001b[39;49m\u001b[38;5;241;43m1\u001b[39;49m\u001b[43m)\u001b[49m\n",
      "File \u001b[0;32m~/anaconda3/envs/py310/lib/python3.10/site-packages/tensorflow/python/util/traceback_utils.py:153\u001b[0m, in \u001b[0;36mfilter_traceback.<locals>.error_handler\u001b[0;34m(*args, **kwargs)\u001b[0m\n\u001b[1;32m    151\u001b[0m \u001b[38;5;28;01mexcept\u001b[39;00m \u001b[38;5;167;01mException\u001b[39;00m \u001b[38;5;28;01mas\u001b[39;00m e:\n\u001b[1;32m    152\u001b[0m   filtered_tb \u001b[38;5;241m=\u001b[39m _process_traceback_frames(e\u001b[38;5;241m.\u001b[39m__traceback__)\n\u001b[0;32m--> 153\u001b[0m   \u001b[38;5;28;01mraise\u001b[39;00m e\u001b[38;5;241m.\u001b[39mwith_traceback(filtered_tb) \u001b[38;5;28;01mfrom\u001b[39;00m \u001b[38;5;28mNone\u001b[39m\n\u001b[1;32m    154\u001b[0m \u001b[38;5;28;01mfinally\u001b[39;00m:\n\u001b[1;32m    155\u001b[0m   \u001b[38;5;28;01mdel\u001b[39;00m filtered_tb\n",
      "File \u001b[0;32m~/anaconda3/envs/py310/lib/python3.10/site-packages/tensorflow/python/framework/ops.py:7107\u001b[0m, in \u001b[0;36mraise_from_not_ok_status\u001b[0;34m(e, name)\u001b[0m\n\u001b[1;32m   7105\u001b[0m \u001b[38;5;28;01mdef\u001b[39;00m \u001b[38;5;21mraise_from_not_ok_status\u001b[39m(e, name):\n\u001b[1;32m   7106\u001b[0m   e\u001b[38;5;241m.\u001b[39mmessage \u001b[38;5;241m+\u001b[39m\u001b[38;5;241m=\u001b[39m (\u001b[38;5;124m\"\u001b[39m\u001b[38;5;124m name: \u001b[39m\u001b[38;5;124m\"\u001b[39m \u001b[38;5;241m+\u001b[39m name \u001b[38;5;28;01mif\u001b[39;00m name \u001b[38;5;129;01mis\u001b[39;00m \u001b[38;5;129;01mnot\u001b[39;00m \u001b[38;5;28;01mNone\u001b[39;00m \u001b[38;5;28;01melse\u001b[39;00m \u001b[38;5;124m\"\u001b[39m\u001b[38;5;124m\"\u001b[39m)\n\u001b[0;32m-> 7107\u001b[0m   \u001b[38;5;28;01mraise\u001b[39;00m core\u001b[38;5;241m.\u001b[39m_status_to_exception(e) \u001b[38;5;28;01mfrom\u001b[39;00m \u001b[38;5;28mNone\u001b[39m\n",
      "\u001b[0;31mInvalidArgumentError\u001b[0m: ConcatOp : Expected concatenating dimensions in the range [-1, 1), but got 1 [Op:ConcatV2] name: concat"
     ]
    }
   ],
   "source": [
    "tf.concat([a,b],axis=1)"
   ]
  },
  {
   "cell_type": "markdown",
   "id": "6a4ea234-cb90-4896-975b-e4367ac2d74e",
   "metadata": {},
   "source": [
    "#### tf.stack "
   ]
  },
  {
   "cell_type": "code",
   "execution_count": 81,
   "id": "a073a0fb-085d-4630-8aaa-51b8e4e7f926",
   "metadata": {},
   "outputs": [
    {
     "data": {
      "text/plain": [
       "(<tf.Tensor: shape=(4,), dtype=int32, numpy=array([1, 2, 3, 4], dtype=int32)>,\n",
       " <tf.Tensor: shape=(4,), dtype=int32, numpy=array([-1, -2, -3, -4], dtype=int32)>)"
      ]
     },
     "execution_count": 81,
     "metadata": {},
     "output_type": "execute_result"
    }
   ],
   "source": [
    "a=tf.constant([1,2,3,4])\n",
    "b=-a \n",
    "a,b"
   ]
  },
  {
   "cell_type": "code",
   "execution_count": 82,
   "id": "1b9ec082-cb6b-44d4-8204-e5c770735444",
   "metadata": {},
   "outputs": [
    {
     "data": {
      "text/plain": [
       "<tf.Tensor: shape=(2, 4), dtype=int32, numpy=\n",
       "array([[ 1,  2,  3,  4],\n",
       "       [-1, -2, -3, -4]], dtype=int32)>"
      ]
     },
     "execution_count": 82,
     "metadata": {},
     "output_type": "execute_result"
    }
   ],
   "source": [
    "tf.stack([a,b],axis=0)"
   ]
  },
  {
   "cell_type": "code",
   "execution_count": 83,
   "id": "13a73aab-3be7-40e3-9e63-661390104456",
   "metadata": {},
   "outputs": [
    {
     "data": {
      "text/plain": [
       "<tf.Tensor: shape=(4, 2), dtype=int32, numpy=\n",
       "array([[ 1, -1],\n",
       "       [ 2, -2],\n",
       "       [ 3, -3],\n",
       "       [ 4, -4]], dtype=int32)>"
      ]
     },
     "execution_count": 83,
     "metadata": {},
     "output_type": "execute_result"
    }
   ],
   "source": [
    "tf.stack([a,b],axis=1)"
   ]
  },
  {
   "cell_type": "markdown",
   "id": "0162e5b4-34b8-4212-acb2-00b83c9217e9",
   "metadata": {},
   "source": [
    "### tnp\n",
    "`-` tf는 넘파이에 비하여 텐서만들기가 너무힘듬"
   ]
  },
  {
   "cell_type": "code",
   "execution_count": 84,
   "id": "6b5cca4c-629c-48e6-a9e4-8798a08c9623",
   "metadata": {},
   "outputs": [
    {
     "data": {
      "text/plain": [
       "array([1, 0, 0, 0, 2, 0, 0, 0, 3])"
      ]
     },
     "execution_count": 84,
     "metadata": {},
     "output_type": "execute_result"
    }
   ],
   "source": [
    "np.diag([1,2,3]).reshape(-1)"
   ]
  },
  {
   "cell_type": "markdown",
   "id": "8b5859ad-4069-4f83-a5ac-994e888ef8f1",
   "metadata": {},
   "source": [
    "- 넘파이는 이런식으로 `np.diag()`도 쓸수 있고 reshape을 메소드로 쓸 수도 있는데...\n",
    "#### tnp 사용방법 (불만해결방법)"
   ]
  },
  {
   "cell_type": "code",
   "execution_count": 85,
   "id": "606c3c21-bc04-426f-964f-e654ea502fc8",
   "metadata": {},
   "outputs": [],
   "source": [
    "import tensorflow.experimental.numpy as tnp\n",
    "tnp.experimental_enable_numpy_behavior()"
   ]
  },
  {
   "cell_type": "code",
   "execution_count": 86,
   "id": "280b9cb0-baf1-48ba-b661-4134c51e9925",
   "metadata": {},
   "outputs": [
    {
     "data": {
      "text/plain": [
       "tensorflow.python.framework.ops.EagerTensor"
      ]
     },
     "execution_count": 86,
     "metadata": {},
     "output_type": "execute_result"
    }
   ],
   "source": [
    "type(tnp.array([1,2,3]))"
   ]
  },
  {
   "cell_type": "markdown",
   "id": "85b91496-ffe4-409e-b83f-769d1a39c065",
   "metadata": {},
   "source": [
    "`-` int와 float을 더할 수 있음"
   ]
  },
  {
   "cell_type": "code",
   "execution_count": 87,
   "id": "efb70c10-3b71-424f-9c8e-8d8a3cf9cce4",
   "metadata": {},
   "outputs": [
    {
     "data": {
      "text/plain": [
       "<tf.Tensor: shape=(3,), dtype=float64, numpy=array([2., 4., 6.])>"
      ]
     },
     "execution_count": 87,
     "metadata": {},
     "output_type": "execute_result"
    }
   ],
   "source": [
    "tnp.array([1,2,3])+tnp.array([1.0,2.0,3.0])"
   ]
  },
  {
   "cell_type": "code",
   "execution_count": 88,
   "id": "c69a6d44-b36e-41e9-81c6-7401c45fd096",
   "metadata": {},
   "outputs": [
    {
     "data": {
      "text/plain": [
       "<tf.Tensor: shape=(3,), dtype=float64, numpy=array([2., 4., 6.])>"
      ]
     },
     "execution_count": 88,
     "metadata": {},
     "output_type": "execute_result"
    }
   ],
   "source": [
    "tf.constant([1,2,3])+tf.constant([1.0,2.0,3.0])"
   ]
  },
  {
   "cell_type": "code",
   "execution_count": 89,
   "id": "51d5c49a-589e-4200-8186-30d67bd4200f",
   "metadata": {},
   "outputs": [
    {
     "data": {
      "text/plain": [
       "<tf.Tensor: shape=(3,), dtype=float64, numpy=array([2., 3., 4.])>"
      ]
     },
     "execution_count": 89,
     "metadata": {},
     "output_type": "execute_result"
    }
   ],
   "source": [
    "tnp.array(1)+tnp.array([1.0,2.0,3.0])"
   ]
  },
  {
   "cell_type": "code",
   "execution_count": 90,
   "id": "9698a3d6-e27d-4108-b916-795031538bdd",
   "metadata": {},
   "outputs": [
    {
     "data": {
      "text/plain": [
       "<tf.Tensor: shape=(3, 3), dtype=int64, numpy=\n",
       "array([[1, 0, 0],\n",
       "       [0, 2, 0],\n",
       "       [0, 0, 3]])>"
      ]
     },
     "execution_count": 90,
     "metadata": {},
     "output_type": "execute_result"
    }
   ],
   "source": [
    "tnp.diag([1,2,3])"
   ]
  },
  {
   "cell_type": "code",
   "execution_count": 91,
   "id": "e4e89557-d8d0-41df-b243-af1605793ad8",
   "metadata": {},
   "outputs": [
    {
     "data": {
      "text/plain": [
       "tensorflow.python.framework.ops.EagerTensor"
      ]
     },
     "execution_count": 91,
     "metadata": {},
     "output_type": "execute_result"
    }
   ],
   "source": [
    "a=tnp.diag([1,2,3])\n",
    "type(a)"
   ]
  },
  {
   "cell_type": "code",
   "execution_count": 92,
   "id": "3f2fb6fd-5ded-42e2-99c9-e6c2a6d1c8bb",
   "metadata": {},
   "outputs": [
    {
     "data": {
      "text/plain": [
       "<tf.Tensor: shape=(3, 1), dtype=int32, numpy=\n",
       "array([[1],\n",
       "       [2],\n",
       "       [3]], dtype=int32)>"
      ]
     },
     "execution_count": 92,
     "metadata": {},
     "output_type": "execute_result"
    }
   ],
   "source": [
    "a=tf.constant([1,2,3])\n",
    "a.reshape(3,1)"
   ]
  },
  {
   "cell_type": "markdown",
   "id": "9fc9f7ab-b9ae-4466-bf76-2133d8ede272",
   "metadata": {},
   "source": [
    "#### 선언고급"
   ]
  },
  {
   "cell_type": "code",
   "execution_count": 93,
   "id": "96d2a58b-69dc-40dc-a239-0630971eab39",
   "metadata": {},
   "outputs": [
    {
     "data": {
      "text/plain": [
       "array([-0.26554076,  0.93945129, -1.12311997, -0.89946852, -0.72582148])"
      ]
     },
     "execution_count": 93,
     "metadata": {},
     "output_type": "execute_result"
    }
   ],
   "source": [
    "np.random.randn(5)"
   ]
  },
  {
   "cell_type": "code",
   "execution_count": 94,
   "id": "e6d27331-282a-4a7c-a9e2-18fb9148bd9a",
   "metadata": {},
   "outputs": [
    {
     "data": {
      "text/plain": [
       "<tf.Tensor: shape=(5,), dtype=float64, numpy=array([-0.00898484,  0.31565541,  1.12455947,  0.44374772,  0.77793125])>"
      ]
     },
     "execution_count": 94,
     "metadata": {},
     "output_type": "execute_result"
    }
   ],
   "source": [
    "tnp.random.randn(5) # 넘파이가 되면 나도 된다."
   ]
  },
  {
   "cell_type": "markdown",
   "id": "8f798470-637a-4629-81e9-5c333ba33d3f",
   "metadata": {},
   "source": [
    "#### 타입"
   ]
  },
  {
   "cell_type": "code",
   "execution_count": 95,
   "id": "622cd896-76ad-4a9d-aa20-a552621be47b",
   "metadata": {},
   "outputs": [
    {
     "data": {
      "text/plain": [
       "tensorflow.python.framework.ops.EagerTensor"
      ]
     },
     "execution_count": 95,
     "metadata": {},
     "output_type": "execute_result"
    }
   ],
   "source": [
    "type(tnp.random.randn(5))"
   ]
  },
  {
   "cell_type": "markdown",
   "id": "559d0d17-0783-416b-805f-4bb11203a590",
   "metadata": {},
   "source": [
    "#### tf.contant로 만들어도 마치 넘파이인듯 쓰는 기능들\n",
    "`-` 묵시적형변환이 가능"
   ]
  },
  {
   "cell_type": "code",
   "execution_count": 96,
   "id": "d8895a79-388c-4fe7-b4ec-12ccf9299489",
   "metadata": {},
   "outputs": [
    {
     "data": {
      "text/plain": [
       "<tf.Tensor: shape=(2,), dtype=float64, numpy=array([3.20000005, 4.29999995])>"
      ]
     },
     "execution_count": 96,
     "metadata": {},
     "output_type": "execute_result"
    }
   ],
   "source": [
    "tf.constant([1,1])+tf.constant([2.2,3.3])"
   ]
  },
  {
   "cell_type": "markdown",
   "id": "0981a890-fcb5-4c52-a315-a5e3e5a1bd03",
   "metadata": {},
   "source": [
    "`-` 메소드를 쓸수 있음. "
   ]
  },
  {
   "cell_type": "code",
   "execution_count": 97,
   "id": "7679db7f-ba60-485b-b9c0-5c197252d686",
   "metadata": {},
   "outputs": [
    {
     "data": {
      "text/plain": [
       "<tf.Tensor: shape=(4, 1), dtype=int64, numpy=\n",
       "array([[1],\n",
       "       [2],\n",
       "       [3],\n",
       "       [4]])>"
      ]
     },
     "execution_count": 97,
     "metadata": {},
     "output_type": "execute_result"
    }
   ],
   "source": [
    "a= tnp.array([[1,2,3,4]])\n",
    "a.T"
   ]
  },
  {
   "cell_type": "markdown",
   "id": "16430580-fd62-4e54-ae0e-3e2dfba294ee",
   "metadata": {},
   "source": [
    "#### 그렇지만 np.array는 아님\n",
    "`-` 원소를 할당하는것은 불가능"
   ]
  },
  {
   "cell_type": "code",
   "execution_count": 98,
   "id": "a24716bd-2b8a-4b25-8220-2345b8a217b5",
   "metadata": {},
   "outputs": [
    {
     "data": {
      "text/plain": [
       "<tf.Tensor: shape=(3,), dtype=int32, numpy=array([1, 2, 3], dtype=int32)>"
      ]
     },
     "execution_count": 98,
     "metadata": {},
     "output_type": "execute_result"
    }
   ],
   "source": [
    "a=tf.constant([1,2,3])\n",
    "a"
   ]
  },
  {
   "cell_type": "code",
   "execution_count": 99,
   "id": "3f7432a0-c4e0-42fd-976d-b3e8f53fb305",
   "metadata": {},
   "outputs": [
    {
     "ename": "TypeError",
     "evalue": "'tensorflow.python.framework.ops.EagerTensor' object does not support item assignment",
     "output_type": "error",
     "traceback": [
      "\u001b[0;31m---------------------------------------------------------------------------\u001b[0m",
      "\u001b[0;31mTypeError\u001b[0m                                 Traceback (most recent call last)",
      "Input \u001b[0;32mIn [99]\u001b[0m, in \u001b[0;36m<cell line: 1>\u001b[0;34m()\u001b[0m\n\u001b[0;32m----> 1\u001b[0m a[\u001b[38;5;241m0\u001b[39m]\u001b[38;5;241m=\u001b[39m\u001b[38;5;241m11\u001b[39m\n",
      "\u001b[0;31mTypeError\u001b[0m: 'tensorflow.python.framework.ops.EagerTensor' object does not support item assignment"
     ]
    }
   ],
   "source": [
    "a[0]=11"
   ]
  }
 ],
 "metadata": {
  "kernelspec": {
   "display_name": "Python 3 (ipykernel)",
   "language": "python",
   "name": "python3"
  },
  "language_info": {
   "codemirror_mode": {
    "name": "ipython",
    "version": 3
   },
   "file_extension": ".py",
   "mimetype": "text/x-python",
   "name": "python",
   "nbconvert_exporter": "python",
   "pygments_lexer": "ipython3",
   "version": "3.10.0"
  }
 },
 "nbformat": 4,
 "nbformat_minor": 5
}
