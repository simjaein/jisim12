{
 "cells": [
  {
   "cell_type": "markdown",
   "id": "5acd4c21-26a4-45b8-ae20-33045da01c8d",
   "metadata": {
    "tags": []
   },
   "source": [
    "# python을 이용한 고유값과 고유벡터 문제풀이\n",
    "> 선형대수학 \n",
    "\n",
    "- toc:false\n",
    "- branch: master\n",
    "- badges: true\n",
    "- comments: true\n",
    "- author: 심재인"
   ]
  },
  {
   "cell_type": "markdown",
   "id": "d7329f40-dbb9-4428-9483-c49971543192",
   "metadata": {},
   "source": [
    "> 선형대수학"
   ]
  },
  {
   "cell_type": "code",
   "execution_count": 1,
   "id": "79d81b65-4c7e-4437-8f63-79081b3d7a49",
   "metadata": {},
   "outputs": [],
   "source": [
    "import numpy as np\n",
    "import numpy.linalg as lin"
   ]
  },
  {
   "cell_type": "markdown",
   "id": "ba78cc47-6252-4651-b571-91a3af4df921",
   "metadata": {},
   "source": [
    "### 1.\n",
    "$A$ = $\\left[\\begin{array}{rrr} \n",
    "0&1\\\\\n",
    "1&0\\\\\n",
    "\\end{array}\\right]$ 의 고유값과 고유벡터를 구해라."
   ]
  },
  {
   "cell_type": "code",
   "execution_count": 2,
   "id": "f118ac44-5c9c-4262-a0b2-856c75361d82",
   "metadata": {},
   "outputs": [],
   "source": [
    "exEin = np.array([[0,1],[1,0]])"
   ]
  },
  {
   "cell_type": "code",
   "execution_count": 3,
   "id": "2cd07164-e252-4418-849d-db3736cb04b5",
   "metadata": {},
   "outputs": [
    {
     "data": {
      "text/plain": [
       "(array([ 1., -1.]),\n",
       " array([[ 0.70710678, -0.70710678],\n",
       "        [ 0.70710678,  0.70710678]]))"
      ]
     },
     "execution_count": 3,
     "metadata": {},
     "output_type": "execute_result"
    }
   ],
   "source": [
    "lin.eig(exEin)"
   ]
  },
  {
   "cell_type": "markdown",
   "id": "e7f00b37-5a9e-48bd-9034-893da0ff6745",
   "metadata": {},
   "source": [
    "### 2.\n",
    "$A$ = $\\left[\\begin{array}{rrr} \n",
    "4&2\\\\\n",
    "3&5\\\\\n",
    "\\end{array}\\right]$ 의 고유값과 고유벡터를 구해라."
   ]
  },
  {
   "cell_type": "code",
   "execution_count": 4,
   "id": "9ef259e3-f87c-456c-b6cc-6e64e8a20892",
   "metadata": {},
   "outputs": [],
   "source": [
    "exEin = np.array([[4,2],[3,5]])"
   ]
  },
  {
   "cell_type": "code",
   "execution_count": 5,
   "id": "fa6f7a88-f085-42f2-960f-f0e1e94327c1",
   "metadata": {},
   "outputs": [
    {
     "data": {
      "text/plain": [
       "(array([2., 7.]),\n",
       " array([[-0.70710678, -0.5547002 ],\n",
       "        [ 0.70710678, -0.83205029]]))"
      ]
     },
     "execution_count": 5,
     "metadata": {},
     "output_type": "execute_result"
    }
   ],
   "source": [
    "lin.eig(exEin)"
   ]
  },
  {
   "cell_type": "markdown",
   "id": "f94474c4-a640-472b-b034-746c3ce56e92",
   "metadata": {},
   "source": [
    "### 3.\n",
    "$A$ = $\\left[\\begin{array}{rrr} \n",
    "1&0&0\\\\\n",
    "0&1&0\\\\\n",
    "0&0&1\\\\\n",
    "\\end{array}\\right]$ 의 고유값과 고유벡터를 구해라."
   ]
  },
  {
   "cell_type": "code",
   "execution_count": 6,
   "id": "8d367b2d-2fb0-463b-967c-56ebe34341cd",
   "metadata": {},
   "outputs": [],
   "source": [
    "exEin = np.array([[1,0,0],[0,1,0],[0,0,1]])"
   ]
  },
  {
   "cell_type": "code",
   "execution_count": 7,
   "id": "95f7f48b-7e0b-4974-bdcc-091276548449",
   "metadata": {},
   "outputs": [
    {
     "data": {
      "text/plain": [
       "(array([1., 1., 1.]),\n",
       " array([[1., 0., 0.],\n",
       "        [0., 1., 0.],\n",
       "        [0., 0., 1.]]))"
      ]
     },
     "execution_count": 7,
     "metadata": {},
     "output_type": "execute_result"
    }
   ],
   "source": [
    "lin.eig(exEin)"
   ]
  },
  {
   "cell_type": "markdown",
   "id": "c486ad9e-62fd-4a54-accc-3a20adcee57b",
   "metadata": {},
   "source": [
    "### 4.\n",
    "$A$ = $\\left[\\begin{array}{rrr} \n",
    "-4&-6\\\\\n",
    "3&5\\\\\n",
    "\\end{array}\\right]$ 의 고유값과 고유벡터를 구해라."
   ]
  },
  {
   "cell_type": "code",
   "execution_count": 8,
   "id": "0a8d5cfe-f9b7-4fa6-8532-3f007ddf6daa",
   "metadata": {},
   "outputs": [],
   "source": [
    "exEin = np.array([[-4,-6],[3,5]])"
   ]
  },
  {
   "cell_type": "code",
   "execution_count": 9,
   "id": "e53e6417-8dc6-4ab8-954e-45e1f5959bef",
   "metadata": {},
   "outputs": [
    {
     "data": {
      "text/plain": [
       "(array([-1.,  2.]),\n",
       " array([[-0.89442719,  0.70710678],\n",
       "        [ 0.4472136 , -0.70710678]]))"
      ]
     },
     "execution_count": 9,
     "metadata": {},
     "output_type": "execute_result"
    }
   ],
   "source": [
    "lin.eig(exEin)"
   ]
  },
  {
   "cell_type": "markdown",
   "id": "9fdced7f-5a18-49df-a79b-cb75b7f31b19",
   "metadata": {},
   "source": [
    "### 5.\n",
    "$A$ = $\\left[\\begin{array}{rrr} \n",
    "5&-1\\\\\n",
    "-2&1\\\\\n",
    "\\end{array}\\right]$ 의 고유값과 고유벡터를 구해라."
   ]
  },
  {
   "cell_type": "code",
   "execution_count": 10,
   "id": "c58279ab-2211-4133-b038-d7663c736914",
   "metadata": {},
   "outputs": [],
   "source": [
    "exEin = np.array([[5, -1], [-2, 1]])"
   ]
  },
  {
   "cell_type": "code",
   "execution_count": 11,
   "id": "51c8d386-713d-49f4-9742-07fa683ad6db",
   "metadata": {},
   "outputs": [
    {
     "data": {
      "text/plain": [
       "(array([5.44948974, 0.55051026]),\n",
       " array([[ 0.91209559,  0.21927526],\n",
       "        [-0.40997761,  0.97566304]]))"
      ]
     },
     "execution_count": 11,
     "metadata": {},
     "output_type": "execute_result"
    }
   ],
   "source": [
    "lin.eig(exEin)"
   ]
  }
 ],
 "metadata": {
  "kernelspec": {
   "display_name": "Python 3",
   "language": "python",
   "name": "python3"
  },
  "language_info": {
   "codemirror_mode": {
    "name": "ipython",
    "version": 3
   },
   "file_extension": ".py",
   "mimetype": "text/x-python",
   "name": "python",
   "nbconvert_exporter": "python",
   "pygments_lexer": "ipython3",
   "version": "3.9.7"
  }
 },
 "nbformat": 4,
 "nbformat_minor": 5
}
