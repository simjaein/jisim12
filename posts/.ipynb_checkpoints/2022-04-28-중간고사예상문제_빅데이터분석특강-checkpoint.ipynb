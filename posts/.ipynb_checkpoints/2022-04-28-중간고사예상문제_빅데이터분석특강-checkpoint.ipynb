{
 "cells": [
  {
   "cell_type": "markdown",
   "id": "54670cad-723b-420d-b35e-6684ab12e9ae",
   "metadata": {},
   "source": [
    "# 중간고사예상문제-4월 28일\n",
    "> 빅데이터분석특강\n",
    "\n",
    "- toc:false\n",
    "- branch: master\n",
    "- badges: true\n",
    "- comments: true\n",
    "- author: 심재인"
   ]
  },
  {
   "cell_type": "markdown",
   "id": "78fc29c2-ac1d-4423-bce7-5e1b3c4c7287",
   "metadata": {},
   "source": [
    "# 중간고사 예상문제"
   ]
  },
  {
   "cell_type": "code",
   "execution_count": 1,
   "id": "8996ae43-529e-4f8c-a5d5-85b6ebb3389b",
   "metadata": {},
   "outputs": [],
   "source": [
    "import numpy as np\n",
    "import tensorflow as tf \n",
    "import tensorflow.experimental.numpy as tnp"
   ]
  },
  {
   "cell_type": "code",
   "execution_count": 2,
   "id": "53a9d5db-c56e-4a1a-bbdd-282bc637aa59",
   "metadata": {},
   "outputs": [],
   "source": [
    "import matplotlib.pyplot as plt"
   ]
  },
  {
   "cell_type": "code",
   "execution_count": 3,
   "id": "f17bfac3-0c69-4528-ae08-a2265ca06f4b",
   "metadata": {},
   "outputs": [],
   "source": [
    "tnp.experimental_enable_numpy_behavior()"
   ]
  },
  {
   "cell_type": "markdown",
   "id": "720274bf-bb5b-45f6-9077-1929d2991a0c",
   "metadata": {},
   "source": [
    "## `1`. 경사하강법과 tf.GradientTape()의 사용방법 (30점)"
   ]
  },
  {
   "cell_type": "markdown",
   "id": "281c6b6c-8772-4907-8107-7cb84a3db10f",
   "metadata": {},
   "source": [
    "`(1)` 아래는 $X_i \\overset{iid}{\\sim} N(3,2^2)$ 를 생성하는 코드이다. (10점)"
   ]
  },
  {
   "cell_type": "code",
   "execution_count": 4,
   "id": "aa80dff2-db4d-45b2-91d7-500a95cd19ef",
   "metadata": {},
   "outputs": [
    {
     "name": "stderr",
     "output_type": "stream",
     "text": [
      "2022-04-25 18:15:05.074138: I tensorflow/stream_executor/cuda/cuda_gpu_executor.cc:939] successful NUMA node read from SysFS had negative value (-1), but there must be at least one NUMA node, so returning NUMA node zero\n"
     ]
    },
    {
     "data": {
      "text/plain": [
       "<tf.Tensor: shape=(10000,), dtype=float64, numpy=\n",
       "array([ 4.12539849,  5.46696729,  5.27243374, ...,  2.89712332,\n",
       "        5.01072291, -1.13050477])>"
      ]
     },
     "execution_count": 4,
     "metadata": {},
     "output_type": "execute_result"
    }
   ],
   "source": [
    "tf.random.set_seed(43052)\n",
    "x= tnp.random.randn(10000)*2+3\n",
    "x"
   ]
  },
  {
   "cell_type": "markdown",
   "id": "11d1ad0b-c2ed-4981-bbf9-d4e816a37b35",
   "metadata": {},
   "source": [
    "함수 $L(\\mu,\\sigma)$을 최대화하는 $(\\mu,\\sigma)$를 `tf.GradeintTape()`를 활용하여 추정하라. (경사하강법 혹은 경사상승법을 사용하고 $\\mu$의 초기값은 2로 $\\sigma$의 초기값은 3으로 설정할 것) \n",
    "\n",
    "$$L(\\mu,\\sigma)=\\prod_{i=1}^{n}f(x_i), \\quad f(x_i)=\\frac{1}{\\sqrt{2\\pi}\\sigma}e^{-\\frac{1}{2}(\\frac{x_i-\\mu}{\\sigma})^2}$$\n",
    "\n",
    "**hint**: $L(\\mu,\\sigma)$를 최대화하는 $(\\mu,\\sigma)$는 $\\log L(\\mu,\\sigma)$를 역시 최대화한다는 사실을 이용할 것."
   ]
  },
  {
   "cell_type": "markdown",
   "id": "a91eea84-8ee0-413f-815c-eb3bee556b9c",
   "metadata": {},
   "source": [
    "**hint:** $\\mu$의 참값은 3, $\\sigma$의 참값은 2이다. (따라서 $\\mu$와 $\\sigma$는 각각 2와 3근처로 추정되어야 한다.) "
   ]
  },
  {
   "cell_type": "markdown",
   "id": "7dd76284-b86e-47c5-af56-448680253820",
   "metadata": {},
   "source": [
    "`-` 풀이"
   ]
  },
  {
   "cell_type": "code",
   "execution_count": 5,
   "id": "da598c82-92ab-4a8a-a3d3-e55feecf333e",
   "metadata": {},
   "outputs": [],
   "source": [
    "N = 10000"
   ]
  },
  {
   "cell_type": "code",
   "execution_count": 6,
   "id": "9073a7ef-5d48-469d-81db-f4a805950605",
   "metadata": {},
   "outputs": [],
   "source": [
    "y_true=(x-3)**2/2**2"
   ]
  },
  {
   "cell_type": "code",
   "execution_count": 7,
   "id": "09605e9d-e8f6-44bc-85ff-55ab7a73846a",
   "metadata": {},
   "outputs": [],
   "source": [
    "epsilon = tnp.random.randn(N)*0.5\n",
    "y=(x-3)**2/2**2+epsilon"
   ]
  },
  {
   "cell_type": "code",
   "execution_count": 8,
   "id": "d6e73b6a-04d8-48c6-bba5-80a81b83c69b",
   "metadata": {},
   "outputs": [
    {
     "data": {
      "text/plain": [
       "(TensorShape([10000]), TensorShape([10000]))"
      ]
     },
     "execution_count": 8,
     "metadata": {},
     "output_type": "execute_result"
    }
   ],
   "source": [
    "x.shape, y.shape"
   ]
  },
  {
   "cell_type": "code",
   "execution_count": 9,
   "id": "b6ee298d-ea01-4539-bca2-5f38fb10c6bc",
   "metadata": {},
   "outputs": [],
   "source": [
    "beta = tf.Variable(2.0)\n",
    "alpha = tf.Variable(3.0)"
   ]
  },
  {
   "cell_type": "code",
   "execution_count": 10,
   "id": "72074f5b-9346-4389-abbd-8e33624e1008",
   "metadata": {},
   "outputs": [],
   "source": [
    "for epoc in range(1000):   \n",
    "    with tf.GradientTape() as tape: \n",
    "        yhat = (x-beta)**2/(alpha**2)\n",
    "        loss = tf.reduce_sum((y-yhat)**2)/N \n",
    "    slope0,slope1 = tape.gradient(loss,[beta,alpha]) \n",
    "    beta.assign_sub(alpha * slope0) \n",
    "    alpha.assign_sub(alpha * slope1) "
   ]
  },
  {
   "cell_type": "code",
   "execution_count": 11,
   "id": "1a0604fb-5481-4675-91be-b7e1f4a3b30e",
   "metadata": {},
   "outputs": [
    {
     "data": {
      "text/plain": [
       "(<tf.Variable 'Variable:0' shape=() dtype=float32, numpy=161.78185>,\n",
       " <tf.Variable 'Variable:0' shape=() dtype=float32, numpy=159.62784>)"
      ]
     },
     "execution_count": 11,
     "metadata": {},
     "output_type": "execute_result"
    }
   ],
   "source": [
    "beta, alpha"
   ]
  },
  {
   "cell_type": "code",
   "execution_count": 12,
   "id": "6af713b6-11ad-4e42-b6d8-b7cca5dba1a9",
   "metadata": {},
   "outputs": [],
   "source": [
    "yhat=(x-beta)**2/(alpha**2)"
   ]
  },
  {
   "cell_type": "code",
   "execution_count": 13,
   "id": "2d91aa05-ec83-4c22-9135-f7dec0292883",
   "metadata": {},
   "outputs": [
    {
     "data": {
      "text/plain": [
       "[<matplotlib.lines.Line2D at 0x7f5c1c17e650>]"
      ]
     },
     "execution_count": 13,
     "metadata": {},
     "output_type": "execute_result"
    },
    {
     "data": {
      "image/png": "[encoded data removed]",
      "text/plain": [
       "<Figure size 432x288 with 1 Axes>"
      ]
     },
     "metadata": {
      "needs_background": "light"
     },
     "output_type": "display_data"
    }
   ],
   "source": [
    "plt.plot(x,y,'.')\n",
    "plt.plot(x,yhat,'r.')"
   ]
  },
  {
   "cell_type": "markdown",
   "id": "025abb31-24ab-4290-936a-c5f0abfe20bb",
   "metadata": {},
   "source": [
    "`(2)` "
   ]
  },
  {
   "cell_type": "markdown",
   "id": "57658df3-c337-44fc-86f2-dac2e4ab0202",
   "metadata": {},
   "source": [
    "`(3)`"
   ]
  },
  {
   "cell_type": "markdown",
   "id": "a9fd29f0-b131-4c47-abd7-730249f8456c",
   "metadata": {},
   "source": [
    "## `2`. 회귀분석의 이론적해와 tf.keras.optimizer 이용방법 (20점)"
   ]
  },
  {
   "cell_type": "markdown",
   "id": "f846d2fe-d14e-4ba5-955c-2305b0607b3c",
   "metadata": {},
   "source": [
    "아래와 같은 선형모형을 고려하자. \n",
    "\n",
    "$$y_i = \\beta_0 + \\beta_1 x_i +\\epsilon_i.$$\n",
    "\n",
    "이때 오차항은 정규분포로 가정한다. 즉 $\\epsilon_i \\overset{iid}{\\sim} N(0,\\sigma^2)$라고 가정한다. \n",
    "\n",
    "관측데이터가 아래와 같을때 아래의 물음에 답하라."
   ]
  },
  {
   "cell_type": "code",
   "execution_count": 14,
   "id": "bad87acf-1389-4801-ab6b-6ac2470e883a",
   "metadata": {},
   "outputs": [],
   "source": [
    "x= tnp.array([20.1, 22.2, 22.7, 23.3, 24.4, 25.1, 26.2, 27.3, 28.4, 30.4])\n",
    "y= tnp.array([55.4183651 , 58.19427589, 61.23082496, 62.31255873, 63.1070028 , \n",
    "              63.69569103, 67.24704918, 71.43650092, 73.10130336, 77.84988286])\n",
    "# X= tnp.array([[1.0, 20.1], [1.0, 22.2], [1.0, 22.7], [1.0, 23.3], [1.0, 24.4],\n",
    "#               [1.0, 25.1], [1.0, 26.2], [1.0, 27.3], [1.0, 28.4], [1.0, 30.4]])"
   ]
  },
  {
   "cell_type": "markdown",
   "id": "0372eee8-ac02-43a0-a619-43a97622f283",
   "metadata": {},
   "source": [
    "`(1)` MSE loss를 최소화 하는 $\\beta_0,\\beta_1$의 해석해를 구하라."
   ]
  },
  {
   "cell_type": "markdown",
   "id": "a1753ef7-b35f-4060-ad2b-2ad3f336eaf9",
   "metadata": {},
   "source": [
    "`-`풀이"
   ]
  },
  {
   "cell_type": "code",
   "execution_count": 15,
   "id": "283d27e8-7335-4b0e-992d-50b627db59bd",
   "metadata": {},
   "outputs": [],
   "source": [
    "N = 10"
   ]
  },
  {
   "cell_type": "code",
   "execution_count": 16,
   "id": "43667f6a-cec1-46b0-9862-1787a293ddbc",
   "metadata": {},
   "outputs": [],
   "source": [
    "y = y.reshape(N,1)"
   ]
  },
  {
   "cell_type": "code",
   "execution_count": 17,
   "id": "008c2cc5-f359-416b-ae7f-5235fb3615d4",
   "metadata": {},
   "outputs": [],
   "source": [
    "X = tf.stack([tf.ones(N,dtype='float64'),x],axis=1)"
   ]
  },
  {
   "cell_type": "code",
   "execution_count": 18,
   "id": "3f49e08e-a4cd-4646-8df6-3d1982560e58",
   "metadata": {},
   "outputs": [
    {
     "data": {
      "text/plain": [
       "(TensorShape([10, 1]), TensorShape([10, 2]))"
      ]
     },
     "execution_count": 18,
     "metadata": {},
     "output_type": "execute_result"
    }
   ],
   "source": [
    "y=y.reshape(N,1)\n",
    "x=x.reshape(N,1)\n",
    "y.shape, X.shape"
   ]
  },
  {
   "cell_type": "code",
   "execution_count": 19,
   "id": "3845725e-5915-4038-b661-4fd14d783c84",
   "metadata": {},
   "outputs": [
    {
     "data": {
      "text/plain": [
       "<tf.Tensor: shape=(2, 1), dtype=float64, numpy=\n",
       "array([[9.94457323],\n",
       "       [2.21570461]])>"
      ]
     },
     "execution_count": 19,
     "metadata": {},
     "output_type": "execute_result"
    }
   ],
   "source": [
    "tf.linalg.inv(X.T @ X) @ X.T @ y"
   ]
  },
  {
   "cell_type": "code",
   "execution_count": 20,
   "id": "7f1847e6-17d9-4fe6-9723-a487b36cf408",
   "metadata": {},
   "outputs": [],
   "source": [
    "y_hat=9.94457323+2.21570461*x"
   ]
  },
  {
   "cell_type": "code",
   "execution_count": 21,
   "id": "88be77da-0341-4b0c-bc1a-16624074d76b",
   "metadata": {},
   "outputs": [
    {
     "data": {
      "text/plain": [
       "[<matplotlib.lines.Line2D at 0x7f5c1c0a6170>]"
      ]
     },
     "execution_count": 21,
     "metadata": {},
     "output_type": "execute_result"
    },
    {
     "data": {
      "image/png": "[encoded data removed]",
      "text/plain": [
       "<Figure size 432x288 with 1 Axes>"
      ]
     },
     "metadata": {
      "needs_background": "light"
     },
     "output_type": "display_data"
    }
   ],
   "source": [
    "plt.plot(x,y,'.')\n",
    "plt.plot(x,y_hat,'r--')"
   ]
  },
  {
   "cell_type": "markdown",
   "id": "7cc968f5-6f88-4fdb-bfd3-cbc8698139e9",
   "metadata": {},
   "source": [
    "`(2)` 경사하강법과 MSE loss의 도함수를 이용하여 $\\beta_0,\\beta_1$을 추정하라.\n",
    "\n",
    "**주의** tf.GradeintTape()를 이용하지 말고 MSE loss의 해석적 도함수를 사용할 것."
   ]
  },
  {
   "cell_type": "markdown",
   "id": "3c68481e-543a-4ff3-9aff-5732815c2a97",
   "metadata": {},
   "source": [
    "`-`풀이"
   ]
  },
  {
   "cell_type": "code",
   "execution_count": 22,
   "id": "5672a80e-7814-42da-86ba-2c7f9d9db25a",
   "metadata": {},
   "outputs": [],
   "source": [
    "N = 10"
   ]
  },
  {
   "cell_type": "code",
   "execution_count": 23,
   "id": "014d6a86-7da3-4c16-b82c-9ac56d051e68",
   "metadata": {},
   "outputs": [
    {
     "ename": "InvalidArgumentError",
     "evalue": "Shapes of all inputs must match: values[0].shape = [10] != values[1].shape = [10,1] [Op:Pack] name: stack",
     "output_type": "error",
     "traceback": [
      "\u001b[0;31m---------------------------------------------------------------------------\u001b[0m",
      "\u001b[0;31mInvalidArgumentError\u001b[0m                      Traceback (most recent call last)",
      "Input \u001b[0;32mIn [23]\u001b[0m, in \u001b[0;36m<cell line: 2>\u001b[0;34m()\u001b[0m\n\u001b[1;32m      1\u001b[0m y\u001b[38;5;241m=\u001b[39my\u001b[38;5;241m.\u001b[39mreshape(N,\u001b[38;5;241m1\u001b[39m)\n\u001b[0;32m----> 2\u001b[0m X\u001b[38;5;241m=\u001b[39m\u001b[43mtf\u001b[49m\u001b[38;5;241;43m.\u001b[39;49m\u001b[43mstack\u001b[49m\u001b[43m(\u001b[49m\u001b[43m[\u001b[49m\u001b[43mtf\u001b[49m\u001b[38;5;241;43m.\u001b[39;49m\u001b[43mones\u001b[49m\u001b[43m(\u001b[49m\u001b[43mN\u001b[49m\u001b[43m,\u001b[49m\u001b[43mdtype\u001b[49m\u001b[38;5;241;43m=\u001b[39;49m\u001b[43mtf\u001b[49m\u001b[38;5;241;43m.\u001b[39;49m\u001b[43mfloat64\u001b[49m\u001b[43m)\u001b[49m\u001b[43m,\u001b[49m\u001b[43mx\u001b[49m\u001b[43m]\u001b[49m\u001b[43m,\u001b[49m\u001b[43maxis\u001b[49m\u001b[38;5;241;43m=\u001b[39;49m\u001b[38;5;241;43m1\u001b[39;49m\u001b[43m)\u001b[49m\n\u001b[1;32m      3\u001b[0m y\u001b[38;5;241m.\u001b[39mshape,X\u001b[38;5;241m.\u001b[39mshape\n",
      "File \u001b[0;32m~/anaconda3/envs/py310/lib/python3.10/site-packages/tensorflow/python/util/traceback_utils.py:153\u001b[0m, in \u001b[0;36mfilter_traceback.<locals>.error_handler\u001b[0;34m(*args, **kwargs)\u001b[0m\n\u001b[1;32m    151\u001b[0m \u001b[38;5;28;01mexcept\u001b[39;00m \u001b[38;5;167;01mException\u001b[39;00m \u001b[38;5;28;01mas\u001b[39;00m e:\n\u001b[1;32m    152\u001b[0m   filtered_tb \u001b[38;5;241m=\u001b[39m _process_traceback_frames(e\u001b[38;5;241m.\u001b[39m__traceback__)\n\u001b[0;32m--> 153\u001b[0m   \u001b[38;5;28;01mraise\u001b[39;00m e\u001b[38;5;241m.\u001b[39mwith_traceback(filtered_tb) \u001b[38;5;28;01mfrom\u001b[39;00m \u001b[38;5;28mNone\u001b[39m\n\u001b[1;32m    154\u001b[0m \u001b[38;5;28;01mfinally\u001b[39;00m:\n\u001b[1;32m    155\u001b[0m   \u001b[38;5;28;01mdel\u001b[39;00m filtered_tb\n",
      "File \u001b[0;32m~/anaconda3/envs/py310/lib/python3.10/site-packages/tensorflow/python/framework/ops.py:7107\u001b[0m, in \u001b[0;36mraise_from_not_ok_status\u001b[0;34m(e, name)\u001b[0m\n\u001b[1;32m   7105\u001b[0m \u001b[38;5;28;01mdef\u001b[39;00m \u001b[38;5;21mraise_from_not_ok_status\u001b[39m(e, name):\n\u001b[1;32m   7106\u001b[0m   e\u001b[38;5;241m.\u001b[39mmessage \u001b[38;5;241m+\u001b[39m\u001b[38;5;241m=\u001b[39m (\u001b[38;5;124m\"\u001b[39m\u001b[38;5;124m name: \u001b[39m\u001b[38;5;124m\"\u001b[39m \u001b[38;5;241m+\u001b[39m name \u001b[38;5;28;01mif\u001b[39;00m name \u001b[38;5;129;01mis\u001b[39;00m \u001b[38;5;129;01mnot\u001b[39;00m \u001b[38;5;28;01mNone\u001b[39;00m \u001b[38;5;28;01melse\u001b[39;00m \u001b[38;5;124m\"\u001b[39m\u001b[38;5;124m\"\u001b[39m)\n\u001b[0;32m-> 7107\u001b[0m   \u001b[38;5;28;01mraise\u001b[39;00m core\u001b[38;5;241m.\u001b[39m_status_to_exception(e) \u001b[38;5;28;01mfrom\u001b[39;00m \u001b[38;5;28mNone\u001b[39m\n",
      "\u001b[0;31mInvalidArgumentError\u001b[0m: Shapes of all inputs must match: values[0].shape = [10] != values[1].shape = [10,1] [Op:Pack] name: stack"
     ]
    }
   ],
   "source": [
    "y=y.reshape(N,1)\n",
    "X=tf.stack([tf.ones(N,dtype=tf.float64),x],axis=1)\n",
    "y.shape,X.shape"
   ]
  },
  {
   "cell_type": "code",
   "execution_count": 24,
   "id": "72d8c4f4-bfdb-4d17-b4b9-6c4e722df87a",
   "metadata": {},
   "outputs": [
    {
     "data": {
      "text/plain": [
       "(TensorShape([10, 2]), TensorShape([10, 1]))"
      ]
     },
     "execution_count": 24,
     "metadata": {},
     "output_type": "execute_result"
    }
   ],
   "source": [
    "y=y.reshape(N,1)\n",
    "X.shape, y.shape"
   ]
  },
  {
   "cell_type": "code",
   "execution_count": 25,
   "id": "3c3309a0-d0d3-4481-adff-efc38e4cf208",
   "metadata": {},
   "outputs": [
    {
     "data": {
      "text/plain": [
       "<tf.Tensor: shape=(2, 1), dtype=int64, numpy=\n",
       "array([[9],\n",
       "       [2]])>"
      ]
     },
     "execution_count": 25,
     "metadata": {},
     "output_type": "execute_result"
    }
   ],
   "source": [
    "beta_hat = tnp.array([9,2]).reshape(2,1)\n",
    "beta_hat"
   ]
  },
  {
   "cell_type": "code",
   "execution_count": 26,
   "id": "3fa6d0ba-f62b-4d8e-82a3-a3d87b78c581",
   "metadata": {},
   "outputs": [],
   "source": [
    "alpha = 0.001"
   ]
  },
  {
   "cell_type": "code",
   "execution_count": 27,
   "id": "30b76d9d-d181-44d4-9393-2e127301df01",
   "metadata": {},
   "outputs": [],
   "source": [
    "for epoc in range(1000):\n",
    "    slope = (-2*X.T @ y + 2*X.T@ X @ beta_hat)/N\n",
    "    beta_hat = beta_hat - alpha * slope"
   ]
  },
  {
   "cell_type": "code",
   "execution_count": 28,
   "id": "b7b49d9a-24e1-4f77-bb53-9a68c35db1c0",
   "metadata": {},
   "outputs": [
    {
     "data": {
      "text/plain": [
       "<tf.Tensor: shape=(2, 1), dtype=float64, numpy=\n",
       "array([[9.03545357],\n",
       "       [2.25155218]])>"
      ]
     },
     "execution_count": 28,
     "metadata": {},
     "output_type": "execute_result"
    }
   ],
   "source": [
    "beta_hat"
   ]
  },
  {
   "cell_type": "code",
   "execution_count": 29,
   "id": "6ef97cb3-0973-4589-9e35-a3f8a77639cf",
   "metadata": {},
   "outputs": [],
   "source": [
    "y_hat=9.03545357+2.25155218*x"
   ]
  },
  {
   "cell_type": "code",
   "execution_count": 30,
   "id": "0a1e86dc-64f6-412f-9e03-d247409fa92f",
   "metadata": {},
   "outputs": [
    {
     "data": {
      "text/plain": [
       "[<matplotlib.lines.Line2D at 0x7f5b7c5b8f10>]"
      ]
     },
     "execution_count": 30,
     "metadata": {},
     "output_type": "execute_result"
    },
    {
     "data": {
      "image/png": "[encoded data removed]",
      "text/plain": [
       "<Figure size 432x288 with 1 Axes>"
      ]
     },
     "metadata": {
      "needs_background": "light"
     },
     "output_type": "display_data"
    }
   ],
   "source": [
    "plt.plot(x,y,'.')\n",
    "plt.plot(x,y_hat,'r--')"
   ]
  },
  {
   "cell_type": "markdown",
   "id": "d868f218-5001-4962-8729-cd719e2ef5d9",
   "metadata": {},
   "source": [
    "`(3)` `tf.keras.optimizers`의 `apply_gradients()`를 이용하여 $\\beta_0,\\beta_1$을 추정하라."
   ]
  },
  {
   "cell_type": "markdown",
   "id": "959c190d-122d-4dca-ae95-d396ead46c45",
   "metadata": {},
   "source": [
    "`-`풀이"
   ]
  },
  {
   "cell_type": "code",
   "execution_count": 2,
   "id": "b664121a-8a60-43fd-8515-c08f47aca603",
   "metadata": {},
   "outputs": [
    {
     "ename": "NameError",
     "evalue": "name 'opt' is not defined",
     "output_type": "error",
     "traceback": [
      "\u001b[0;31m---------------------------------------------------------------------------\u001b[0m",
      "\u001b[0;31mNameError\u001b[0m                                 Traceback (most recent call last)",
      "Input \u001b[0;32mIn [2]\u001b[0m, in \u001b[0;36m<cell line: 1>\u001b[0;34m()\u001b[0m\n\u001b[0;32m----> 1\u001b[0m \u001b[43mopt\u001b[49m\u001b[38;5;241m.\u001b[39mapply_gradients([(slope,beta_hat)])\n\u001b[1;32m      2\u001b[0m beta\n",
      "\u001b[0;31mNameError\u001b[0m: name 'opt' is not defined"
     ]
    }
   ],
   "source": [
    "opt.apply_gradients([(slope,beta_hat)])\n",
    "beta"
   ]
  },
  {
   "cell_type": "code",
   "execution_count": 32,
   "id": "0b23af02-814a-4398-90f0-d4bb4bafc13a",
   "metadata": {},
   "outputs": [
    {
     "data": {
      "text/plain": [
       "(TensorShape([10, 2]), TensorShape([10, 1]))"
      ]
     },
     "execution_count": 32,
     "metadata": {},
     "output_type": "execute_result"
    }
   ],
   "source": [
    "X.shape,y.shape"
   ]
  },
  {
   "cell_type": "code",
   "execution_count": 33,
   "id": "d08504dd-ef13-4f51-b52d-561e3e76105e",
   "metadata": {},
   "outputs": [
    {
     "data": {
      "text/plain": [
       "<tf.Variable 'Variable:0' shape=(2, 1) dtype=float64, numpy=\n",
       "array([[9.],\n",
       "       [2.]])>"
      ]
     },
     "execution_count": 33,
     "metadata": {},
     "output_type": "execute_result"
    }
   ],
   "source": [
    "beta_hat = tf.Variable(tnp.array([9,2],dtype='float64').reshape(2,1))\n",
    "beta_hat"
   ]
  },
  {
   "cell_type": "code",
   "execution_count": 1,
   "id": "d08675ba-d434-47fc-8ca9-85ba6c9d0602",
   "metadata": {},
   "outputs": [
    {
     "ename": "NameError",
     "evalue": "name 'tf' is not defined",
     "output_type": "error",
     "traceback": [
      "\u001b[0;31m---------------------------------------------------------------------------\u001b[0m",
      "\u001b[0;31mNameError\u001b[0m                                 Traceback (most recent call last)",
      "Input \u001b[0;32mIn [1]\u001b[0m, in \u001b[0;36m<cell line: 2>\u001b[0;34m()\u001b[0m\n\u001b[1;32m      1\u001b[0m alpha\u001b[38;5;241m=\u001b[39m\u001b[38;5;241m0.001\u001b[39m\n\u001b[0;32m----> 2\u001b[0m opt \u001b[38;5;241m=\u001b[39m \u001b[43mtf\u001b[49m\u001b[38;5;241m.\u001b[39mkeras\u001b[38;5;241m.\u001b[39moptimizers\u001b[38;5;241m.\u001b[39mSGD(alpha)\n",
      "\u001b[0;31mNameError\u001b[0m: name 'tf' is not defined"
     ]
    }
   ],
   "source": [
    "alpha=0.001\n",
    "opt = tf.keras.optimizers.SGD(alpha)"
   ]
  },
  {
   "cell_type": "code",
   "execution_count": 35,
   "id": "87ab47bb-fdae-4048-83f8-1d3726ffa2e6",
   "metadata": {},
   "outputs": [],
   "source": [
    "for epoc in range(1000): \n",
    "    with tf.GradientTape() as tape: \n",
    "        yhat = X@beta_hat\n",
    "        loss = (y-yhat).T @ (y-yhat) / N \n",
    "    slope = tape.gradient(loss,beta_hat)  \n",
    "    opt.apply_gradients( [(slope,beta_hat)] )"
   ]
  },
  {
   "cell_type": "code",
   "execution_count": 36,
   "id": "25273c0d-189e-4004-9028-8f310d7e84cd",
   "metadata": {},
   "outputs": [
    {
     "data": {
      "text/plain": [
       "<tf.Variable 'Variable:0' shape=(2, 1) dtype=float64, numpy=\n",
       "array([[9.03545358],\n",
       "       [2.25155218]])>"
      ]
     },
     "execution_count": 36,
     "metadata": {},
     "output_type": "execute_result"
    }
   ],
   "source": [
    "beta_hat"
   ]
  },
  {
   "cell_type": "code",
   "execution_count": 37,
   "id": "d1e5c3b7-d466-4a4c-8d37-f87b6f251a34",
   "metadata": {},
   "outputs": [],
   "source": [
    "y_hat=9.03545358+2.25155218*x"
   ]
  },
  {
   "cell_type": "code",
   "execution_count": 38,
   "id": "9299e9b6-8db1-4505-ac1e-058d6ab6740d",
   "metadata": {},
   "outputs": [
    {
     "data": {
      "text/plain": [
       "[<matplotlib.lines.Line2D at 0x7f5b7c43fa30>]"
      ]
     },
     "execution_count": 38,
     "metadata": {},
     "output_type": "execute_result"
    },
    {
     "data": {
      "image/png": "[encoded data removed]",
      "text/plain": [
       "<Figure size 432x288 with 1 Axes>"
      ]
     },
     "metadata": {
      "needs_background": "light"
     },
     "output_type": "display_data"
    }
   ],
   "source": [
    "plt.plot(x,y,'.')\n",
    "plt.plot(x,y_hat,'r--')"
   ]
  },
  {
   "cell_type": "markdown",
   "id": "45155f52-a68d-4243-8f16-099995874ecf",
   "metadata": {},
   "source": [
    "`(4)` `tf.keras.optimizers`의 `minimize()`를 이용하여 $\\beta_0,\\beta_1$을 추정하라."
   ]
  },
  {
   "cell_type": "markdown",
   "id": "53b55df5-3cf7-48f6-8281-0087f9ef375f",
   "metadata": {},
   "source": [
    "`-` 풀이"
   ]
  },
  {
   "cell_type": "code",
   "execution_count": 39,
   "id": "01c1437e-2145-4cee-845c-2dd83579eeed",
   "metadata": {},
   "outputs": [
    {
     "data": {
      "text/plain": [
       "<tf.Tensor: shape=(), dtype=float64, numpy=0.9609637260437012>"
      ]
     },
     "execution_count": 39,
     "metadata": {},
     "output_type": "execute_result"
    }
   ],
   "source": [
    "mse_fn = tf.losses.MeanSquaredError()\n",
    "mse_fn(y,yhat)"
   ]
  },
  {
   "cell_type": "code",
   "execution_count": 40,
   "id": "9c1ba1c0-ea3c-4dcf-bb51-f1bade1e6836",
   "metadata": {},
   "outputs": [],
   "source": [
    "mseloss_fn=tf.losses.MeanSquaredError()"
   ]
  },
  {
   "cell_type": "code",
   "execution_count": 41,
   "id": "a6eed1b6-2828-44ff-9c47-c62c43f85549",
   "metadata": {},
   "outputs": [
    {
     "data": {
      "text/plain": [
       "(TensorShape([10, 2]), TensorShape([10, 1]))"
      ]
     },
     "execution_count": 41,
     "metadata": {},
     "output_type": "execute_result"
    }
   ],
   "source": [
    "y=y.reshape(N,1)\n",
    "X.shape,y.shape"
   ]
  },
  {
   "cell_type": "code",
   "execution_count": 42,
   "id": "5f3de4f3-b096-4ac1-98b9-dbb6693e10d8",
   "metadata": {},
   "outputs": [
    {
     "data": {
      "text/plain": [
       "<tf.Variable 'Variable:0' shape=(2, 1) dtype=float64, numpy=\n",
       "array([[9.],\n",
       "       [2.]])>"
      ]
     },
     "execution_count": 42,
     "metadata": {},
     "output_type": "execute_result"
    }
   ],
   "source": [
    "beta_hat = tf.Variable(tnp.array([9,2],dtype='float64').reshape(2,1))\n",
    "beta_hat"
   ]
  },
  {
   "cell_type": "code",
   "execution_count": 43,
   "id": "7d85a918-4846-4b8e-b3e3-fd423d17b5c8",
   "metadata": {},
   "outputs": [],
   "source": [
    "alpha=0.0015\n",
    "opt = tf.keras.optimizers.SGD(alpha) "
   ]
  },
  {
   "cell_type": "code",
   "execution_count": 44,
   "id": "1e845255-896c-4d1e-b667-605b192f2d4c",
   "metadata": {},
   "outputs": [
    {
     "data": {
      "text/plain": [
       "<tf.Tensor: shape=(), dtype=float64, numpy=0.960963785648346>"
      ]
     },
     "execution_count": 44,
     "metadata": {},
     "output_type": "execute_result"
    }
   ],
   "source": [
    "mseloss_fn(y.reshape(-1),yhat.reshape(-1))"
   ]
  },
  {
   "cell_type": "code",
   "execution_count": 45,
   "id": "ac4fd89b-e919-49a5-9852-f571f164a5de",
   "metadata": {},
   "outputs": [],
   "source": [
    "def loss_fn():\n",
    "    yhat= X@beta_hat\n",
    "    loss = mseloss_fn(y.reshape(-1),yhat.reshape(-1))\n",
    "    return loss"
   ]
  },
  {
   "cell_type": "code",
   "execution_count": 46,
   "id": "9710e2e7-15b2-45bf-8519-9249a9926094",
   "metadata": {},
   "outputs": [],
   "source": [
    "for epoc in range(1000):\n",
    "    opt.minimize(loss_fn,beta_hat)"
   ]
  },
  {
   "cell_type": "code",
   "execution_count": 47,
   "id": "943a585f-d869-4f4d-b492-fb51ad0b84ba",
   "metadata": {},
   "outputs": [
    {
     "data": {
      "text/plain": [
       "<tf.Variable 'Variable:0' shape=(2, 1) dtype=float64, numpy=\n",
       "array([[9.04793931],\n",
       "       [2.25105986]])>"
      ]
     },
     "execution_count": 47,
     "metadata": {},
     "output_type": "execute_result"
    }
   ],
   "source": [
    "beta_hat"
   ]
  },
  {
   "cell_type": "code",
   "execution_count": 48,
   "id": "192f4fcf-c55e-4814-987a-ff59c340ce1b",
   "metadata": {},
   "outputs": [],
   "source": [
    "y_hat=9.03545358+2.25155218*x"
   ]
  },
  {
   "cell_type": "code",
   "execution_count": 49,
   "id": "cb1143a9-5fc4-448b-94c4-c51b0f992eb6",
   "metadata": {},
   "outputs": [
    {
     "data": {
      "text/plain": [
       "[<matplotlib.lines.Line2D at 0x7f5b7c4a7460>]"
      ]
     },
     "execution_count": 49,
     "metadata": {},
     "output_type": "execute_result"
    },
    {
     "data": {
      "image/png": "[encoded data removed]",
      "text/plain": [
       "<Figure size 432x288 with 1 Axes>"
      ]
     },
     "metadata": {
      "needs_background": "light"
     },
     "output_type": "display_data"
    }
   ],
   "source": [
    "plt.plot(x,y,'.')\n",
    "plt.plot(x,y_hat,'r--')"
   ]
  },
  {
   "cell_type": "markdown",
   "id": "0fb5ab85-0e29-4336-8acb-7822de9f5549",
   "metadata": {},
   "source": [
    "**hint1** alpha=0.0015로 설정할 것\n",
    "\n",
    "**hint2** epoc은 10000번정도 반복실행하며 적당한 횟수를 찾을 것\n",
    "\n",
    "**hint3** (1)의 최적값에 반드시 정확히 수렴시킬 필요는 없음 (너무 많은 에폭이 소모됨) \n",
    "\n",
    "**hint4** 초기값으로 [5,10] 정도 이용할 것"
   ]
  },
  {
   "cell_type": "markdown",
   "id": "d8cbb1e0-f6f7-4d57-8886-adfaa53bfee8",
   "metadata": {},
   "source": [
    "## `3`. keras를 이용한 풀이 (30점)"
   ]
  },
  {
   "cell_type": "markdown",
   "id": "4501708f-56ed-4ecd-b6cb-bab945d31a17",
   "metadata": {},
   "source": [
    "`(1)` 아래와 같은 모형을 고려하자. \n",
    "\n",
    "$$y_i= \\beta_0 + \\sum_{k=1}^{5} \\beta_k \\cos(k t_i)+\\epsilon_i, \\quad i=0,1,\\dots, 999$$\n",
    "\n",
    "여기에서 $t_i=\\frac{2\\pi i}{1000}$ 이다. 그리고 $\\epsilon_i \\sim i.i.d~ N(0,\\sigma^2)$, 즉 서로 독립인 표준정규분포에서 추출된 샘플이다. 위의 모형에서 아래와 같은 데이터를 관측했다고 가정하자."
   ]
  },
  {
   "cell_type": "code",
   "execution_count": 52,
   "id": "1d46e81e-e311-4e49-bf66-ff0a566f70c3",
   "metadata": {},
   "outputs": [
    {
     "data": {
      "text/plain": [
       "[<matplotlib.lines.Line2D at 0x7f5b7c3cf640>]"
      ]
     },
     "execution_count": 52,
     "metadata": {},
     "output_type": "execute_result"
    },
    {
     "data": {
      "image/png": "[encoded data removed]",
      "text/plain": [
       "<Figure size 432x288 with 1 Axes>"
      ]
     },
     "metadata": {
      "needs_background": "light"
     },
     "output_type": "display_data"
    }
   ],
   "source": [
    "np.random.seed(43052)\n",
    "t= np.array(range(1000))* np.pi/1000\n",
    "y = -2+ 3*np.cos(t) + 1*np.cos(2*t) + 0.5*np.cos(5*t) + np.random.randn(1000)*0.1\n",
    "plt.plot(t,y,'.',alpha=0.1)"
   ]
  },
  {
   "cell_type": "markdown",
   "id": "050e2e50-3894-4471-9e92-6a866cee2c40",
   "metadata": {},
   "source": [
    "tf.keras를 이용하여 $\\beta_0,\\dots,\\beta_5$를 추정하라. ($\\beta_0,\\dots,\\beta_5$의 참값은 각각 -2,3,1,0,0,0.5 이다)"
   ]
  },
  {
   "cell_type": "markdown",
   "id": "23d95f7b-4dc9-4177-8d5b-48de0ceae4e4",
   "metadata": {},
   "source": [
    "- 6주차 keras 예제3번 활용"
   ]
  },
  {
   "cell_type": "code",
   "execution_count": 53,
   "id": "d4363d6d-8ea6-4056-8e21-dfc76ba89f04",
   "metadata": {},
   "outputs": [],
   "source": [
    "X = np.stack([np.ones(1000),np.cos(1*t),np.cos(2*t),np.cos(3*t),np.cos(4*t),np.cos(5*t)],axis=1)\n",
    "y = y.reshape(1000,1)"
   ]
  },
  {
   "cell_type": "code",
   "execution_count": 54,
   "id": "1cab655a-d3ea-4eb6-b5d6-a7cfaaf94704",
   "metadata": {},
   "outputs": [
    {
     "name": "stdout",
     "output_type": "stream",
     "text": [
      "Epoch 1/30\n",
      "100/100 [==============================] - 0s 711us/step - loss: 0.4868\n",
      "Epoch 2/30\n",
      "100/100 [==============================] - 0s 852us/step - loss: 0.0094\n",
      "Epoch 3/30\n",
      "100/100 [==============================] - 0s 789us/step - loss: 0.0095\n",
      "Epoch 4/30\n",
      "100/100 [==============================] - 0s 747us/step - loss: 0.0094\n",
      "Epoch 5/30\n",
      "100/100 [==============================] - 0s 744us/step - loss: 0.0095\n",
      "Epoch 6/30\n",
      "100/100 [==============================] - 0s 713us/step - loss: 0.0094\n",
      "Epoch 7/30\n",
      "100/100 [==============================] - 0s 721us/step - loss: 0.0092\n",
      "Epoch 8/30\n",
      "100/100 [==============================] - 0s 788us/step - loss: 0.0093\n",
      "Epoch 9/30\n",
      "100/100 [==============================] - 0s 759us/step - loss: 0.0093\n",
      "Epoch 10/30\n",
      "100/100 [==============================] - 0s 729us/step - loss: 0.0095\n",
      "Epoch 11/30\n",
      "100/100 [==============================] - 0s 795us/step - loss: 0.0093\n",
      "Epoch 12/30\n",
      "100/100 [==============================] - 0s 742us/step - loss: 0.0093\n",
      "Epoch 13/30\n",
      "100/100 [==============================] - 0s 725us/step - loss: 0.0093\n",
      "Epoch 14/30\n",
      "100/100 [==============================] - 0s 761us/step - loss: 0.0095\n",
      "Epoch 15/30\n",
      "100/100 [==============================] - 0s 690us/step - loss: 0.0094\n",
      "Epoch 16/30\n",
      "100/100 [==============================] - 0s 699us/step - loss: 0.0093\n",
      "Epoch 17/30\n",
      "100/100 [==============================] - 0s 598us/step - loss: 0.0095\n",
      "Epoch 18/30\n",
      "100/100 [==============================] - 0s 612us/step - loss: 0.0094\n",
      "Epoch 19/30\n",
      "100/100 [==============================] - 0s 696us/step - loss: 0.0095\n",
      "Epoch 20/30\n",
      "100/100 [==============================] - 0s 661us/step - loss: 0.0095\n",
      "Epoch 21/30\n",
      "100/100 [==============================] - 0s 687us/step - loss: 0.0092\n",
      "Epoch 22/30\n",
      "100/100 [==============================] - 0s 671us/step - loss: 0.0094\n",
      "Epoch 23/30\n",
      "100/100 [==============================] - 0s 691us/step - loss: 0.0095\n",
      "Epoch 24/30\n",
      "100/100 [==============================] - 0s 706us/step - loss: 0.0094\n",
      "Epoch 25/30\n",
      "100/100 [==============================] - 0s 695us/step - loss: 0.0094\n",
      "Epoch 26/30\n",
      "100/100 [==============================] - 0s 706us/step - loss: 0.0095\n",
      "Epoch 27/30\n",
      "100/100 [==============================] - 0s 683us/step - loss: 0.0095\n",
      "Epoch 28/30\n",
      "100/100 [==============================] - 0s 743us/step - loss: 0.0094\n",
      "Epoch 29/30\n",
      "100/100 [==============================] - 0s 800us/step - loss: 0.0094\n",
      "Epoch 30/30\n",
      "100/100 [==============================] - 0s 797us/step - loss: 0.0095\n"
     ]
    },
    {
     "data": {
      "text/plain": [
       "<keras.callbacks.History at 0x7f5b7c2e5e10>"
      ]
     },
     "execution_count": 54,
     "metadata": {},
     "output_type": "execute_result"
    }
   ],
   "source": [
    "net = tf.keras.Sequential()\n",
    "net.add(tf.keras.layers.Dense(1,use_bias=False))\n",
    "net.compile(tf.optimizers.SGD(0.1), loss='mse')\n",
    "net.fit(X,y,epochs=30, batch_size=N)"
   ]
  },
  {
   "cell_type": "code",
   "execution_count": 55,
   "id": "561fb672-0866-4d6a-9546-47ab6ae9458e",
   "metadata": {},
   "outputs": [
    {
     "data": {
      "text/plain": [
       "[<tf.Variable 'dense/kernel:0' shape=(6, 1) dtype=float32, numpy=\n",
       " array([[-1.9899189e+00],\n",
       "        [ 3.0180848e+00],\n",
       "        [ 1.0091044e+00],\n",
       "        [-1.8584070e-03],\n",
       "        [-4.8465207e-03],\n",
       "        [ 4.9381223e-01]], dtype=float32)>]"
      ]
     },
     "execution_count": 55,
     "metadata": {},
     "output_type": "execute_result"
    }
   ],
   "source": [
    "net.weights"
   ]
  },
  {
   "cell_type": "markdown",
   "id": "04620d38-e446-4ff9-89a3-58fd881e55ee",
   "metadata": {},
   "source": [
    "`(2)` 아래와 같은 모형을 고려하자.\n",
    "\n",
    "$$y_i \\sim Ber(\\pi_i), ~ \\text{where} ~ \\pi_i=\\frac{\\exp(w_0+w_1x_i)}{1+\\exp(w_0+w_1x_i)}$$"
   ]
  },
  {
   "cell_type": "markdown",
   "id": "4e40fe81-0cd8-4cd5-82e1-933ea91177cc",
   "metadata": {},
   "source": [
    "위의 모형에서 관측한 데이터는 아래와 같다."
   ]
  },
  {
   "cell_type": "code",
   "execution_count": 56,
   "id": "98b4fa6d-5e97-4b3a-879e-c0eb507bca8c",
   "metadata": {},
   "outputs": [
    {
     "data": {
      "text/plain": [
       "[<matplotlib.lines.Line2D at 0x7f5b747d0550>]"
      ]
     },
     "execution_count": 56,
     "metadata": {},
     "output_type": "execute_result"
    },
    {
     "data": {
      "image/png": "[encoded data removed]",
      "text/plain": [
       "<Figure size 432x288 with 1 Axes>"
      ]
     },
     "metadata": {
      "needs_background": "light"
     },
     "output_type": "display_data"
    }
   ],
   "source": [
    "tf.random.set_seed(43052)\n",
    "x = tnp.linspace(-1,1,2000)\n",
    "y = tf.constant(np.random.binomial(1, tf.nn.sigmoid(-1+5*x)),dtype=tf.float64)\n",
    "plt.plot(x,y,'.',alpha=0.05)"
   ]
  },
  {
   "cell_type": "markdown",
   "id": "7226b86c-c437-4fc3-b979-c479f17b4390",
   "metadata": {},
   "source": [
    "tf.keras를 이용하여 $w_0,w_1$을 추정하라. (참고: $w_0, w_1$에 대한 참값은 -1과 5이다.)"
   ]
  },
  {
   "cell_type": "markdown",
   "id": "c8096f21-dc54-4df3-9e0d-58bdccfbe229",
   "metadata": {},
   "source": [
    "- 7주차 Logistic regression 예제 참고"
   ]
  },
  {
   "cell_type": "code",
   "execution_count": 57,
   "id": "845eec76-b013-4ce6-8c53-7f1dd41a04f9",
   "metadata": {},
   "outputs": [
    {
     "data": {
      "text/plain": [
       "(TensorShape([2000]), TensorShape([2000]))"
      ]
     },
     "execution_count": 57,
     "metadata": {},
     "output_type": "execute_result"
    }
   ],
   "source": [
    "x.shape, y.shape"
   ]
  },
  {
   "cell_type": "code",
   "execution_count": 58,
   "id": "0a0b145c-43c1-4243-8b30-fcfc6c003746",
   "metadata": {},
   "outputs": [
    {
     "data": {
      "text/plain": [
       "(TensorShape([2000, 1]), TensorShape([2000]))"
      ]
     },
     "execution_count": 58,
     "metadata": {},
     "output_type": "execute_result"
    }
   ],
   "source": [
    "x=x.reshape(2000,1)\n",
    "x.shape, y.shape"
   ]
  },
  {
   "cell_type": "code",
   "execution_count": 63,
   "id": "3b02bb84-e486-4fe9-ad7d-84f95418963d",
   "metadata": {},
   "outputs": [
    {
     "data": {
      "text/plain": [
       "<keras.callbacks.History at 0x7f5d075eed10>"
      ]
     },
     "execution_count": 63,
     "metadata": {},
     "output_type": "execute_result"
    }
   ],
   "source": [
    "net = tf.keras.Sequential() \n",
    "net.add(tf.keras.layers.Dense(1,activation='sigmoid'))\n",
    "bceloss_fn = lambda y,yhat: -tf.reduce_mean(y*tnp.log(yhat) + (1-y)*tnp.log(1-yhat))\n",
    "net.compile(loss=bceloss_fn, optimizer=tf.optimizers.SGD(0.1))\n",
    "net.fit(x,y,epochs=10000,verbose=0,batch_size=2000)"
   ]
  },
  {
   "cell_type": "code",
   "execution_count": 60,
   "id": "8a82ae13-576b-48a5-b9c6-463e4988e152",
   "metadata": {},
   "outputs": [
    {
     "data": {
      "text/plain": [
       "[<tf.Variable 'dense_1/kernel:0' shape=(1, 1) dtype=float32, numpy=array([[5.09306]], dtype=float32)>,\n",
       " <tf.Variable 'dense_1/bias:0' shape=(1,) dtype=float32, numpy=array([-1.0963831], dtype=float32)>]"
      ]
     },
     "execution_count": 60,
     "metadata": {},
     "output_type": "execute_result"
    }
   ],
   "source": [
    "net.weights"
   ]
  },
  {
   "cell_type": "code",
   "execution_count": 64,
   "id": "6888b929-28bc-485c-bae1-35578aa3034b",
   "metadata": {},
   "outputs": [
    {
     "data": {
      "text/plain": [
       "[<matplotlib.lines.Line2D at 0x7f5d0730e5f0>]"
      ]
     },
     "execution_count": 64,
     "metadata": {},
     "output_type": "execute_result"
    },
    {
     "data": {
      "image/png": "[encoded data removed]",
      "text/plain": [
       "<Figure size 432x288 with 1 Axes>"
      ]
     },
     "metadata": {
      "needs_background": "light"
     },
     "output_type": "display_data"
    }
   ],
   "source": [
    "plt.plot(x,y,'.',alpha=0.1)\n",
    "plt.plot(x,net(x),'--b')"
   ]
  },
  {
   "cell_type": "markdown",
   "id": "91b93a5e-fa81-4881-bb56-adb60ea59643",
   "metadata": {},
   "source": [
    "## `4`. Piecewise-linear regression (15점)"
   ]
  },
  {
   "cell_type": "markdown",
   "id": "536c548b-60df-4f5d-a1cc-acb68f1f481b",
   "metadata": {},
   "source": [
    "## `5`. 다음을 잘 읽고 참과 거짓을 판단하라. (5점)"
   ]
  },
  {
   "cell_type": "markdown",
   "id": "84bb0c2e-7dc7-4180-b710-d5f91d9bfe81",
   "metadata": {},
   "source": [
    "`(1)` 적절한 학습률이 선택된다면, 경사하강법은 손실함수가 convex일때 언제 전역최소해를 찾을 수 있다."
   ]
  },
  {
   "cell_type": "markdown",
   "id": "0ab469d7-978f-499b-8b30-978376726dd6",
   "metadata": {},
   "source": [
    "`(2)`"
   ]
  },
  {
   "cell_type": "markdown",
   "id": "98a8a0e6-d952-4ca0-9732-3133b2da17f3",
   "metadata": {},
   "source": [
    "`(3)`"
   ]
  },
  {
   "cell_type": "markdown",
   "id": "78b042c9-709e-478c-b990-5ad396911b9c",
   "metadata": {},
   "source": [
    "`(4)`"
   ]
  },
  {
   "cell_type": "markdown",
   "id": "d41822ed-1725-4bc5-8df1-801ae487f8ee",
   "metadata": {},
   "source": [
    "`(5)`"
   ]
  },
  {
   "cell_type": "markdown",
   "id": "d666f850-1f86-43ec-8101-d64dee40ef74",
   "metadata": {},
   "source": [
    "### some notes"
   ]
  },
  {
   "cell_type": "markdown",
   "id": "f4e5b948-3fc2-493a-a38a-64b0db4458ea",
   "metadata": {},
   "source": [
    "`-` 용어를 모르겠는 분은 질문하시기 바랍니다.\n",
    "\n",
    "`-` 풀다가 에러나는 코드 질문하면 에러 수정해드립니다."
   ]
  }
 ],
 "metadata": {
  "kernelspec": {
   "display_name": "Python 3 (ipykernel)",
   "language": "python",
   "name": "python3"
  },
  "language_info": {
   "codemirror_mode": {
    "name": "ipython",
    "version": 3
   },
   "file_extension": ".py",
   "mimetype": "text/x-python",
   "name": "python",
   "nbconvert_exporter": "python",
   "pygments_lexer": "ipython3",
   "version": "3.10.0"
  }
 },
 "nbformat": 4,
 "nbformat_minor": 5
}
