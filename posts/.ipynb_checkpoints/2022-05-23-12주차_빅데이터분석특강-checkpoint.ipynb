{
 "cells": [
  {
   "cell_type": "markdown",
   "id": "9a0d8061-69f1-4f26-907b-2bfa16f6befd",
   "metadata": {},
   "source": [
    "# 12주차-5월 23일\n",
    "> 빅데이터분석특강\n",
    "\n",
    "- toc:false\n",
    "- branch: master\n",
    "- badges: true\n",
    "- comments: true\n",
    "- author: 심재인"
   ]
  },
  {
   "cell_type": "markdown",
   "id": "2401d332-0416-489a-a5e7-0c49afac7965",
   "metadata": {},
   "source": [
    "## imports"
   ]
  },
  {
   "cell_type": "code",
   "execution_count": 1,
   "id": "37c0d26b-78f9-4665-a930-d7f0bd353db2",
   "metadata": {},
   "outputs": [],
   "source": [
    "import tensorflow as tf\n",
    "import tensorflow.experimental.numpy as tnp"
   ]
  },
  {
   "cell_type": "code",
   "execution_count": 2,
   "id": "d7e46f02-6fbe-4ff1-859f-bf2fa3bf80f4",
   "metadata": {},
   "outputs": [],
   "source": [
    "tnp.experimental_enable_numpy_behavior()"
   ]
  },
  {
   "cell_type": "code",
   "execution_count": 3,
   "id": "eacd35c8-6681-48e7-a2c5-ba968aea89b2",
   "metadata": {},
   "outputs": [],
   "source": [
    "import matplotlib.pyplot as plt\n",
    "import numpy as np"
   ]
  },
  {
   "cell_type": "code",
   "execution_count": 4,
   "id": "e59d8288-99b9-4cbe-9f98-bd3e357972d8",
   "metadata": {},
   "outputs": [],
   "source": [
    "%load_ext tensorboard"
   ]
  },
  {
   "cell_type": "markdown",
   "id": "a2225c64-a848-482a-966e-7c207a4bd7c5",
   "metadata": {},
   "source": [
    "## CNN"
   ]
  },
  {
   "cell_type": "markdown",
   "id": "cf39dfa8-e508-4a9a-9d81-ed5e40cca185",
   "metadata": {},
   "source": [
    "### CONV의 역할"
   ]
  },
  {
   "cell_type": "markdown",
   "id": "e4d50ceb-ce63-4e0d-a9ed-d0ab7288b6ae",
   "metadata": {},
   "source": [
    "`-` 데이터생성 (그냥 흑백대비 데이터)"
   ]
  },
  {
   "cell_type": "code",
   "execution_count": null,
   "id": "ca22652c-0503-4a26-b4e2-a8dd66d642bb",
   "metadata": {},
   "outputs": [],
   "source": [
    "_X1 = tnp.ones([50,25])*10 \n",
    "_X1"
   ]
  },
  {
   "cell_type": "code",
   "execution_count": null,
   "id": "2079c1e2-84b7-4612-bd18-dffade107542",
   "metadata": {},
   "outputs": [],
   "source": [
    "_X2 = tnp.zeros([50,25])*10 \n",
    "_X2"
   ]
  },
  {
   "cell_type": "code",
   "execution_count": null,
   "id": "384586ad-ff0f-4112-98a4-229fbcb01ffd",
   "metadata": {},
   "outputs": [],
   "source": [
    "tf.concat([_X1,_X2],axis=1)"
   ]
  },
  {
   "cell_type": "code",
   "execution_count": null,
   "id": "c370c53b-d810-4adb-94f5-b256f6805d98",
   "metadata": {},
   "outputs": [],
   "source": [
    "_noise = tnp.random.randn(50*50).reshape(50,50)\n",
    "_noise"
   ]
  },
  {
   "cell_type": "code",
   "execution_count": null,
   "id": "5de31377-592f-4bf2-828b-b9562e958034",
   "metadata": {},
   "outputs": [],
   "source": [
    "XXX = tf.concat([_X1,_X2],axis=1) + _noise"
   ]
  },
  {
   "cell_type": "code",
   "execution_count": null,
   "id": "a2eb9ad6-4982-4f1d-85ec-cf80a384e2aa",
   "metadata": {},
   "outputs": [],
   "source": [
    "XXX=XXX.reshape(1,50,50,1)"
   ]
  },
  {
   "cell_type": "code",
   "execution_count": null,
   "id": "6fac4046-98e6-4608-aa73-938c70aa012d",
   "metadata": {},
   "outputs": [],
   "source": [
    "plt.imshow(XXX.reshape(50,50),cmap='gray')"
   ]
  },
  {
   "cell_type": "markdown",
   "id": "616c8d82-32f8-43b2-843a-867a007e7ae0",
   "metadata": {},
   "source": [
    "`-` conv layer 생성"
   ]
  },
  {
   "cell_type": "code",
   "execution_count": null,
   "id": "bb8dd800-2755-4a4a-88ff-e986cfadbcb2",
   "metadata": {},
   "outputs": [],
   "source": [
    "conv = tf.keras.layers.Conv2D(2,(2,2))"
   ]
  },
  {
   "cell_type": "code",
   "execution_count": null,
   "id": "2d732cff-6e57-49ea-9473-cb0c4e2fb6fa",
   "metadata": {},
   "outputs": [],
   "source": [
    "conv.weights # 처음에는 가중치가 없음"
   ]
  },
  {
   "cell_type": "code",
   "execution_count": null,
   "id": "7c6931db-b620-4144-9fe2-a4ddea9a81ff",
   "metadata": {},
   "outputs": [],
   "source": [
    "conv(XXX) # 가중치를 만들기 위해서 XXX를 conv에 한번 통과시킴\n",
    "conv.weights # 이제 가중치가 생김"
   ]
  },
  {
   "cell_type": "markdown",
   "id": "bbe07b8a-036a-4b1f-9750-b6c796e42525",
   "metadata": {},
   "source": [
    "`-` 가중치의 값을 확인해보자."
   ]
  },
  {
   "cell_type": "code",
   "execution_count": null,
   "id": "7de647b6-7c08-45ec-b5c8-ef1cc4e22d4e",
   "metadata": {},
   "outputs": [],
   "source": [
    "conv.weights[0] # kernel에 해당하는것 "
   ]
  },
  {
   "cell_type": "code",
   "execution_count": null,
   "id": "748f1d66-5c82-4e95-ae57-7b7e1568ee01",
   "metadata": {},
   "outputs": [],
   "source": [
    "conv.weights[1] # bias에 해당하는것"
   ]
  },
  {
   "cell_type": "markdown",
   "id": "640b6df6-5641-4a07-a589-70f5da5ea41b",
   "metadata": {},
   "source": [
    "`-` 필터값을 원하는 것으로 변경해보자."
   ]
  },
  {
   "cell_type": "code",
   "execution_count": null,
   "id": "b77c7f1a-2c78-4781-afc7-cd97ea33fe46",
   "metadata": {},
   "outputs": [],
   "source": [
    "w0 = [[0.25,0.25],[0.25,0.25]] # 잡티를 제거하는 효과를 준다.\n",
    "w1 = [[-1.0,1.0],[-1.0,1.0]] # 경계를 찾기 좋아보이는 필터이다. (엣지검출)"
   ]
  },
  {
   "cell_type": "code",
   "execution_count": null,
   "id": "20a2587e-ae7f-45f0-9e81-509f9de73cb0",
   "metadata": {},
   "outputs": [],
   "source": [
    "w=np.concatenate([np.array(w0).reshape(2,2,1,1),np.array(w1).reshape(2,2,1,1)],axis=-1)\n",
    "w"
   ]
  },
  {
   "cell_type": "code",
   "execution_count": null,
   "id": "946bbc90-8492-428d-a3b3-119c77a0132a",
   "metadata": {},
   "outputs": [],
   "source": [
    "b= np.array([0.0,0.0])\n",
    "b"
   ]
  },
  {
   "cell_type": "code",
   "execution_count": null,
   "id": "a139bdb2-ac9c-47c8-baf7-3a22ff008ceb",
   "metadata": {},
   "outputs": [],
   "source": [
    "conv.set_weights([w,b])\n",
    "conv.get_weights()"
   ]
  },
  {
   "cell_type": "markdown",
   "id": "7ff00d9f-abad-44bd-86cc-ea60e39f1a68",
   "metadata": {},
   "source": [
    "- 첫번째는 평균을 구하는 필터,\n",
    "- 두번째는 엣지를 검출하는 필터"
   ]
  },
  {
   "cell_type": "markdown",
   "id": "4ac06eac-bb31-40b2-8d4b-0aa986e6b60b",
   "metadata": {},
   "source": [
    "`-` 필터를 넣은 결과를 확인"
   ]
  },
  {
   "cell_type": "code",
   "execution_count": null,
   "id": "f540f8e1-a11a-4c0d-8ff8-b2ab2b319855",
   "metadata": {},
   "outputs": [],
   "source": [
    "XXX0=conv(XXX)[...,0] # 채널0\n",
    "XXX0"
   ]
  },
  {
   "cell_type": "code",
   "execution_count": null,
   "id": "312c87f3-fa53-4ed8-a497-1db16422b125",
   "metadata": {},
   "outputs": [],
   "source": [
    "XXX1=conv(XXX)[...,1] # 채널1\n",
    "XXX1"
   ]
  },
  {
   "cell_type": "markdown",
   "id": "f0ecdc15-f0ac-4408-a4bd-85451282f600",
   "metadata": {},
   "source": [
    "`-` 각 채널을 시각화"
   ]
  },
  {
   "cell_type": "code",
   "execution_count": null,
   "id": "03df0179-4e4c-4234-8049-27ab952ad579",
   "metadata": {},
   "outputs": [],
   "source": [
    "fig, ((ax1,ax2),(ax3,ax4)) = plt.subplots(2,2)"
   ]
  },
  {
   "cell_type": "code",
   "execution_count": null,
   "id": "615a015c-e3ea-45b4-845b-7ac65e5b48d9",
   "metadata": {},
   "outputs": [],
   "source": [
    "ax1.imshow(XXX.reshape(50,50),cmap='gray')"
   ]
  },
  {
   "cell_type": "code",
   "execution_count": null,
   "id": "f00606b3-a94e-4e3c-a2ed-01488920f546",
   "metadata": {},
   "outputs": [],
   "source": [
    "ax3.imshow(XXX0.reshape(49,49),cmap='gray')"
   ]
  },
  {
   "cell_type": "code",
   "execution_count": null,
   "id": "0c18ae8d-466b-455c-a93e-b193a0a7062d",
   "metadata": {},
   "outputs": [],
   "source": [
    "ax4.imshow(XXX1.reshape(49,49),cmap='gray')"
   ]
  },
  {
   "cell_type": "code",
   "execution_count": null,
   "id": "79f607de-36df-4fda-ad19-4d59e5c2dc74",
   "metadata": {},
   "outputs": [],
   "source": [
    "fig"
   ]
  },
  {
   "cell_type": "markdown",
   "id": "ab05b958-f9fe-400a-a865-348933ee8b92",
   "metadata": {},
   "source": [
    "- 2사분면: 원래이미지\n",
    "- 3사분면: 원래이미지 -> 평균을 의미하는 conv적용\n",
    "- 4사분면: 원래이미지 -> 엣지를 검출하는 conv적용"
   ]
  },
  {
   "cell_type": "markdown",
   "id": "3a64dfb5-2afa-4c48-9a6d-6bbfee54dba9",
   "metadata": {},
   "source": [
    "`-` conv(XXX)의 각 채널에 한번더 conv를 통과시켜보자"
   ]
  },
  {
   "cell_type": "code",
   "execution_count": null,
   "id": "518cf53a-9ab0-4a2f-be61-1c631a10ca0f",
   "metadata": {},
   "outputs": [],
   "source": [
    "conv(XXX0.reshape(1,49,49,1))[...,0] ### XXX0 -> 평균필터 <=> XXX -> 평균필터 -> 평균필터\n",
    "conv(XXX0.reshape(1,49,49,1))[...,1] ### XXX0 -> 엣지필터 <=> XXX -> 평균필터 -> 엣지필터\n",
    "conv(XXX1.reshape(1,49,49,1))[...,0] ### XXX1 -> 평균필터 <=> XXX -> 엣지필터 -> 평균필터\n",
    "conv(XXX1.reshape(1,49,49,1))[...,1] ### XXX1 -> 엣지필터 <=> XXX -> 엣지필터 -> 엣지필터"
   ]
  },
  {
   "cell_type": "code",
   "execution_count": null,
   "id": "f4583c53-3c0d-4a3f-95f2-f64fc50db9f3",
   "metadata": {},
   "outputs": [],
   "source": [
    "fig,ax =plt.subplots(3,4)"
   ]
  },
  {
   "cell_type": "code",
   "execution_count": null,
   "id": "50f8e623-5f23-4952-9ec1-32c95e1f1ede",
   "metadata": {},
   "outputs": [],
   "source": [
    "ax[0][0].imshow(XXX.reshape(50,50),cmap='gray') # 원래이미지"
   ]
  },
  {
   "cell_type": "code",
   "execution_count": null,
   "id": "ee3810ab-eb41-49a7-bebc-27db702fdff5",
   "metadata": {},
   "outputs": [],
   "source": [
    "ax[1][0].imshow(XXX0.reshape(49,49),cmap='gray') # 원래이미지 -> 평균필터 \n",
    "ax[1][2].imshow(XXX1.reshape(49,49),cmap='gray') # 원래이미지 -> 엣지필터"
   ]
  },
  {
   "cell_type": "code",
   "execution_count": null,
   "id": "ce1b9c76-f294-4934-9eb6-ff6f125d7093",
   "metadata": {},
   "outputs": [],
   "source": [
    "ax[2][0].imshow(conv(XXX0.reshape(1,49,49,1))[...,0].reshape(48,48),cmap='gray') # 원래이미지 -> 평균필터 \n",
    "ax[2][1].imshow(conv(XXX0.reshape(1,49,49,1))[...,1].reshape(48,48),cmap='gray') # 원래이미지 -> 엣지필터\n",
    "ax[2][2].imshow(conv(XXX1.reshape(1,49,49,1))[...,0].reshape(48,48),cmap='gray') # 원래이미지 -> 평균필터 \n",
    "ax[2][3].imshow(conv(XXX1.reshape(1,49,49,1))[...,1].reshape(48,48),cmap='gray') # 원래이미지 -> 엣지필터"
   ]
  },
  {
   "cell_type": "code",
   "execution_count": null,
   "id": "0722a185-1e0f-4144-96da-2db0dc01715c",
   "metadata": {},
   "outputs": [],
   "source": [
    "fig.set_figheight(8)\n",
    "fig.set_figwidth(16)\n",
    "fig.tight_layout()\n",
    "fig"
   ]
  },
  {
   "cell_type": "markdown",
   "id": "f80495f8-3a03-4c58-951f-9f3dfec8511e",
   "metadata": {},
   "source": [
    "`-` 요약 \n",
    "- conv의 weight에 따라서 엣지를 검출하는 필터가 만들어지기도 하고 스무딩의 역할을 하는 필터가 만들어지기도 한다. 그리고 우리는 의미를 알 수 없지만 어떠한 역할을 하는 필터가 만들어질 것이다. \n",
    "- 이것들을 조합하다보면 우연히 이미지를 분류하기에 유리한 특징을 뽑아내는 weight가 맞춰질 수도 있겠다. \n",
    "- 채널수를 많이 만들고 다양한 웨이트조합을 실험하다보면 보다 복잡한 이미지의 특징을 추출할 수도 있을 것이다? \n",
    "- 컨볼루션 레이어의 역할 = 이미지의 특징을 추출하는 역할 "
   ]
  },
  {
   "cell_type": "markdown",
   "id": "7690e1c4-d4b7-419a-867e-3fd655b6d051",
   "metadata": {},
   "source": [
    "`-` 참고: 스트라이드, 패딩\n",
    "- 스트라이드: 윈도우가 1칸씩 이동하는 것이 아니라 2~3칸씩 이동함 \n",
    "- 패딩: 이미지의 가장자리에 정당한 값을 넣어서 (예를들어 0) 컨볼루션을 수행. 따라서 컨볼루션 연산 이후에도 이미지의 크기가 줄어들지 않도록 방지한다."
   ]
  },
  {
   "cell_type": "markdown",
   "id": "10839bfd-3d5e-4d1f-ab8e-5e9645826b6d",
   "metadata": {},
   "source": [
    "### MAXPOOL"
   ]
  },
  {
   "cell_type": "markdown",
   "id": "29d7d0b6-a3ad-4724-9a5f-70a8043831a2",
   "metadata": {},
   "source": [
    "`-` 기본적역할: 이미지의 크기를 줄이는 것\n",
    "- 이미지의의 크기를 줄여야하는 이유? 어차피 최종적으로 10차원으로 줄어야하므로\n",
    "- 이미지의 크기를 줄이면서도 동시에 아주 크리티컬한 특징은 손실없이 유지하고 싶다~"
   ]
  },
  {
   "cell_type": "markdown",
   "id": "e9afb4a2-f723-4e97-bd4e-e8270f34a744",
   "metadata": {},
   "source": [
    "`-` 점점 작은 이미지가 되면서 중요한 특징들은 살아남지만 그렇지 않으면 죽는다. (캐리커쳐 느낌)"
   ]
  },
  {
   "cell_type": "markdown",
   "id": "66e44c33-a441-4280-8fbe-1fcfa427fe8e",
   "metadata": {},
   "source": [
    "`-` 평균이 아니라 max를 쓴 이유는? 그냥 평균보다 나을것이라고 생각했음.. \n",
    "- 그런데 사실은 꼭 그렇지만은 않아서 최근에는 꼭 맥스풀링을 고집하진 않는 추세 (평균풀링도 많이씀)"
   ]
  },
  {
   "cell_type": "markdown",
   "id": "78b1c87a-5bd4-4b98-b914-6d225600b5ac",
   "metadata": {},
   "source": [
    "### CNN 아키텍처의 표현방법"
   ]
  },
  {
   "cell_type": "markdown",
   "id": "77063bdc-ecf9-4525-b93f-62eacd489b97",
   "metadata": {},
   "source": [
    "`-` 아래와 같이 아키텍처의 다이어그램형태로 표현하고 굳이 노드별로 이미지를 그리진 않음"
   ]
  },
  {
   "cell_type": "markdown",
   "id": "4898b656-10ce-4024-8e83-b1ea3a79d04d",
   "metadata": {},
   "source": [
    "![](https://upload.wikimedia.org/wikipedia/commons/thumb/c/cc/Comparison_image_neural_networks.svg/2560px-Comparison_image_neural_networks.svg.png)"
   ]
  },
  {
   "cell_type": "markdown",
   "id": "e5885cfb-c902-43b1-af8d-0883286484b6",
   "metadata": {},
   "source": [
    "`-` 물론 아래와 같이 그리는 경우도 있음"
   ]
  },
  {
   "cell_type": "markdown",
   "id": "0691d2d9-4c8f-425a-9410-d4a682485483",
   "metadata": {},
   "source": [
    "![](https://editor.analyticsvidhya.com/uploads/90650dnn2.jpeg)"
   ]
  },
  {
   "cell_type": "markdown",
   "id": "dd9908d2-8d61-49e6-9c25-ec01ab99b882",
   "metadata": {},
   "source": [
    "### Discusstion about CNN"
   ]
  },
  {
   "cell_type": "markdown",
   "id": "02ea8ccb-aab1-43a4-90ef-932a17f6276d",
   "metadata": {},
   "source": [
    "`-` 격자형태로 배열된 자료를 처리하는데 특화된 신경망이다.\n",
    "- 시계열 (1차원격자), 이미지 (2차원격자)"
   ]
  },
  {
   "cell_type": "markdown",
   "id": "1cbd6627-73db-41c2-8e83-30e5e48603e2",
   "metadata": {},
   "source": [
    "`-` 실제응용에서 엄청난 성공을 거두었다."
   ]
  },
  {
   "cell_type": "markdown",
   "id": "756f730b-d1cc-457f-a585-27912bb48ada",
   "metadata": {},
   "source": [
    "`-` 이름의 유래는 컨볼루션이라는 수학적 연산을 사용했기 때문\n",
    "- 컨볼루션은 조금 특별한 선형변환이다."
   ]
  },
  {
   "cell_type": "markdown",
   "id": "a96bbf1d-f825-4cad-aacd-0a7e457e1c60",
   "metadata": {},
   "source": [
    "`-` 신경과학의 원리가 심층학습에 영향을 미친 사례이다."
   ]
  },
  {
   "cell_type": "markdown",
   "id": "f3e93dd3-6deb-4349-b395-ecda10e92247",
   "metadata": {},
   "source": [
    "### CNN의 모티브"
   ]
  },
  {
   "cell_type": "markdown",
   "id": "b5d75f04-4ad0-4bf1-992a-43b9ced757f1",
   "metadata": {},
   "source": [
    "`-` 희소성 + 매개변수의 공유\n",
    "- 다소 철학적인 모티브임 \n",
    "- 희소성: 이미지를 분석하여 특징을 뽑아낼때 부분부분의 특징만 뽑으면 된다는 의미 \n",
    "- 매개변수의 공유: 한 채널에는 하나의 역할을 하는 커널을 설계하면 된다는 의미 (스무딩이든 엣징이든). 즉 어떤지역은 스무딩, 어떤지역은 엣징을 할 필요가 없이 한채널에서는 엣징만, 다른채널에서는 스무딩만 수행한뒤 여러채널을 조합해서 이해하면 된다."
   ]
  },
  {
   "cell_type": "markdown",
   "id": "58d5dafb-1a7f-4254-a9e6-9e421141cc0c",
   "metadata": {},
   "source": [
    "`-` 매개변수 공유효과로 인해서 파라메터가 확 줄어든다."
   ]
  },
  {
   "cell_type": "markdown",
   "id": "d076e341-4eeb-4afd-b4b3-ff81739d1a3c",
   "metadata": {},
   "source": [
    "(예시) (1,6,6,1) -> (1,5,5,2)\n",
    "- MLP방식이면 (36,50) 의 차원을 가진 매트릭스가 필요함 => 1800개의 매개변수 필요\n",
    "- CNN은 8개의 매개변수 필요"
   ]
  },
  {
   "cell_type": "markdown",
   "id": "aaed89cc-9e92-43fa-a0a2-954414f8a0a3",
   "metadata": {},
   "source": [
    "### CNN 신경망의 기본구조"
   ]
  },
  {
   "cell_type": "markdown",
   "id": "63a11a0b-6133-4243-a8ea-ae91b13fa072",
   "metadata": {},
   "source": [
    "`-` 기본유닛\n",
    "- conv - activation - pooling\n",
    "- conv - conv - activation - pooling"
   ]
  },
  {
   "cell_type": "markdown",
   "id": "95c41735-b1ea-418d-9282-5315e6a2a5cd",
   "metadata": {},
   "source": [
    "## 모형의 성능을 올리기 위한 노력들"
   ]
  },
  {
   "cell_type": "markdown",
   "id": "b1d456f7-41bb-45dc-96b2-5193dc94cee8",
   "metadata": {},
   "source": [
    "### dropout"
   ]
  },
  {
   "cell_type": "markdown",
   "id": "94f24de6-f550-41f3-95e2-412ebd1eb8c7",
   "metadata": {},
   "source": [
    "`-` 아래의 예제를 복습하자."
   ]
  },
  {
   "cell_type": "code",
   "execution_count": null,
   "id": "041b6ba3-074f-4865-9473-0a1f664164c3",
   "metadata": {},
   "outputs": [],
   "source": [
    "np.random.seed(43052)\n",
    "x = np.linspace(0,1,100).reshape(100,1)\n",
    "y = np.random.normal(loc=0,scale=0.01,size=(100,1))\n",
    "plt.plot(x,y)"
   ]
  },
  {
   "cell_type": "code",
   "execution_count": null,
   "id": "656fc0b8-b724-43a6-9a60-e244c787e767",
   "metadata": {},
   "outputs": [],
   "source": [
    "tf.random.set_seed(43052)\n",
    "net = tf.keras.Sequential()\n",
    "net.add(tf.keras.layers.Dense(2048,activation='relu'))\n",
    "net.add(tf.keras.layers.Dense(1))\n",
    "net.compile(loss='mse',optimizer='adam')\n",
    "net.fit(x,y,epochs=5000,verbose=0,batch_size=100)"
   ]
  },
  {
   "cell_type": "code",
   "execution_count": null,
   "id": "b6979a34-0b6d-4f11-8c87-98ba366997cc",
   "metadata": {},
   "outputs": [],
   "source": [
    "plt.plot(x,y)\n",
    "plt.plot(x,net(x),'--')"
   ]
  },
  {
   "cell_type": "markdown",
   "id": "aeaee1dd-b953-46d2-a307-f51952539a3d",
   "metadata": {},
   "source": [
    "`-` train/test로 나누어서 생각해보자."
   ]
  },
  {
   "cell_type": "code",
   "execution_count": null,
   "id": "f0d482ec-4f00-4d8e-a4a5-9500d4c900ef",
   "metadata": {},
   "outputs": [],
   "source": [
    "tf.random.set_seed(43052)\n",
    "net = tf.keras.Sequential()\n",
    "net.add(tf.keras.layers.Dense(2048,activation='relu'))\n",
    "net.add(tf.keras.layers.Dense(1))\n",
    "net.compile(loss='mse',optimizer='adam')\n",
    "net.fit(x[:80],y[:80],epochs=5000,verbose=0,batch_size=80)"
   ]
  },
  {
   "cell_type": "code",
   "execution_count": null,
   "id": "561417a2-40d0-4189-877e-ad4abfc72648",
   "metadata": {},
   "outputs": [],
   "source": [
    "plt.plot(x,y)\n",
    "plt.plot(x[:80],net(x[:80]),'--')"
   ]
  },
  {
   "cell_type": "code",
   "execution_count": null,
   "id": "b0a69a36-b3b0-4b87-806d-158614539ac7",
   "metadata": {},
   "outputs": [],
   "source": [
    "plt.plot(x,y)\n",
    "plt.plot(x[:80],net(x[:80]),'--')\n",
    "plt.plot(x[80:],net(x[80:]),'--')"
   ]
  },
  {
   "cell_type": "markdown",
   "id": "5b80a3c8-5e4b-4086-9427-be36fed5fd78",
   "metadata": {},
   "source": [
    "- train에서 추세를 따라가는게 좋은게 아니다 $\\to$ 그냥 직선으로 핏하는거 이외에는 다 오버핏이다."
   ]
  },
  {
   "cell_type": "markdown",
   "id": "421fd3b7-4edd-473b-8406-32cff5f91e1d",
   "metadata": {},
   "source": [
    "`-` 매 에폭마다 적당히 80%의 노드들을 빼고 학습하자 $\\to$ 너무 잘 학습되는 문제는 생기지 않을 것이다 (과적합이 방지될것이다?)"
   ]
  },
  {
   "cell_type": "code",
   "execution_count": null,
   "id": "ae29c67e-18a7-4565-a0b6-d8224e94d7df",
   "metadata": {},
   "outputs": [],
   "source": [
    "tf.random.set_seed(43052)\n",
    "net = tf.keras.Sequential()\n",
    "net.add(tf.keras.layers.Dense(2048,activation='relu'))\n",
    "net.add(tf.keras.layers.Dropout(0.8))\n",
    "net.add(tf.keras.layers.Dense(1))\n",
    "net.compile(loss='mse',optimizer='adam')\n",
    "net.fit(x[:80],y[:80],epochs=5000,verbose=0,batch_size=80)"
   ]
  },
  {
   "cell_type": "code",
   "execution_count": null,
   "id": "aa4457ad-6e6e-42b6-9d6d-4872c8a36c67",
   "metadata": {},
   "outputs": [],
   "source": [
    "plt.plot(x,y)\n",
    "plt.plot(x[:80],net(x[:80]),'--')\n",
    "plt.plot(x[80:],net(x[80:]),'--')"
   ]
  },
  {
   "cell_type": "markdown",
   "id": "94fe206e-c30f-4734-986d-303a0d69bd76",
   "metadata": {},
   "source": [
    "`-` 드랍아웃에 대한 summary\n",
    "- 직관: 특정노드를 랜덤으로 off시키면 학습이 방해되어 오히려 과적합이 방지되는 효과가 있다 (그렇지만 진짜 중요한 특징이라면 랜덤으로 off 되더라도 어느정도는 학습될 듯)\n",
    "- note: 드랍아웃을 쓰면 오버핏이 줄어드는건 맞지만 완전히 없어지는건 아니다. \n",
    "- note: 오버핏을 줄이는 유일한 방법이 드랍아웃만 있는것도 아니며, 드랍아웃이 오버핏을 줄이는 가장 효과적인 방법도 아니다 (최근에는 dropout보다 batch nomalization을 사용하는 추세임)"
   ]
  },
  {
   "cell_type": "markdown",
   "id": "18d7db1a-ea51-42fc-8e87-cbb3ed106027",
   "metadata": {},
   "source": [
    "### train / val / test"
   ]
  },
  {
   "cell_type": "markdown",
   "id": "f1fb3143-035f-4538-908b-774fba6a9cf4",
   "metadata": {},
   "source": [
    "`-` data"
   ]
  },
  {
   "cell_type": "code",
   "execution_count": 5,
   "id": "30806456-5606-4a6a-9e7b-6dab97293384",
   "metadata": {},
   "outputs": [],
   "source": [
    "(x_train, y_train), (x_test, y_test) = tf.keras.datasets.fashion_mnist.load_data()"
   ]
  },
  {
   "cell_type": "code",
   "execution_count": 6,
   "id": "51acc536-f139-45c6-a855-4b03fed2aef7",
   "metadata": {},
   "outputs": [],
   "source": [
    "X= x_train.reshape(-1,28,28,1)/255 ## 입력이 0~255 -> 0~1로 표준화 시키는 효과 + float으로 자료형이 바뀜 \n",
    "y = tf.keras.utils.to_categorical(y_train)\n",
    "XX = x_test.reshape(-1,28,28,1)/255\n",
    "yy = tf.keras.utils.to_categorical(y_test)"
   ]
  },
  {
   "cell_type": "code",
   "execution_count": 7,
   "id": "9573db9f-2e79-4de8-9a3f-b50d844756c3",
   "metadata": {},
   "outputs": [
    {
     "name": "stderr",
     "output_type": "stream",
     "text": [
      "2022-05-31 16:53:48.849962: I tensorflow/stream_executor/cuda/cuda_gpu_executor.cc:939] successful NUMA node read from SysFS had negative value (-1), but there must be at least one NUMA node, so returning NUMA node zero\n"
     ]
    }
   ],
   "source": [
    "net = tf.keras.Sequential()\n",
    "net.add(tf.keras.layers.Flatten())\n",
    "net.add(tf.keras.layers.Dense(50,activation='relu'))\n",
    "net.add(tf.keras.layers.Dense(10,activation='softmax'))\n",
    "net.compile(optimizer='adam',loss=tf.losses.categorical_crossentropy,metrics='accuracy')"
   ]
  },
  {
   "cell_type": "code",
   "execution_count": 8,
   "id": "41f3d434-3656-41dd-b364-b602b95353dd",
   "metadata": {
    "scrolled": true,
    "tags": []
   },
   "outputs": [
    {
     "name": "stdout",
     "output_type": "stream",
     "text": [
      "Epoch 1/20\n",
      "240/240 [==============================] - 1s 2ms/step - loss: 0.6819 - accuracy: 0.7696 - val_loss: 0.4942 - val_accuracy: 0.8319\n",
      "Epoch 2/20\n",
      "240/240 [==============================] - 0s 2ms/step - loss: 0.4641 - accuracy: 0.8415 - val_loss: 0.4446 - val_accuracy: 0.8464\n",
      "Epoch 3/20\n",
      "240/240 [==============================] - 0s 2ms/step - loss: 0.4207 - accuracy: 0.8533 - val_loss: 0.4199 - val_accuracy: 0.8533\n",
      "Epoch 4/20\n",
      "240/240 [==============================] - 0s 2ms/step - loss: 0.3964 - accuracy: 0.8633 - val_loss: 0.4084 - val_accuracy: 0.8551\n",
      "Epoch 5/20\n",
      "240/240 [==============================] - 0s 2ms/step - loss: 0.3810 - accuracy: 0.8677 - val_loss: 0.4046 - val_accuracy: 0.8597\n",
      "Epoch 6/20\n",
      "240/240 [==============================] - 1s 2ms/step - loss: 0.3677 - accuracy: 0.8722 - val_loss: 0.4016 - val_accuracy: 0.8635\n",
      "Epoch 7/20\n",
      "240/240 [==============================] - 0s 1ms/step - loss: 0.3520 - accuracy: 0.8783 - val_loss: 0.3747 - val_accuracy: 0.8702\n",
      "Epoch 8/20\n",
      "240/240 [==============================] - 0s 1ms/step - loss: 0.3466 - accuracy: 0.8777 - val_loss: 0.3715 - val_accuracy: 0.8725\n",
      "Epoch 9/20\n",
      "240/240 [==============================] - 0s 1ms/step - loss: 0.3375 - accuracy: 0.8811 - val_loss: 0.3739 - val_accuracy: 0.8707\n",
      "Epoch 10/20\n",
      "240/240 [==============================] - 0s 1ms/step - loss: 0.3279 - accuracy: 0.8852 - val_loss: 0.3615 - val_accuracy: 0.8754\n",
      "Epoch 11/20\n",
      "240/240 [==============================] - 0s 1ms/step - loss: 0.3212 - accuracy: 0.8871 - val_loss: 0.3545 - val_accuracy: 0.8781\n",
      "Epoch 12/20\n",
      "240/240 [==============================] - 0s 1ms/step - loss: 0.3148 - accuracy: 0.8883 - val_loss: 0.3697 - val_accuracy: 0.8703\n",
      "Epoch 13/20\n",
      "240/240 [==============================] - 0s 2ms/step - loss: 0.3086 - accuracy: 0.8910 - val_loss: 0.3542 - val_accuracy: 0.8749\n",
      "Epoch 14/20\n",
      "240/240 [==============================] - 0s 1ms/step - loss: 0.3020 - accuracy: 0.8938 - val_loss: 0.3620 - val_accuracy: 0.8748\n",
      "Epoch 15/20\n",
      "240/240 [==============================] - 1s 2ms/step - loss: 0.2949 - accuracy: 0.8936 - val_loss: 0.3610 - val_accuracy: 0.8717\n",
      "Epoch 16/20\n",
      "240/240 [==============================] - 0s 2ms/step - loss: 0.2928 - accuracy: 0.8963 - val_loss: 0.3607 - val_accuracy: 0.8755\n",
      "Epoch 17/20\n",
      "240/240 [==============================] - 0s 1ms/step - loss: 0.2897 - accuracy: 0.8963 - val_loss: 0.3542 - val_accuracy: 0.8773\n",
      "Epoch 18/20\n",
      "240/240 [==============================] - 0s 2ms/step - loss: 0.2819 - accuracy: 0.8981 - val_loss: 0.3632 - val_accuracy: 0.8721\n",
      "Epoch 19/20\n",
      "240/240 [==============================] - 0s 2ms/step - loss: 0.2791 - accuracy: 0.9000 - val_loss: 0.3403 - val_accuracy: 0.8829\n",
      "Epoch 20/20\n",
      "240/240 [==============================] - 0s 2ms/step - loss: 0.2729 - accuracy: 0.9029 - val_loss: 0.3528 - val_accuracy: 0.8782\n"
     ]
    },
    {
     "data": {
      "text/plain": [
       "<keras.callbacks.History at 0x7fc05827aec0>"
      ]
     },
     "execution_count": 8,
     "metadata": {},
     "output_type": "execute_result"
    }
   ],
   "source": [
    "#collapse_output\n",
    "cb1 = tf.keras.callbacks.TensorBoard()\n",
    "net.fit(X,y,epochs=20,batch_size=200,validation_split=0.2,callbacks=cb1,verbose=1)"
   ]
  },
  {
   "cell_type": "markdown",
   "id": "a5038067-bcde-490f-ae2e-51908db5990e",
   "metadata": {},
   "source": [
    "`-` 텐서보드 여는 방법1"
   ]
  },
  {
   "cell_type": "code",
   "execution_count": 9,
   "id": "ae739235-6bd6-4012-b601-980ca8a3f287",
   "metadata": {},
   "outputs": [
    {
     "name": "stdout",
     "output_type": "stream",
     "text": [
      "The tensorboard extension is already loaded. To reload it, use:\n",
      "  %reload_ext tensorboard\n"
     ]
    }
   ],
   "source": [
    "%load_ext tensorboard\n",
    "# 주피터노트북 (혹은 주피터랩)에서 텐서보드를 임베딩하여 넣을 수 있도록 도와주는 매직펑션"
   ]
  },
  {
   "cell_type": "code",
   "execution_count": 10,
   "id": "ddac2c7c-74c1-4009-843e-2edecad85ceb",
   "metadata": {},
   "outputs": [],
   "source": [
    "#!rm -rf logs\n",
    "#!kill 313799"
   ]
  },
  {
   "cell_type": "code",
   "execution_count": 11,
   "id": "493445dd-8076-4339-8db5-10a4532c7cdf",
   "metadata": {},
   "outputs": [
    {
     "data": {
      "text/html": [
       "\n",
       "      <iframe id=\"tensorboard-frame-9f60614e7e633613\" width=\"100%\" height=\"800\" frameborder=\"0\">\n",
       "      </iframe>\n",
       "      <script>\n",
       "        (function() {\n",
       "          const frame = document.getElementById(\"tensorboard-frame-9f60614e7e633613\");\n",
       "          const url = new URL(\"/\", window.location);\n",
       "          const port = 6006;\n",
       "          if (port) {\n",
       "            url.port = port;\n",
       "          }\n",
       "          frame.src = url;\n",
       "        })();\n",
       "      </script>\n",
       "    "
      ],
      "text/plain": [
       "<IPython.core.display.HTML object>"
      ]
     },
     "metadata": {},
     "output_type": "display_data"
    }
   ],
   "source": [
    "#\n",
    "%tensorboard --logdir logs --host 0.0.0.0\n",
    "# %tensorboard --logdir logs <-- 실습에서는 이렇게 하면됩니다."
   ]
  },
  {
   "cell_type": "markdown",
   "id": "a9ceea09-4aa3-4f61-a3b8-d940d8197977",
   "metadata": {},
   "source": [
    "(참고사항) 파이썬 3.10의 경우 아래의 수정이 필요\n",
    "\n",
    "`?/python3.10/site-packages/tensorboard/_vendor/html5lib/_trie/_base.py` 을 열고\n",
    "```python\n",
    "from collections import Mapping ### 수정전\n",
    "from collections.abc import Mapping ### 수정후 \n",
    "```\n",
    "와 같이 수정한다."
   ]
  },
  {
   "cell_type": "markdown",
   "id": "46030b77-db57-4a66-ba02-e748902ef052",
   "metadata": {},
   "source": [
    "- 왜냐하면 파이썬 3.10부터 `from collections import Mapping` 가 동작하지 않고 `from collections.abc import Mapping` 가 동작하도록 문법이 바뀜"
   ]
  },
  {
   "cell_type": "markdown",
   "id": "b7329fad-2199-4caa-8c8d-2664b68328bc",
   "metadata": {},
   "source": [
    "`-` 텐서보드를 실행하는 방법2"
   ]
  },
  {
   "cell_type": "code",
   "execution_count": null,
   "id": "ca586692-b253-4c73-a905-7193d6fbaa7d",
   "metadata": {},
   "outputs": [],
   "source": [
    "#\n",
    "# !tensorboard --logdir logs --host 0.0.0.0\n",
    "# !tensorboard --logdir logs <-- 실습에서는 이렇게 하면됩니다."
   ]
  },
  {
   "cell_type": "markdown",
   "id": "9a5ed5b7-1a32-4bf3-a3be-c50d5acbe113",
   "metadata": {},
   "source": [
    "### 조기종료"
   ]
  },
  {
   "cell_type": "markdown",
   "id": "c9a29bf3-b714-4a3c-948e-85ee94b1ca52",
   "metadata": {},
   "source": [
    "`-` 텐서보드를 살펴보니 특정에폭 이후에는 오히려 과적합이 진행되는 듯 하다 (학습할수록 손해인듯 하다) $\\to$ 그 특정에폭까지만 학습해보자"
   ]
  },
  {
   "cell_type": "code",
   "execution_count": null,
   "id": "0f1ce749-7460-4c05-bd32-79309711fdd6",
   "metadata": {},
   "outputs": [],
   "source": [
    "tf.random.set_seed(43052)\n",
    "net = tf.keras.Sequential()\n",
    "net.add(tf.keras.layers.Flatten())\n",
    "net.add(tf.keras.layers.Dense(5000,activation='relu')) ## 과적합좀 시키려고\n",
    "net.add(tf.keras.layers.Dense(5000,activation='relu')) ## 레이어를 2장만듬 + 레이어하나당 노드수도 증가\n",
    "net.add(tf.keras.layers.Dense(10,activation='softmax'))\n",
    "net.compile(optimizer='adam',loss=tf.losses.categorical_crossentropy,metrics='accuracy')"
   ]
  },
  {
   "cell_type": "code",
   "execution_count": null,
   "id": "6adaa187-8234-4cd9-8a2a-dd9da9718d87",
   "metadata": {
    "scrolled": true,
    "tags": []
   },
   "outputs": [],
   "source": [
    "#\n",
    "#cb1 = tf.keras.callbacks.TensorBoard()\n",
    "cb2 = tf.keras.callbacks.EarlyStopping(patience=1) # val-loss가 1회증가하면 멈추어라 \n",
    "net.fit(X,y,epochs=200,batch_size=200,validation_split=0.2,callbacks=cb2,verbose=1)"
   ]
  },
  {
   "cell_type": "code",
   "execution_count": null,
   "id": "e3fe4774-d7a5-4cd2-9c7f-89434b177d8f",
   "metadata": {},
   "outputs": [],
   "source": [
    "#\n",
    "#cb1 = tf.keras.callbacks.TensorBoard()\n",
    "cb2 = tf.keras.callbacks.EarlyStopping(patience=1) # val-loss가 1회증가하면 멈추어라 \n",
    "net.fit(X,y,epochs=200,batch_size=200,validation_split=0.2,callbacks=cb2,verbose=1)"
   ]
  },
  {
   "cell_type": "code",
   "execution_count": null,
   "id": "a1de657b-8523-4445-8449-77cbe6d33c97",
   "metadata": {},
   "outputs": [],
   "source": [
    "#\n",
    "#cb1 = tf.keras.callbacks.TensorBoard()\n",
    "cb2 = tf.keras.callbacks.EarlyStopping(patience=1) # val-loss가 1회증가하면 멈추어라 \n",
    "net.fit(X,y,epochs=200,batch_size=200,validation_split=0.2,callbacks=cb2,verbose=1)"
   ]
  },
  {
   "cell_type": "code",
   "execution_count": null,
   "id": "2c61fffb-1f87-4194-91d5-e5c2a646fb06",
   "metadata": {},
   "outputs": [],
   "source": [
    "#\n",
    "#cb1 = tf.keras.callbacks.TensorBoard()\n",
    "cb2 = tf.keras.callbacks.EarlyStopping(patience=1) # val-loss가 1회증가하면 멈추어라 \n",
    "net.fit(X,y,epochs=200,batch_size=200,validation_split=0.2,callbacks=cb2,verbose=1)"
   ]
  },
  {
   "cell_type": "code",
   "execution_count": null,
   "id": "eb43b4c4-2c40-4a9c-9189-4d124158dc96",
   "metadata": {},
   "outputs": [],
   "source": [
    "#\n",
    "#cb1 = tf.keras.callbacks.TensorBoard()\n",
    "cb2 = tf.keras.callbacks.EarlyStopping(patience=1) # val-loss가 1회증가하면 멈추어라 \n",
    "net.fit(X,y,epochs=200,batch_size=200,validation_split=0.2,callbacks=cb2,verbose=1)"
   ]
  },
  {
   "cell_type": "code",
   "execution_count": null,
   "id": "4dda29a7-0c65-4c1d-b629-c6c0943b8e1f",
   "metadata": {},
   "outputs": [],
   "source": [
    "#\n",
    "#cb1 = tf.keras.callbacks.TensorBoard()\n",
    "cb2 = tf.keras.callbacks.EarlyStopping(patience=1) # val-loss가 1회증가하면 멈추어라 \n",
    "net.fit(X,y,epochs=200,batch_size=200,validation_split=0.2,callbacks=cb2,verbose=1)"
   ]
  },
  {
   "cell_type": "markdown",
   "id": "4f99398c-f4b7-4a0a-b2b3-938ef04d94ce",
   "metadata": {},
   "source": [
    "`-` 몇 번 좀 참았다가 멈추면 좋겠다."
   ]
  },
  {
   "cell_type": "code",
   "execution_count": null,
   "id": "b1eee9d3-7479-42c6-8a94-f2a8e59e3039",
   "metadata": {},
   "outputs": [],
   "source": [
    "tf.random.set_seed(43052)\n",
    "net = tf.keras.Sequential()\n",
    "net.add(tf.keras.layers.Flatten())\n",
    "net.add(tf.keras.layers.Dense(5000,activation='relu')) ## 과적합좀 시키려고 \n",
    "net.add(tf.keras.layers.Dense(5000,activation='relu')) ## 레이어를 2장만듬 + 레이어하나당 노드수도 증가 \n",
    "net.add(tf.keras.layers.Dense(10,activation='softmax'))\n",
    "net.compile(optimizer='adam',loss=tf.losses.categorical_crossentropy,metrics='accuracy')"
   ]
  },
  {
   "cell_type": "code",
   "execution_count": null,
   "id": "74c77cb8-adf3-4b98-9598-0d2a296540fe",
   "metadata": {
    "scrolled": true,
    "tags": []
   },
   "outputs": [],
   "source": [
    "#\n",
    "#cb1 = tf.keras.callbacks.TensorBoard()\n",
    "cb2 = tf.keras.callbacks.EarlyStopping(patience=5) # 좀더 참다가 멈추어라 \n",
    "net.fit(X,y,epochs=200,batch_size=200,validation_split=0.2,callbacks=cb2,verbose=1)"
   ]
  },
  {
   "cell_type": "markdown",
   "id": "7654c36b-3a01-4449-9fb5-86fd83138005",
   "metadata": {},
   "source": [
    "`-` 텐서보드로 그려보자?"
   ]
  },
  {
   "cell_type": "code",
   "execution_count": null,
   "id": "4a54346d-de1d-465d-b6cb-60257d374ca5",
   "metadata": {},
   "outputs": [],
   "source": [
    "#\n",
    "# %tensorboard --logdir logs --host 0.0.0.0 \n",
    "# 아무것도 안나온다 -> 왜? cb1을 써야 텐서보드가 나옴"
   ]
  },
  {
   "cell_type": "markdown",
   "id": "3a5c7ca1-0de1-48cc-a565-0ed6a9bbd23b",
   "metadata": {},
   "source": [
    "`-` 조기종료와 텐서보드를 같이 쓰려면?"
   ]
  },
  {
   "cell_type": "code",
   "execution_count": null,
   "id": "48a60fc6-2290-4c1f-9cc9-7a2a11fe48c9",
   "metadata": {},
   "outputs": [],
   "source": [
    "tf.random.set_seed(43052)\n",
    "net = tf.keras.Sequential()\n",
    "net.add(tf.keras.layers.Flatten())\n",
    "net.add(tf.keras.layers.Dense(50,activation='relu')) \n",
    "net.add(tf.keras.layers.Dense(10,activation='softmax'))\n",
    "net.compile(optimizer='adam',loss=tf.losses.categorical_crossentropy,metrics='accuracy')"
   ]
  },
  {
   "cell_type": "code",
   "execution_count": null,
   "id": "804dfe18-9c68-4f2b-993a-7183ccb53662",
   "metadata": {
    "scrolled": true,
    "tags": []
   },
   "outputs": [],
   "source": [
    "cb1 = tf.keras.callbacks.TensorBoard()\n",
    "cb2 = tf.keras.callbacks.EarlyStopping(patience=7) # 좀더 참다가 멈추어라 \n",
    "net.fit(X,y,epochs=200,batch_size=200,validation_split=0.2,callbacks=[cb1,cb2])"
   ]
  },
  {
   "cell_type": "code",
   "execution_count": null,
   "id": "59b4017c-3c49-4c40-ba8b-a2360a32aafa",
   "metadata": {},
   "outputs": [],
   "source": [
    "# \n",
    "# 조기종료가 구현된 그림이 출력\n",
    "# %tensorboard --logdir logs --host 0.0.0.0"
   ]
  },
  {
   "cell_type": "markdown",
   "id": "34095cb3-1707-4cc2-a578-ef18c7b0146e",
   "metadata": {},
   "source": [
    "### 하이퍼파라메터 선택"
   ]
  },
  {
   "cell_type": "markdown",
   "id": "ee3c60ba-283d-4fbb-8d73-9d406d338f13",
   "metadata": {},
   "source": [
    "`-` 하이퍼파라메터 설정"
   ]
  },
  {
   "cell_type": "code",
   "execution_count": null,
   "id": "67f40498-f0ce-447c-9a89-e147ffb714ad",
   "metadata": {},
   "outputs": [],
   "source": [
    "from tensorboard.plugins.hparams import api as hp"
   ]
  },
  {
   "cell_type": "code",
   "execution_count": null,
   "id": "864f0918-9bfb-4388-8ee8-cee168205db3",
   "metadata": {},
   "outputs": [],
   "source": [
    "a=net.evaluate(XX,yy)"
   ]
  },
  {
   "cell_type": "code",
   "execution_count": null,
   "id": "f8560049-1635-48c1-a1bf-eb09e79735d0",
   "metadata": {
    "scrolled": true,
    "tags": []
   },
   "outputs": [],
   "source": [
    "!rm -rf logs\n",
    "for u in [50,5000]: \n",
    "    for d in [0.0,0.5]: \n",
    "        for o in ['adam','sgd']:\n",
    "            logdir = 'logs/hpguebin_{}_{}_{}'.format(u,d,o)\n",
    "            with tf.summary.create_file_writer(logdir).as_default():\n",
    "                net = tf.keras.Sequential()\n",
    "                net.add(tf.keras.layers.Flatten())\n",
    "                net.add(tf.keras.layers.Dense(u,activation='relu'))\n",
    "                net.add(tf.keras.layers.Dropout(d))\n",
    "                net.add(tf.keras.layers.Dense(10,activation='softmax'))\n",
    "                net.compile(optimizer=o,loss=tf.losses.categorical_crossentropy,metrics=['accuracy','Recall'])\n",
    "                cb3 = hp.KerasCallback(logdir, {'유닛수':u, '드랍아웃비율':d, '옵티마이저':o})\n",
    "                net.fit(X,y,epochs=3,callbacks=cb3)\n",
    "                _rslt=net.evaluate(XX,yy)\n",
    "                _mymetric=_rslt[1]*0.8 + _rslt[2]*0.2  \n",
    "                tf.summary.scalar('애큐러시와리컬의가중평균(테스트셋)', _mymetric, step=1)"
   ]
  },
  {
   "cell_type": "code",
   "execution_count": null,
   "id": "41bf7601-1dc1-4e42-a33e-a9fd73fccf06",
   "metadata": {},
   "outputs": [],
   "source": [
    "#\n",
    "#%tensorboard --logdir logs --host 0.0.0.0"
   ]
  },
  {
   "cell_type": "markdown",
   "id": "436bdccf-c4cf-4574-968c-9247419bec6c",
   "metadata": {},
   "source": [
    "## 숙제"
   ]
  },
  {
   "cell_type": "markdown",
   "id": "b727704f-c37d-4486-9e41-8bcfe35082c8",
   "metadata": {},
   "source": [
    "`-` 아래의 네트워크에서 옵티마이저를 adam, sgd를 선택하여 각각 적합시켜보고 testset의 loss를 성능비교를 하라. epoch은 5정도로 설정하라. \n",
    "```\n",
    "net = tf.keras.Sequential()\n",
    "net.add(tf.keras.layers.Flatten())\n",
    "net.add(tf.keras.layers.Dense(50,activation='relu'))\n",
    "net.add(tf.keras.layers.Dense(50,activation='relu'))\n",
    "net.add(tf.keras.layers.Dense(10,activation='softmax'))\n",
    "net.compile(optimizer=???,loss=tf.losses.categorical_crossentropy,metrics=['accuracy','Recall'])\n",
    "```"
   ]
  },
  {
   "cell_type": "code",
   "execution_count": null,
   "id": "b528d435-2d22-4aa4-a0cb-0557dc511133",
   "metadata": {},
   "outputs": [],
   "source": [
    "!rm -rf logs\n",
    "tf.random.set_seed(202150754)\n",
    "net1 = tf.keras.Sequential()\n",
    "net1.add(tf.keras.layers.Flatten())\n",
    "net1.add(tf.keras.layers.Dense(50,activation='relu'))\n",
    "net1.add(tf.keras.layers.Dense(50,activation='relu'))\n",
    "net1.add(tf.keras.layers.Dense(10,activation='softmax'))\n",
    "net1.compile(optimizer='adam',loss=tf.losses.categorical_crossentropy,metrics=['accuracy','Recall'])"
   ]
  },
  {
   "cell_type": "code",
   "execution_count": null,
   "id": "b7d0c0d0-93f9-4674-bd44-7e90d1fdb5ab",
   "metadata": {},
   "outputs": [],
   "source": [
    "cb1 = tf.keras.callbacks.TensorBoard()\n",
    "cb2 = tf.keras.callbacks.EarlyStopping(patience=7)\n",
    "net1.fit(X,y,epochs=5,batch_size=200,validation_split=0.2,callbacks=[cb1,cb2])"
   ]
  },
  {
   "cell_type": "code",
   "execution_count": null,
   "id": "bab720b5-b32e-4b2f-b44f-6940ba66327b",
   "metadata": {},
   "outputs": [],
   "source": [
    "%tensorboard --logdir logs --host 0.0.0.0"
   ]
  },
  {
   "cell_type": "markdown",
   "id": "1c0c8719-fce9-4738-b125-37ce5fc8f392",
   "metadata": {},
   "source": [
    "`-` sgd 적합"
   ]
  },
  {
   "cell_type": "code",
   "execution_count": null,
   "id": "bface93d-afce-4299-af2a-13745b08747f",
   "metadata": {},
   "outputs": [],
   "source": [
    "!rm -rf logs\n",
    "tf.random.set_seed(202150754)\n",
    "net2 = tf.keras.Sequential()\n",
    "net2.add(tf.keras.layers.Flatten())\n",
    "net2.add(tf.keras.layers.Dense(50,activation='relu'))\n",
    "net2.add(tf.keras.layers.Dense(50,activation='relu'))\n",
    "net2.add(tf.keras.layers.Dense(10,activation='softmax'))\n",
    "net2.compile(optimizer='sgd',loss=tf.losses.categorical_crossentropy,metrics=['accuracy','Recall'])"
   ]
  },
  {
   "cell_type": "code",
   "execution_count": null,
   "id": "2c96fc83-04ad-4887-8c71-6cf82215619e",
   "metadata": {},
   "outputs": [],
   "source": [
    "net2.fit(X,y,epochs=5,batch_size=200,validation_split=0.2,callbacks=[cb1,cb2]) "
   ]
  },
  {
   "cell_type": "code",
   "execution_count": null,
   "id": "e056fc9c-a760-4a60-8768-2e021d65ec84",
   "metadata": {},
   "outputs": [],
   "source": [
    "%tensorboard --logdir logs --host 0.0.0.0"
   ]
  },
  {
   "cell_type": "code",
   "execution_count": null,
   "id": "39bba389-d617-474e-a1a3-9b736b91ff3f",
   "metadata": {},
   "outputs": [],
   "source": [
    "net1.evaluate(XX,yy)[0]"
   ]
  },
  {
   "cell_type": "code",
   "execution_count": null,
   "id": "cb463a69-b022-4bce-b36e-66c3e3410d30",
   "metadata": {},
   "outputs": [],
   "source": [
    "net2.evaluate(XX,yy)[0]"
   ]
  },
  {
   "cell_type": "markdown",
   "id": "c1f77064-9684-4b63-9f01-22086f5e3357",
   "metadata": {},
   "source": [
    "adam을 선택했을떄 loss는 0.41707104444503784 이고,\n",
    "\n",
    "sgd을 선택했을때 loss는 0.6277241706848145 이다.\n",
    "\n",
    "loss 값을 보면 sgd보다 adam 값이 더 낮다."
   ]
  },
  {
   "cell_type": "code",
   "execution_count": null,
   "id": "d43ede14-ca14-4bbe-aee5-f7cdd604f204",
   "metadata": {},
   "outputs": [],
   "source": []
  }
 ],
 "metadata": {
  "kernelspec": {
   "display_name": "Python 3 (ipykernel)",
   "language": "python",
   "name": "python3"
  },
  "language_info": {
   "codemirror_mode": {
    "name": "ipython",
    "version": 3
   },
   "file_extension": ".py",
   "mimetype": "text/x-python",
   "name": "python",
   "nbconvert_exporter": "python",
   "pygments_lexer": "ipython3",
   "version": "3.10.2"
  }
 },
 "nbformat": 4,
 "nbformat_minor": 5
}
