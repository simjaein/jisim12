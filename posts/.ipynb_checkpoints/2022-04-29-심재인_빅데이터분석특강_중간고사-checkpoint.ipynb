{
 "cells": [
  {
   "cell_type": "code",
   "execution_count": null,
   "id": "8b75adff-08a9-4ca4-bce8-89b15b71103b",
   "metadata": {},
   "outputs": [],
   "source": []
  },
  {
   "cell_type": "markdown",
   "id": "a649de31-52c1-433a-9f73-212ff720832a",
   "metadata": {
    "tags": []
   },
   "source": [
    "# 빅데이터분석 특강 중간고사"
   ]
  },
  {
   "cell_type": "code",
   "execution_count": 1,
   "id": "a05d1125-708a-4485-92a7-75d22b4a90fc",
   "metadata": {},
   "outputs": [],
   "source": [
    "import numpy as np\n",
    "import tensorflow as tf \n",
    "import tensorflow.experimental.numpy as tnp "
   ]
  },
  {
   "cell_type": "code",
   "execution_count": 2,
   "id": "d18e1f6b-45d7-427c-8c84-9274f2ea341d",
   "metadata": {},
   "outputs": [],
   "source": [
    "tnp.experimental_enable_numpy_behavior()"
   ]
  },
  {
   "cell_type": "code",
   "execution_count": 3,
   "id": "87906483-47e5-408e-bcb7-ce0bcb1fad5b",
   "metadata": {},
   "outputs": [],
   "source": [
    "import matplotlib.pyplot as plt "
   ]
  },
  {
   "cell_type": "markdown",
   "id": "13f70088-339a-48c7-927b-1e039fe43b62",
   "metadata": {},
   "source": [
    "## `1`. 경사하강법과 tf.GradientTape()의 사용방법 (30점)"
   ]
  },
  {
   "cell_type": "markdown",
   "id": "1bf2e145-d18c-4006-93a0-c4e9f5f91d94",
   "metadata": {},
   "source": [
    "`(1)` 아래는 $X_i \\overset{iid}{\\sim} N(3,2^2)$ 를 생성하는 코드이다. "
   ]
  },
  {
   "cell_type": "code",
   "execution_count": 4,
   "id": "62c4c5bb-1c84-4d08-9a8c-0f56ac31fc7a",
   "metadata": {},
   "outputs": [
    {
     "name": "stderr",
     "output_type": "stream",
     "text": [
      "2022-04-25 20:47:56.696349: I tensorflow/stream_executor/cuda/cuda_gpu_executor.cc:939] successful NUMA node read from SysFS had negative value (-1), but there must be at least one NUMA node, so returning NUMA node zero\n"
     ]
    },
    {
     "data": {
      "text/plain": [
       "<tf.Tensor: shape=(10000,), dtype=float64, numpy=\n",
       "array([ 4.12539849,  5.46696729,  5.27243374, ...,  2.89712332,\n",
       "        5.01072291, -1.13050477])>"
      ]
     },
     "execution_count": 4,
     "metadata": {},
     "output_type": "execute_result"
    }
   ],
   "source": [
    "tf.random.set_seed(43052)\n",
    "x= tnp.random.randn(10000)*2+3\n",
    "x"
   ]
  },
  {
   "cell_type": "markdown",
   "id": "4266f989-9bc3-4bb6-ae0a-5bde6f7fa489",
   "metadata": {},
   "source": [
    "함수 $L(\\mu,\\sigma)$을 최대화하는 $(\\mu,\\sigma)$를 `tf.GradeintTape()`를 활용하여 추정하라. (경사하강법 혹은 경사상승법을 사용하고 $\\mu$의 초기값은 2로 $\\sigma$의 초기값은 3으로 설정할 것) \n",
    "\n",
    "$$L(\\mu,\\sigma)=\\prod_{i=1}^{n}f(x_i), \\quad f(x_i)=\\frac{1}{\\sqrt{2\\pi}\\sigma}e^{-\\frac{1}{2}(\\frac{x_i-\\mu}{\\sigma})^2}$$"
   ]
  },
  {
   "cell_type": "code",
   "execution_count": 5,
   "id": "ed2e3a75-501f-4920-ac81-d3051cc189de",
   "metadata": {},
   "outputs": [],
   "source": [
    "N = 10000"
   ]
  },
  {
   "cell_type": "code",
   "execution_count": 6,
   "id": "2bb3ef3a-76d6-4815-946c-544e8438970f",
   "metadata": {},
   "outputs": [],
   "source": [
    "y_true=(x-3)**2/2**2"
   ]
  },
  {
   "cell_type": "code",
   "execution_count": 7,
   "id": "cb46cc31-c040-4efb-9e3b-75b729d196e2",
   "metadata": {},
   "outputs": [],
   "source": [
    "epsilon = tnp.random.randn(N)*0.5\n",
    "y=(x-3)**2/2**2+epsilon"
   ]
  },
  {
   "cell_type": "code",
   "execution_count": 8,
   "id": "fbe5a559-ae9b-4874-969e-a6ce428623cf",
   "metadata": {},
   "outputs": [
    {
     "data": {
      "text/plain": [
       "(TensorShape([10000]), TensorShape([10000]))"
      ]
     },
     "execution_count": 8,
     "metadata": {},
     "output_type": "execute_result"
    }
   ],
   "source": [
    "x.shape, y.shape"
   ]
  },
  {
   "cell_type": "code",
   "execution_count": 9,
   "id": "4eb51371-6f65-442a-a391-344adc2b41bc",
   "metadata": {},
   "outputs": [],
   "source": [
    "beta = tf.Variable(2.0)\n",
    "alpha = tf.Variable(3.0)"
   ]
  },
  {
   "cell_type": "code",
   "execution_count": 10,
   "id": "8c2ef555-2ca8-492c-9216-125a0b64e3b6",
   "metadata": {},
   "outputs": [],
   "source": [
    "for epoc in range(1000):   \n",
    "    with tf.GradientTape() as tape: \n",
    "        yhat = (x-beta)**2/(alpha**2)\n",
    "        loss = tf.reduce_sum((y-yhat)**2)/N \n",
    "    slope0,slope1 = tape.gradient(loss,[beta,alpha]) \n",
    "    beta.assign_sub(alpha * slope0) \n",
    "    alpha.assign_sub(alpha * slope1)"
   ]
  },
  {
   "cell_type": "code",
   "execution_count": 11,
   "id": "b8c5a685-6b07-4a81-b622-78b48394a065",
   "metadata": {},
   "outputs": [
    {
     "data": {
      "text/plain": [
       "(<tf.Variable 'Variable:0' shape=() dtype=float32, numpy=161.78185>,\n",
       " <tf.Variable 'Variable:0' shape=() dtype=float32, numpy=159.62784>)"
      ]
     },
     "execution_count": 11,
     "metadata": {},
     "output_type": "execute_result"
    }
   ],
   "source": [
    "beta, alpha"
   ]
  },
  {
   "cell_type": "code",
   "execution_count": 12,
   "id": "61b1425d-e7f7-45fe-be3b-e01cf63510c6",
   "metadata": {},
   "outputs": [],
   "source": [
    "yhat=(x-beta)**2/(alpha**2)"
   ]
  },
  {
   "cell_type": "code",
   "execution_count": 13,
   "id": "d60b178f-c6a6-4905-9eee-65220d2ac45d",
   "metadata": {},
   "outputs": [
    {
     "data": {
      "text/plain": [
       "[<matplotlib.lines.Line2D at 0x7fe4294ced70>]"
      ]
     },
     "execution_count": 13,
     "metadata": {},
     "output_type": "execute_result"
    },
    {
     "data": {
      "image/png": "[encoded data removed]",
      "text/plain": [
       "<Figure size 432x288 with 1 Axes>"
      ]
     },
     "metadata": {
      "needs_background": "light"
     },
     "output_type": "display_data"
    }
   ],
   "source": [
    "plt.plot(x,y,'.')\n",
    "plt.plot(x,yhat,'r.')"
   ]
  },
  {
   "cell_type": "markdown",
   "id": "22a89af4-8834-4b4a-b0bc-6d9782315e99",
   "metadata": {},
   "source": [
    "`(2)` 아래는 $X_i \\overset{iid}{\\sim} Ber(0.8)$을 생성하는 코드이다. "
   ]
  },
  {
   "cell_type": "code",
   "execution_count": 14,
   "id": "78dc1408-f4f7-4124-a073-c71296fcc249",
   "metadata": {},
   "outputs": [
    {
     "data": {
      "text/plain": [
       "<tf.Tensor: shape=(10000,), dtype=int64, numpy=array([0, 1, 1, ..., 1, 0, 1])>"
      ]
     },
     "execution_count": 14,
     "metadata": {},
     "output_type": "execute_result"
    }
   ],
   "source": [
    "tf.random.set_seed(43052)\n",
    "x= tf.constant(np.random.binomial(1,0.8,(10000,)))\n",
    "x"
   ]
  },
  {
   "cell_type": "markdown",
   "id": "56d3b31c-ac0a-4648-8663-5b74c2b2b051",
   "metadata": {},
   "source": [
    "함수 $L(p)$을 최대화하는 $p$를 `tf.GradeintTape()`를 활용하여 추정하라. (경사하강법 혹은 경사상승법을 사용하고 $p$의 초기값은 0.3으로 설정할 것) \n",
    "\n",
    "\n",
    "$$L(\\mu,\\sigma)=\\prod_{i=1}^{n}f(x_i), \\quad f(x_i)=p^{x_i}(1-p)^{1-x_i}$$"
   ]
  },
  {
   "cell_type": "code",
   "execution_count": 15,
   "id": "f20a163f-c065-4a2f-b7e4-cbce069725c8",
   "metadata": {},
   "outputs": [],
   "source": [
    "N = 10000"
   ]
  },
  {
   "cell_type": "code",
   "execution_count": 16,
   "id": "e4cd9093-b9cf-4174-ab4b-acbd33baa7ae",
   "metadata": {},
   "outputs": [],
   "source": [
    "y_true=(x-0.8)**2"
   ]
  },
  {
   "cell_type": "code",
   "execution_count": 17,
   "id": "e68a7217-05c4-4a99-83d2-3446450a3af9",
   "metadata": {},
   "outputs": [],
   "source": [
    "epsilon = tnp.random.randn(N)*0.5\n",
    "y=(x-0.8)**2+epsilon"
   ]
  },
  {
   "cell_type": "code",
   "execution_count": 18,
   "id": "c6bddc1d-143e-4a55-810d-57b88f71acdb",
   "metadata": {},
   "outputs": [
    {
     "data": {
      "text/plain": [
       "(TensorShape([10000]), TensorShape([10000]))"
      ]
     },
     "execution_count": 18,
     "metadata": {},
     "output_type": "execute_result"
    }
   ],
   "source": [
    "x.shape, y.shape"
   ]
  },
  {
   "cell_type": "code",
   "execution_count": 19,
   "id": "20a545bd-b432-4418-b306-264062b46742",
   "metadata": {},
   "outputs": [],
   "source": [
    "beta = tf.Variable(2.0)\n",
    "alpha = tf.Variable(3.0)"
   ]
  },
  {
   "cell_type": "code",
   "execution_count": 20,
   "id": "2d59c7f2-eede-48ef-9aa2-a18c2a5af7ac",
   "metadata": {},
   "outputs": [],
   "source": [
    "for epoc in range(1000):   \n",
    "    with tf.GradientTape() as tape: \n",
    "        yhat = (x-beta)**2/(alpha**2)\n",
    "        loss = tf.reduce_sum((y-yhat)**2)/N \n",
    "    slope0,slope1 = tape.gradient(loss,[beta,alpha]) \n",
    "    beta.assign_sub(alpha * slope0) \n",
    "    alpha.assign_sub(alpha * slope1)"
   ]
  },
  {
   "cell_type": "code",
   "execution_count": 21,
   "id": "b311b58d-7dc6-4579-b3de-7fde958d6f75",
   "metadata": {},
   "outputs": [
    {
     "data": {
      "text/plain": [
       "(<tf.Variable 'Variable:0' shape=() dtype=float32, numpy=1.3362731>,\n",
       " <tf.Variable 'Variable:0' shape=() dtype=float32, numpy=1.6516612>)"
      ]
     },
     "execution_count": 21,
     "metadata": {},
     "output_type": "execute_result"
    }
   ],
   "source": [
    "beta, alpha"
   ]
  },
  {
   "cell_type": "code",
   "execution_count": 22,
   "id": "e39e2cfb-2e64-424a-99ed-8f3d3141009c",
   "metadata": {},
   "outputs": [],
   "source": [
    "yhat=(x-beta)**2/(alpha**2)"
   ]
  },
  {
   "cell_type": "code",
   "execution_count": 23,
   "id": "e84e05d8-fa5d-4baa-bb86-1d54c101c9e3",
   "metadata": {},
   "outputs": [
    {
     "data": {
      "text/plain": [
       "[<matplotlib.lines.Line2D at 0x7fe4201269e0>]"
      ]
     },
     "execution_count": 23,
     "metadata": {},
     "output_type": "execute_result"
    },
    {
     "data": {
      "image/png": "[encoded data removed]",
      "text/plain": [
       "<Figure size 432x288 with 1 Axes>"
      ]
     },
     "metadata": {
      "needs_background": "light"
     },
     "output_type": "display_data"
    }
   ],
   "source": [
    "plt.plot(x,y,'.')\n",
    "plt.plot(x,yhat,'r.')"
   ]
  },
  {
   "cell_type": "markdown",
   "id": "af7d2663-4db7-4da1-b55c-acab57da3f9b",
   "metadata": {},
   "source": [
    "`(3)` 아래의 모형에 따라서 $\\{Y_i\\}_{i=1}^{10000}$를 생성하는 코드를 작성하라. \n",
    "- $Y_i \\overset{iid}{\\sim} N(\\mu_i,1)$ \n",
    "- $\\mu_i = \\beta_0 + \\beta_1 x_i = 0.5 + 2 x_i$ , where $x_i = \\frac{i}{10000}$"
   ]
  },
  {
   "cell_type": "markdown",
   "id": "da6536c1-15f4-4d5a-b119-2a9e4a9ee146",
   "metadata": {},
   "source": [
    "함수 $L(\\beta_0,\\beta_1)$을 최대화하는 $(\\beta_0,\\beta_1)$를 `tf.GradeintTape()`를 활용하여 추정하라. (경사하강법 혹은 경사상승법을 사용하고 $\\beta_0,\\beta_1$의 초기값은 모두 1로 설정할 것) \n",
    "\n",
    "$$L(\\beta_0,\\beta_1)=\\prod_{i=1}^{n}f(y_i), \\quad f(y_i)=\\frac{1}{\\sqrt{2\\pi}}e^{-\\frac{1}{2}(y_i-\\mu_i)^2}, \\quad \\mu_i=\\beta_0+\\beta_1 x_i$$"
   ]
  },
  {
   "cell_type": "markdown",
   "id": "f702594a-236e-4e18-a409-c0d926897d2b",
   "metadata": {},
   "source": [
    "## `2`. 회귀분석의 이론적해와 tf.keras.optimizer 이용방법 (20점)"
   ]
  },
  {
   "cell_type": "markdown",
   "id": "3efebdc4-8086-43bb-a1fd-9a8b49d86b97",
   "metadata": {},
   "source": [
    "아래와 같은 선형모형을 고려하자. \n",
    "\n",
    "$$y_i = \\beta_0 + \\beta_1 x_i +\\epsilon_i.$$\n",
    "\n",
    "이때 오차항은 정규분포로 가정한다. 즉 $\\epsilon_i \\overset{iid}{\\sim} N(0,\\sigma^2)$라고 가정한다. \n",
    "\n",
    "관측데이터가 아래와 같을때 아래의 물음에 답하라. "
   ]
  },
  {
   "cell_type": "code",
   "execution_count": 34,
   "id": "eabac705-2792-40cd-9aef-c395ad3c0bb8",
   "metadata": {
    "tags": []
   },
   "outputs": [],
   "source": [
    "x= tnp.array([20.1, 22.2, 22.7, 23.3, 24.4, 25.1, 26.2, 27.3, 28.4, 30.4])\n",
    "y= tnp.array([55.4183651 , 58.19427589, 61.23082496, 62.31255873, 63.1070028 , \n",
    "              63.69569103, 67.24704918, 71.43650092, 73.10130336, 77.84988286])\n",
    "# X= tnp.array([[1.0, 20.1], [1.0, 22.2], [1.0, 22.7], [1.0, 23.3], [1.0, 24.4],\n",
    "#               [1.0, 25.1], [1.0, 26.2], [1.0, 27.3], [1.0, 28.4], [1.0, 30.4]])"
   ]
  },
  {
   "cell_type": "markdown",
   "id": "b9f5139e-1d1d-4644-a09d-04a7c9a24e22",
   "metadata": {},
   "source": [
    "`(1)` MSE loss를 최소화 하는 $\\beta_0,\\beta_1$의 해석해를 구하라. "
   ]
  },
  {
   "cell_type": "code",
   "execution_count": 25,
   "id": "3ffa3abd-63da-4377-bec7-293d13358854",
   "metadata": {},
   "outputs": [],
   "source": [
    "N = 10"
   ]
  },
  {
   "cell_type": "code",
   "execution_count": 26,
   "id": "696fde69-9b12-4b4b-9a10-927af4e45cd3",
   "metadata": {},
   "outputs": [],
   "source": [
    "y = y.reshape(N,1)"
   ]
  },
  {
   "cell_type": "code",
   "execution_count": 27,
   "id": "4812e6d9-91ce-46ba-b7fa-b1581fad7a09",
   "metadata": {},
   "outputs": [],
   "source": [
    "X = tf.stack([tf.ones(N,dtype='float64'),x],axis=1)"
   ]
  },
  {
   "cell_type": "code",
   "execution_count": 28,
   "id": "a0af15ee-7ec5-4158-8479-e176f3a7cd9b",
   "metadata": {},
   "outputs": [
    {
     "data": {
      "text/plain": [
       "(TensorShape([10, 1]), TensorShape([10, 2]))"
      ]
     },
     "execution_count": 28,
     "metadata": {},
     "output_type": "execute_result"
    }
   ],
   "source": [
    "y=y.reshape(N,1)\n",
    "x=x.reshape(N,1)\n",
    "y.shape, X.shape"
   ]
  },
  {
   "cell_type": "code",
   "execution_count": 29,
   "id": "b86dda4d-868e-4975-aef2-ffd0965b2af6",
   "metadata": {},
   "outputs": [
    {
     "data": {
      "text/plain": [
       "<tf.Tensor: shape=(2, 1), dtype=float64, numpy=\n",
       "array([[9.94457323],\n",
       "       [2.21570461]])>"
      ]
     },
     "execution_count": 29,
     "metadata": {},
     "output_type": "execute_result"
    }
   ],
   "source": [
    "tf.linalg.inv(X.T @ X) @ X.T @ y"
   ]
  },
  {
   "cell_type": "code",
   "execution_count": 30,
   "id": "3c48ac91-8592-43da-8a17-52bbb5406513",
   "metadata": {},
   "outputs": [],
   "source": [
    "y_hat=9.94457323+2.21570461*x"
   ]
  },
  {
   "cell_type": "code",
   "execution_count": 31,
   "id": "f9e7efa3-4697-44f7-a1f2-7cf757801c8a",
   "metadata": {},
   "outputs": [
    {
     "data": {
      "text/plain": [
       "[<matplotlib.lines.Line2D at 0x7fe40c5884c0>]"
      ]
     },
     "execution_count": 31,
     "metadata": {},
     "output_type": "execute_result"
    },
    {
     "data": {
      "image/png": "[encoded data removed]",
      "text/plain": [
       "<Figure size 432x288 with 1 Axes>"
      ]
     },
     "metadata": {
      "needs_background": "light"
     },
     "output_type": "display_data"
    }
   ],
   "source": [
    "plt.plot(x,y,'.')\n",
    "plt.plot(x,y_hat,'r--')"
   ]
  },
  {
   "cell_type": "markdown",
   "id": "cbfabe4b-ffc2-40ef-ad4e-7df81174f0ce",
   "metadata": {},
   "source": [
    "`(2)` 경사하강법과 MSE loss의 도함수를 이용하여 $\\beta_0,\\beta_1$을 추정하라. \n",
    "\n",
    "**주의** tf.GradeintTape()를 이용하지 말고 MSE loss의 해석적 도함수를 사용할 것."
   ]
  },
  {
   "cell_type": "code",
   "execution_count": 35,
   "id": "858ee7df-2512-4f8f-ad80-57c545f3696c",
   "metadata": {},
   "outputs": [],
   "source": [
    "N = 10"
   ]
  },
  {
   "cell_type": "code",
   "execution_count": 36,
   "id": "1008830c-e98e-400f-a2fa-f00c6653b653",
   "metadata": {},
   "outputs": [
    {
     "data": {
      "text/plain": [
       "(TensorShape([10, 1]), TensorShape([10, 2]))"
      ]
     },
     "execution_count": 36,
     "metadata": {},
     "output_type": "execute_result"
    }
   ],
   "source": [
    "y=y.reshape(N,1)\n",
    "X=tf.stack([tf.ones(N,dtype=tf.float64),x],axis=1)\n",
    "y.shape,X.shape"
   ]
  },
  {
   "cell_type": "code",
   "execution_count": 37,
   "id": "21167e95-8384-415b-a491-c112dd0762eb",
   "metadata": {},
   "outputs": [
    {
     "data": {
      "text/plain": [
       "(TensorShape([10, 2]), TensorShape([10, 1]))"
      ]
     },
     "execution_count": 37,
     "metadata": {},
     "output_type": "execute_result"
    }
   ],
   "source": [
    "y=y.reshape(N,1)\n",
    "X.shape, y.shape"
   ]
  },
  {
   "cell_type": "code",
   "execution_count": 38,
   "id": "d590b6dc-7b6d-40e7-b236-46b91be82c2d",
   "metadata": {},
   "outputs": [
    {
     "data": {
      "text/plain": [
       "<tf.Tensor: shape=(2, 1), dtype=int64, numpy=\n",
       "array([[9],\n",
       "       [2]])>"
      ]
     },
     "execution_count": 38,
     "metadata": {},
     "output_type": "execute_result"
    }
   ],
   "source": [
    "beta_hat = tnp.array([9,2]).reshape(2,1)\n",
    "beta_hat"
   ]
  },
  {
   "cell_type": "code",
   "execution_count": 39,
   "id": "0ab527c9-4330-4ce2-8981-047688c30dc9",
   "metadata": {},
   "outputs": [],
   "source": [
    "alpha = 0.001"
   ]
  },
  {
   "cell_type": "code",
   "execution_count": 40,
   "id": "c2e27cf0-0038-4002-93b8-53395066097c",
   "metadata": {},
   "outputs": [],
   "source": [
    "for epoc in range(1000):\n",
    "    slope = (-2*X.T @ y + 2*X.T@ X @ beta_hat)/N\n",
    "    beta_hat = beta_hat - alpha * slope"
   ]
  },
  {
   "cell_type": "code",
   "execution_count": 41,
   "id": "4025e33c-6c36-47a6-93c1-fd98a3c8cfe5",
   "metadata": {},
   "outputs": [
    {
     "data": {
      "text/plain": [
       "<tf.Tensor: shape=(2, 1), dtype=float64, numpy=\n",
       "array([[9.03545357],\n",
       "       [2.25155218]])>"
      ]
     },
     "execution_count": 41,
     "metadata": {},
     "output_type": "execute_result"
    }
   ],
   "source": [
    "beta_hat"
   ]
  },
  {
   "cell_type": "code",
   "execution_count": 42,
   "id": "84cc527e-63c3-4fc2-8824-60534b251b24",
   "metadata": {},
   "outputs": [],
   "source": [
    "y_hat=9.03545357+2.25155218*x"
   ]
  },
  {
   "cell_type": "code",
   "execution_count": 43,
   "id": "7f8f172f-080a-43e4-a3cb-8441fa925a67",
   "metadata": {},
   "outputs": [
    {
     "data": {
      "text/plain": [
       "[<matplotlib.lines.Line2D at 0x7fe3b417efe0>]"
      ]
     },
     "execution_count": 43,
     "metadata": {},
     "output_type": "execute_result"
    },
    {
     "data": {
      "image/png": "[encoded data removed]",
      "text/plain": [
       "<Figure size 432x288 with 1 Axes>"
      ]
     },
     "metadata": {
      "needs_background": "light"
     },
     "output_type": "display_data"
    }
   ],
   "source": [
    "plt.plot(x,y,'.')\n",
    "plt.plot(x,y_hat,'r--')"
   ]
  },
  {
   "cell_type": "markdown",
   "id": "79cd50f2-b147-4203-8ae4-ae94e75a9e81",
   "metadata": {},
   "source": [
    "`(3)` `tf.keras.optimizers`의 `apply_gradients()`를 이용하여 $\\beta_0,\\beta_1$을 추정하라. "
   ]
  },
  {
   "cell_type": "code",
   "execution_count": 49,
   "id": "ee610d04-c4f3-4835-acc1-4f84e496e45f",
   "metadata": {},
   "outputs": [
    {
     "data": {
      "text/plain": [
       "<tf.Variable 'Variable:0' shape=() dtype=float32, numpy=1.3362731>"
      ]
     },
     "execution_count": 49,
     "metadata": {},
     "output_type": "execute_result"
    }
   ],
   "source": [
    "opt.apply_gradients([(slope,beta_hat)])\n",
    "beta"
   ]
  },
  {
   "cell_type": "code",
   "execution_count": 50,
   "id": "ce81d739-f84d-4f7d-9552-df2c12056bf1",
   "metadata": {},
   "outputs": [
    {
     "data": {
      "text/plain": [
       "(TensorShape([10, 2]), TensorShape([10, 1]))"
      ]
     },
     "execution_count": 50,
     "metadata": {},
     "output_type": "execute_result"
    }
   ],
   "source": [
    "X.shape,y.shape"
   ]
  },
  {
   "cell_type": "code",
   "execution_count": 51,
   "id": "7b50a617-e924-4816-8c32-5af2600770a0",
   "metadata": {},
   "outputs": [
    {
     "data": {
      "text/plain": [
       "<tf.Variable 'Variable:0' shape=(2, 1) dtype=float64, numpy=\n",
       "array([[9.],\n",
       "       [2.]])>"
      ]
     },
     "execution_count": 51,
     "metadata": {},
     "output_type": "execute_result"
    }
   ],
   "source": [
    "beta_hat = tf.Variable(tnp.array([9,2],dtype='float64').reshape(2,1))\n",
    "beta_hat"
   ]
  },
  {
   "cell_type": "code",
   "execution_count": 52,
   "id": "a3c88d85-775c-4b0f-8a30-85fa3b78aa2e",
   "metadata": {},
   "outputs": [],
   "source": [
    "alpha=0.05\n",
    "opt = tf.keras.optimizers.SGD(alpha)"
   ]
  },
  {
   "cell_type": "code",
   "execution_count": 53,
   "id": "98526076-4986-46b7-80ab-c4fd07db8ab5",
   "metadata": {},
   "outputs": [],
   "source": [
    "for epoc in range(1000): \n",
    "    with tf.GradientTape() as tape: \n",
    "        yhat = X@beta_hat\n",
    "        loss = (y-yhat).T @ (y-yhat) / N \n",
    "    slope = tape.gradient(loss,beta_hat)  \n",
    "    opt.apply_gradients( [(slope,beta_hat)] )"
   ]
  },
  {
   "cell_type": "code",
   "execution_count": 54,
   "id": "9d4f3a3e-7282-497a-8c35-70af13a97cdc",
   "metadata": {},
   "outputs": [
    {
     "data": {
      "text/plain": [
       "<tf.Variable 'Variable:0' shape=(2, 1) dtype=float64, numpy=\n",
       "array([[nan],\n",
       "       [nan]])>"
      ]
     },
     "execution_count": 54,
     "metadata": {},
     "output_type": "execute_result"
    }
   ],
   "source": [
    "beta_hat"
   ]
  },
  {
   "cell_type": "code",
   "execution_count": 55,
   "id": "c84a6965-15cc-403a-ba8f-b57e6e07e227",
   "metadata": {},
   "outputs": [],
   "source": [
    "y_hat=9.03545358+2.25155218*x"
   ]
  },
  {
   "cell_type": "code",
   "execution_count": 56,
   "id": "b412a6df-16a0-4c93-be98-ea53296d2a08",
   "metadata": {},
   "outputs": [
    {
     "data": {
      "text/plain": [
       "[<matplotlib.lines.Line2D at 0x7fe354769180>]"
      ]
     },
     "execution_count": 56,
     "metadata": {},
     "output_type": "execute_result"
    },
    {
     "data": {
      "image/png": "[encoded data removed]",
      "text/plain": [
       "<Figure size 432x288 with 1 Axes>"
      ]
     },
     "metadata": {
      "needs_background": "light"
     },
     "output_type": "display_data"
    }
   ],
   "source": [
    "plt.plot(x,y,'.')\n",
    "plt.plot(x,y_hat,'r--')"
   ]
  },
  {
   "cell_type": "markdown",
   "id": "0c172474-11b5-41ae-84e8-538c8ac2af17",
   "metadata": {},
   "source": [
    "`(4)` `tf.keras.optimizers`의 `minimize()`를 이용하여 $\\beta_0,\\beta_1$을 추정하라. "
   ]
  },
  {
   "cell_type": "code",
   "execution_count": 57,
   "id": "1adf1599-f5b9-4f34-bc65-ec16d2bce4d0",
   "metadata": {},
   "outputs": [
    {
     "data": {
      "text/plain": [
       "<tf.Tensor: shape=(), dtype=float64, numpy=nan>"
      ]
     },
     "execution_count": 57,
     "metadata": {},
     "output_type": "execute_result"
    }
   ],
   "source": [
    "mse_fn = tf.losses.MeanSquaredError()\n",
    "mse_fn(y,yhat)"
   ]
  },
  {
   "cell_type": "code",
   "execution_count": 58,
   "id": "0990adca-4470-4c47-8a50-06e6d96991fa",
   "metadata": {},
   "outputs": [],
   "source": [
    "mseloss_fn=tf.losses.MeanSquaredError()"
   ]
  },
  {
   "cell_type": "code",
   "execution_count": 59,
   "id": "5be47aa9-5484-4799-8cfd-2f5870828da3",
   "metadata": {},
   "outputs": [
    {
     "data": {
      "text/plain": [
       "(TensorShape([10, 2]), TensorShape([10, 1]))"
      ]
     },
     "execution_count": 59,
     "metadata": {},
     "output_type": "execute_result"
    }
   ],
   "source": [
    "y=y.reshape(N,1)\n",
    "X.shape,y.shape"
   ]
  },
  {
   "cell_type": "code",
   "execution_count": 60,
   "id": "cd328963-2a9a-44d9-9856-ffe111074ee1",
   "metadata": {},
   "outputs": [
    {
     "data": {
      "text/plain": [
       "<tf.Variable 'Variable:0' shape=(2, 1) dtype=float64, numpy=\n",
       "array([[9.],\n",
       "       [2.]])>"
      ]
     },
     "execution_count": 60,
     "metadata": {},
     "output_type": "execute_result"
    }
   ],
   "source": [
    "beta_hat = tf.Variable(tnp.array([9,2],dtype='float64').reshape(2,1))\n",
    "beta_hat"
   ]
  },
  {
   "cell_type": "code",
   "execution_count": 61,
   "id": "74c64ab5-0be9-4c8a-b670-9a66e1e85b3e",
   "metadata": {},
   "outputs": [],
   "source": [
    "alpha=0.0015\n",
    "opt = tf.keras.optimizers.SGD(alpha) "
   ]
  },
  {
   "cell_type": "code",
   "execution_count": 62,
   "id": "174f0c7b-a063-4c75-920b-e946f365c1fb",
   "metadata": {},
   "outputs": [
    {
     "data": {
      "text/plain": [
       "<tf.Tensor: shape=(), dtype=float64, numpy=nan>"
      ]
     },
     "execution_count": 62,
     "metadata": {},
     "output_type": "execute_result"
    }
   ],
   "source": [
    "mseloss_fn(y.reshape(-1),yhat.reshape(-1))"
   ]
  },
  {
   "cell_type": "code",
   "execution_count": 63,
   "id": "6db0f38a-9cd8-408f-b30a-12bf67918568",
   "metadata": {},
   "outputs": [],
   "source": [
    "def loss_fn():\n",
    "    yhat= X@beta_hat\n",
    "    loss = mseloss_fn(y.reshape(-1),yhat.reshape(-1))\n",
    "    return loss"
   ]
  },
  {
   "cell_type": "code",
   "execution_count": 64,
   "id": "c886717f-0668-4c18-971d-61d7bd2e51da",
   "metadata": {},
   "outputs": [],
   "source": [
    "for epoc in range(1000):\n",
    "    opt.minimize(loss_fn,beta_hat)"
   ]
  },
  {
   "cell_type": "code",
   "execution_count": 65,
   "id": "e6780fb5-5d53-4d43-96b0-5b0ba2ef2f03",
   "metadata": {},
   "outputs": [
    {
     "data": {
      "text/plain": [
       "<tf.Variable 'Variable:0' shape=(2, 1) dtype=float64, numpy=\n",
       "array([[9.04793931],\n",
       "       [2.25105986]])>"
      ]
     },
     "execution_count": 65,
     "metadata": {},
     "output_type": "execute_result"
    }
   ],
   "source": [
    "beta_hat"
   ]
  },
  {
   "cell_type": "code",
   "execution_count": 66,
   "id": "5072d7f4-d990-42ec-9a30-74a10729df21",
   "metadata": {},
   "outputs": [],
   "source": [
    "y_hat=9.03545358+2.25155218*x"
   ]
  },
  {
   "cell_type": "code",
   "execution_count": 67,
   "id": "6397c0b0-41d0-4f47-87d0-3782834bb4e7",
   "metadata": {},
   "outputs": [
    {
     "data": {
      "text/plain": [
       "[<matplotlib.lines.Line2D at 0x7fe3547af790>]"
      ]
     },
     "execution_count": 67,
     "metadata": {},
     "output_type": "execute_result"
    },
    {
     "data": {
      "image/png": "[encoded data removed]",
      "text/plain": [
       "<Figure size 432x288 with 1 Axes>"
      ]
     },
     "metadata": {
      "needs_background": "light"
     },
     "output_type": "display_data"
    }
   ],
   "source": [
    "plt.plot(x,y,'.')\n",
    "plt.plot(x,y_hat,'r--')"
   ]
  },
  {
   "cell_type": "markdown",
   "id": "4c5fe083-f319-4381-bc21-5bf18ae531cf",
   "metadata": {},
   "source": [
    "## `3`. keras를 이용한 풀이 (30점)"
   ]
  },
  {
   "cell_type": "markdown",
   "id": "5d15790d-6f7e-4ecd-9b9d-27d809ff8a0d",
   "metadata": {},
   "source": [
    "`(1)` 아래와 같은 모형을 고려하자. \n",
    "\n",
    "$$y_i= \\beta_0 + \\sum_{k=1}^{5} \\beta_k \\cos(k t_i)+\\epsilon_i, \\quad i=0,1,\\dots, 999$$\n",
    "\n",
    "여기에서 $t_i=\\frac{2\\pi i}{1000}$ 이다. 그리고 $\\epsilon_i \\sim i.i.d~ N(0,\\sigma^2)$, 즉 서로 독립인 표준정규분포에서 추출된 샘플이다. 위의 모형에서 아래와 같은 데이터를 관측했다고 가정하자. "
   ]
  },
  {
   "cell_type": "code",
   "execution_count": 68,
   "id": "d136550f-c5de-49c2-9592-d5727132eeae",
   "metadata": {},
   "outputs": [
    {
     "data": {
      "text/plain": [
       "[<matplotlib.lines.Line2D at 0x7fe35461de10>]"
      ]
     },
     "execution_count": 68,
     "metadata": {},
     "output_type": "execute_result"
    },
    {
     "data": {
      "image/png": "[encoded data removed]",
      "text/plain": [
       "<Figure size 432x288 with 1 Axes>"
      ]
     },
     "metadata": {
      "needs_background": "light"
     },
     "output_type": "display_data"
    }
   ],
   "source": [
    "np.random.seed(43052)\n",
    "t= np.array(range(1000))* np.pi/1000\n",
    "y = -2+ 3*np.cos(t) + 1*np.cos(2*t) + 0.5*np.cos(5*t) + np.random.randn(1000)*0.2\n",
    "plt.plot(t,y,'.',alpha=0.2)"
   ]
  },
  {
   "cell_type": "markdown",
   "id": "eeab60d2-c405-4d7b-9cc7-49d887f414bc",
   "metadata": {},
   "source": [
    "tf.keras를 이용하여 $\\beta_0,\\dots,\\beta_5$를 추정하라. ($\\beta_0,\\dots,\\beta_5$의 참값은 각각 -2,3,1,0,0,0.5 이다) "
   ]
  },
  {
   "cell_type": "code",
   "execution_count": 69,
   "id": "13c924d9-d022-47d9-9d08-f1a7e1b84646",
   "metadata": {},
   "outputs": [],
   "source": [
    "X = np.stack([np.ones(1000),np.cos(1*t),np.cos(2*t),np.cos(3*t),np.cos(4*t),np.cos(5*t)],axis=1)\n",
    "y = y.reshape(1000,1)"
   ]
  },
  {
   "cell_type": "code",
   "execution_count": 70,
   "id": "431dd5ad-9d8c-4a1f-836f-fee12eda5394",
   "metadata": {},
   "outputs": [
    {
     "name": "stdout",
     "output_type": "stream",
     "text": [
      "Epoch 1/30\n",
      "100/100 [==============================] - 0s 790us/step - loss: 0.2753\n",
      "Epoch 2/30\n",
      "100/100 [==============================] - 0s 738us/step - loss: 0.0374\n",
      "Epoch 3/30\n",
      "100/100 [==============================] - 0s 709us/step - loss: 0.0378\n",
      "Epoch 4/30\n",
      "100/100 [==============================] - 0s 718us/step - loss: 0.0375\n",
      "Epoch 5/30\n",
      "100/100 [==============================] - 0s 710us/step - loss: 0.0378\n",
      "Epoch 6/30\n",
      "100/100 [==============================] - 0s 753us/step - loss: 0.0377\n",
      "Epoch 7/30\n",
      "100/100 [==============================] - 0s 806us/step - loss: 0.0369\n",
      "Epoch 8/30\n",
      "100/100 [==============================] - 0s 830us/step - loss: 0.0373\n",
      "Epoch 9/30\n",
      "100/100 [==============================] - 0s 831us/step - loss: 0.0372\n",
      "Epoch 10/30\n",
      "100/100 [==============================] - 0s 868us/step - loss: 0.0379\n",
      "Epoch 11/30\n",
      "100/100 [==============================] - 0s 831us/step - loss: 0.0372\n",
      "Epoch 12/30\n",
      "100/100 [==============================] - 0s 827us/step - loss: 0.0372\n",
      "Epoch 13/30\n",
      "100/100 [==============================] - 0s 846us/step - loss: 0.0374\n",
      "Epoch 14/30\n",
      "100/100 [==============================] - 0s 820us/step - loss: 0.0379\n",
      "Epoch 15/30\n",
      "100/100 [==============================] - 0s 926us/step - loss: 0.0375\n",
      "Epoch 16/30\n",
      "100/100 [==============================] - 0s 949us/step - loss: 0.0373\n",
      "Epoch 17/30\n",
      "100/100 [==============================] - 0s 833us/step - loss: 0.0379\n",
      "Epoch 18/30\n",
      "100/100 [==============================] - 0s 706us/step - loss: 0.0377\n",
      "Epoch 19/30\n",
      "100/100 [==============================] - 0s 700us/step - loss: 0.0380\n",
      "Epoch 20/30\n",
      "100/100 [==============================] - 0s 744us/step - loss: 0.0381\n",
      "Epoch 21/30\n",
      "100/100 [==============================] - 0s 689us/step - loss: 0.0370\n",
      "Epoch 22/30\n",
      "100/100 [==============================] - 0s 733us/step - loss: 0.0377\n",
      "Epoch 23/30\n",
      "100/100 [==============================] - 0s 733us/step - loss: 0.0379\n",
      "Epoch 24/30\n",
      "100/100 [==============================] - 0s 719us/step - loss: 0.0377\n",
      "Epoch 25/30\n",
      "100/100 [==============================] - 0s 681us/step - loss: 0.0377\n",
      "Epoch 26/30\n",
      "100/100 [==============================] - 0s 700us/step - loss: 0.0380\n",
      "Epoch 27/30\n",
      "100/100 [==============================] - 0s 718us/step - loss: 0.0381\n",
      "Epoch 28/30\n",
      "100/100 [==============================] - 0s 689us/step - loss: 0.0375\n",
      "Epoch 29/30\n",
      "100/100 [==============================] - 0s 763us/step - loss: 0.0376\n",
      "Epoch 30/30\n",
      "100/100 [==============================] - 0s 768us/step - loss: 0.0379\n"
     ]
    },
    {
     "data": {
      "text/plain": [
       "<keras.callbacks.History at 0x7fe354554850>"
      ]
     },
     "execution_count": 70,
     "metadata": {},
     "output_type": "execute_result"
    }
   ],
   "source": [
    "net = tf.keras.Sequential()\n",
    "net.add(tf.keras.layers.Dense(1,use_bias=False))\n",
    "net.compile(tf.optimizers.SGD(0.1), loss='mse')\n",
    "net.fit(X,y,epochs=30, batch_size=N)"
   ]
  },
  {
   "cell_type": "code",
   "execution_count": 71,
   "id": "316934ba-81c0-4772-b293-35bc2e72b67a",
   "metadata": {},
   "outputs": [
    {
     "data": {
      "text/plain": [
       "[<tf.Variable 'dense/kernel:0' shape=(6, 1) dtype=float32, numpy=\n",
       " array([[-1.9798379 ],\n",
       "        [ 3.0361695 ],\n",
       "        [ 1.0182086 ],\n",
       "        [-0.00371684],\n",
       "        [-0.00969306],\n",
       "        [ 0.4876245 ]], dtype=float32)>]"
      ]
     },
     "execution_count": 71,
     "metadata": {},
     "output_type": "execute_result"
    }
   ],
   "source": [
    "net.weights"
   ]
  },
  {
   "cell_type": "markdown",
   "id": "85e44a28-4970-40ba-92ad-821134f8cb79",
   "metadata": {},
   "source": [
    "`(2)` 아래와 같은 모형을 고려하자. \n",
    "\n",
    "$$y_i \\sim Ber(\\pi_i), ~ \\text{where} ~ \\pi_i=\\frac{\\exp(w_0+w_1x_i)}{1+\\exp(w_0+w_1x_i)}$$\n"
   ]
  },
  {
   "cell_type": "markdown",
   "id": "f7caedd8-176b-4b04-8632-729c376ee521",
   "metadata": {},
   "source": [
    "위의 모형에서 관측한 데이터는 아래와 같다. "
   ]
  },
  {
   "cell_type": "code",
   "execution_count": 72,
   "id": "f4761787-1e6b-49f0-b8bf-a11e8332bab6",
   "metadata": {
    "tags": []
   },
   "outputs": [
    {
     "data": {
      "text/plain": [
       "[<matplotlib.lines.Line2D at 0x7fe3543117e0>]"
      ]
     },
     "execution_count": 72,
     "metadata": {},
     "output_type": "execute_result"
    },
    {
     "data": {
      "image/png": "[encoded data removed]",
      "text/plain": [
       "<Figure size 432x288 with 1 Axes>"
      ]
     },
     "metadata": {
      "needs_background": "light"
     },
     "output_type": "display_data"
    }
   ],
   "source": [
    "tf.random.set_seed(43052)\n",
    "x = tnp.linspace(-1,1,2000) \n",
    "y = tf.constant(np.random.binomial(1, tf.nn.sigmoid(-1+5*x)),dtype=tf.float64) \n",
    "plt.plot(x,y,'.',alpha=0.05)"
   ]
  },
  {
   "cell_type": "markdown",
   "id": "d449924f-1bb3-460b-bfd5-5a68ae2de894",
   "metadata": {},
   "source": [
    "tf.keras를 이용하여 $w_0,w_1$을 추정하라. (참고: $w_0, w_1$에 대한 참값은 -1과 5이다.) "
   ]
  },
  {
   "cell_type": "code",
   "execution_count": 73,
   "id": "37f49dbf-ae11-4b16-9d73-5444acd0beb8",
   "metadata": {},
   "outputs": [
    {
     "data": {
      "text/plain": [
       "(TensorShape([2000]), TensorShape([2000]))"
      ]
     },
     "execution_count": 73,
     "metadata": {},
     "output_type": "execute_result"
    }
   ],
   "source": [
    "x.shape, y.shape"
   ]
  },
  {
   "cell_type": "code",
   "execution_count": 74,
   "id": "426942c2-81b2-4494-be97-5873c8f7519c",
   "metadata": {},
   "outputs": [
    {
     "data": {
      "text/plain": [
       "(TensorShape([2000, 1]), TensorShape([2000]))"
      ]
     },
     "execution_count": 74,
     "metadata": {},
     "output_type": "execute_result"
    }
   ],
   "source": [
    "x=x.reshape(2000,1)\n",
    "x.shape, y.shape"
   ]
  },
  {
   "cell_type": "code",
   "execution_count": 75,
   "id": "af90a018-6c93-4ba8-8403-e93d3544735c",
   "metadata": {},
   "outputs": [
    {
     "data": {
      "text/plain": [
       "<keras.callbacks.History at 0x7fe354356980>"
      ]
     },
     "execution_count": 75,
     "metadata": {},
     "output_type": "execute_result"
    }
   ],
   "source": [
    "net = tf.keras.Sequential() \n",
    "net.add(tf.keras.layers.Dense(1,activation='sigmoid'))\n",
    "bceloss_fn = lambda y,yhat: -tf.reduce_mean(y*tnp.log(yhat) + (1-y)*tnp.log(1-yhat))\n",
    "net.compile(loss=bceloss_fn, optimizer=tf.optimizers.SGD(0.1))\n",
    "net.fit(x,y,epochs=10000,verbose=0,batch_size=2000)"
   ]
  },
  {
   "cell_type": "code",
   "execution_count": 76,
   "id": "6dbc42e6-b1d3-4712-8102-ed8fbca22755",
   "metadata": {},
   "outputs": [
    {
     "data": {
      "text/plain": [
       "[<tf.Variable 'dense_1/kernel:0' shape=(1, 1) dtype=float32, numpy=array([[5.09306]], dtype=float32)>,\n",
       " <tf.Variable 'dense_1/bias:0' shape=(1,) dtype=float32, numpy=array([-1.0963831], dtype=float32)>]"
      ]
     },
     "execution_count": 76,
     "metadata": {},
     "output_type": "execute_result"
    }
   ],
   "source": [
    "net.weights"
   ]
  },
  {
   "cell_type": "code",
   "execution_count": 77,
   "id": "79b2a1a9-42a1-4bce-8f90-5a8e90ad7652",
   "metadata": {},
   "outputs": [
    {
     "data": {
      "text/plain": [
       "[<matplotlib.lines.Line2D at 0x7fe354357250>]"
      ]
     },
     "execution_count": 77,
     "metadata": {},
     "output_type": "execute_result"
    },
    {
     "data": {
      "image/png": "[encoded data removed]",
      "text/plain": [
       "<Figure size 432x288 with 1 Axes>"
      ]
     },
     "metadata": {
      "needs_background": "light"
     },
     "output_type": "display_data"
    }
   ],
   "source": [
    "plt.plot(x,y,'.',alpha=0.1)\n",
    "plt.plot(x,net(x),'--b')"
   ]
  },
  {
   "cell_type": "markdown",
   "id": "6d234980-2466-4209-a6a1-190475ffec6d",
   "metadata": {},
   "source": [
    "## `4`. Piecewise-linear regression (15점) "
   ]
  },
  {
   "cell_type": "markdown",
   "id": "413d267a-10c6-405b-90dc-edfdd9f42e5a",
   "metadata": {},
   "source": [
    "아래의 모형을 고려하자. \n",
    "\n",
    "model: $y_i=\\begin{cases} x_i +0.3\\epsilon_i & x\\leq 0 \\\\ 3.5x_i +0.3\\epsilon_i & x>0 \\end{cases}$ "
   ]
  },
  {
   "cell_type": "markdown",
   "id": "e7f1c5db-e8cc-4518-9c8e-0e5a44b570fa",
   "metadata": {},
   "source": [
    "아래는 위의 모형에서 생성한 샘플이다. "
   ]
  },
  {
   "cell_type": "code",
   "execution_count": 78,
   "id": "908224ae-65a2-414a-95c2-2f3f62e18da0",
   "metadata": {},
   "outputs": [],
   "source": [
    "## data \n",
    "np.random.seed(43052)\n",
    "N=100\n",
    "x= np.linspace(-1,1,N).reshape(N,1)\n",
    "y= np.array(list(map(lambda x: x*1+np.random.normal()*0.3 if x<0 else x*3.5+np.random.normal()*0.3,x))).reshape(N,1)"
   ]
  },
  {
   "cell_type": "markdown",
   "id": "908a20cf-96ca-448e-a19e-a0f24792f6b2",
   "metadata": {},
   "source": [
    "`(1)` 다음은 $(x_i,y_i)$를 아래와 같은 아키텍처로 적합시키는 코드이다. \n",
    "\n",
    "- $\\hat{y} =  \\hat{\\beta}_0+\\hat{\\beta}_1x $"
   ]
  },
  {
   "cell_type": "code",
   "execution_count": 79,
   "id": "8ed0488d-ad21-4f0b-81ec-6317ce3257ee",
   "metadata": {},
   "outputs": [
    {
     "data": {
      "text/plain": [
       "<keras.callbacks.History at 0x7fe3542e8e80>"
      ]
     },
     "execution_count": 79,
     "metadata": {},
     "output_type": "execute_result"
    }
   ],
   "source": [
    "tf.random.set_seed(43054) \n",
    "net = tf.keras.Sequential()\n",
    "net.add(tf.keras.layers.Dense(1)) \n",
    "net.compile(optimizer=tf.optimizers.SGD(0.1),loss='mse')\n",
    "net.fit(x,y,batch_size=N,epochs=1000,verbose=0) # numpy로 해도 돌아감"
   ]
  },
  {
   "cell_type": "markdown",
   "id": "2aafce5a-c3c4-4102-8b24-40d345f47c91",
   "metadata": {},
   "source": [
    "케라스에 의해 추정된 $\\hat{\\beta}_0,\\hat{\\beta}_1$을 구하라. "
   ]
  },
  {
   "cell_type": "code",
   "execution_count": 80,
   "id": "5c0d0da3-0821-4ddf-aa53-e344453a20b1",
   "metadata": {},
   "outputs": [
    {
     "data": {
      "text/plain": [
       "[<tf.Variable 'dense_2/kernel:0' shape=(1, 1) dtype=float32, numpy=array([[2.2616348]], dtype=float32)>,\n",
       " <tf.Variable 'dense_2/bias:0' shape=(1,) dtype=float32, numpy=array([0.6069048], dtype=float32)>]"
      ]
     },
     "execution_count": 80,
     "metadata": {},
     "output_type": "execute_result"
    }
   ],
   "source": [
    "net.weights"
   ]
  },
  {
   "cell_type": "code",
   "execution_count": 81,
   "id": "9fa0c1f6-95d0-4159-bfa0-2749a461f2d3",
   "metadata": {},
   "outputs": [
    {
     "data": {
      "text/plain": [
       "[<matplotlib.lines.Line2D at 0x7fe35418ffa0>]"
      ]
     },
     "execution_count": 81,
     "metadata": {},
     "output_type": "execute_result"
    },
    {
     "data": {
      "image/png": "[encoded data removed]",
      "text/plain": [
       "<Figure size 432x288 with 1 Axes>"
      ]
     },
     "metadata": {
      "needs_background": "light"
     },
     "output_type": "display_data"
    }
   ],
   "source": [
    "plt.plot(x,y,'.',alpha=0.5) \n",
    "plt.plot(x,net(x),'--')"
   ]
  },
  {
   "cell_type": "markdown",
   "id": "5899c1fc-0b60-4eed-9732-3fe7b14c1e81",
   "metadata": {},
   "source": [
    "`(2)` 다음은 $(x_i,y_i)$를 아래와 같은 아키텍처로 적합시키는 코드이다. \n",
    "\n",
    "- $\\boldsymbol{u}= x\\boldsymbol{W}^{(1)}+\\boldsymbol{b}^{(1)}$\n",
    "- $\\boldsymbol{v}= \\text{relu}(u)$ \n",
    "- $y= \\boldsymbol{v}\\boldsymbol{W}^{(2)}+b^{(2)}$"
   ]
  },
  {
   "cell_type": "code",
   "execution_count": 82,
   "id": "7763ed76-b80a-4e87-b03b-054e49cfed69",
   "metadata": {},
   "outputs": [
    {
     "data": {
      "text/plain": [
       "<keras.callbacks.History at 0x7fe3541d1090>"
      ]
     },
     "execution_count": 82,
     "metadata": {},
     "output_type": "execute_result"
    }
   ],
   "source": [
    "tf.random.set_seed(43056) \n",
    "## 1단계\n",
    "net = tf.keras.Sequential() \n",
    "net.add(tf.keras.layers.Dense(2))\n",
    "net.add(tf.keras.layers.Activation('relu')) \n",
    "net.add(tf.keras.layers.Dense(1))\n",
    "net.compile(optimizer=tf.optimizers.SGD(0.1),loss='mse')\n",
    "net.fit(x,y,epochs=1000,verbose=0,batch_size=N)"
   ]
  },
  {
   "cell_type": "markdown",
   "id": "e33d6f7e-aa2e-4fb3-b2c8-dfab5e675de7",
   "metadata": {},
   "source": [
    "${\\boldsymbol u}$를 이용하여 ${\\boldsymbol v}$를 만드는 코드와 ${\\boldsymbol v}$를 이용하여 $y$를 만드는 코드를 작성하라. "
   ]
  },
  {
   "cell_type": "code",
   "execution_count": 83,
   "id": "51784dbf-c754-43b0-b497-7c5f6303be66",
   "metadata": {},
   "outputs": [
    {
     "data": {
      "text/plain": [
       "[<tf.Variable 'dense_3/kernel:0' shape=(1, 2) dtype=float32, numpy=array([[1.9178674, 0.7250776]], dtype=float32)>,\n",
       " <tf.Variable 'dense_3/bias:0' shape=(2,) dtype=float32, numpy=array([ 0.33402315, -0.72684675], dtype=float32)>,\n",
       " <tf.Variable 'dense_4/kernel:0' shape=(2, 1) dtype=float32, numpy=\n",
       " array([[ 1.8141525 ],\n",
       "        [-0.67835057]], dtype=float32)>,\n",
       " <tf.Variable 'dense_4/bias:0' shape=(1,) dtype=float32, numpy=array([-0.60076195], dtype=float32)>]"
      ]
     },
     "execution_count": 83,
     "metadata": {},
     "output_type": "execute_result"
    }
   ],
   "source": [
    "net.weights"
   ]
  },
  {
   "cell_type": "code",
   "execution_count": 84,
   "id": "aae6173b-766a-4efd-b72c-4d95079e96aa",
   "metadata": {},
   "outputs": [],
   "source": [
    "W1= tf.Variable(tnp.array([[-0.03077251,  1.8713338 ]]))\n",
    "b1= tf.Variable(tnp.array([-0.04834982,  0.3259186 ]))\n",
    "W2= tf.Variable(tnp.array([[0.65121335],[1.8592643 ]]))\n",
    "b2= tf.Variable(tnp.array([-0.60076195])) "
   ]
  },
  {
   "cell_type": "code",
   "execution_count": 85,
   "id": "6020ef7d-b583-40f6-8706-cc7e934d6440",
   "metadata": {},
   "outputs": [],
   "source": [
    "with tf.GradientTape() as tape: \n",
    "    u = tf.constant(x) @ W1 + b1 \n",
    "    v = tf.nn.relu(u) \n",
    "    yhat = v@W2 + b2 \n",
    "    loss = tf.losses.mse(y,yhat) "
   ]
  },
  {
   "cell_type": "code",
   "execution_count": 86,
   "id": "341111c3-316d-4b5d-8d4a-9c20276d9f33",
   "metadata": {},
   "outputs": [
    {
     "data": {
      "text/plain": [
       "[<tf.Tensor: shape=(1, 2), dtype=float64, numpy=array([[ 0.00000000e+00, -4.77330119e-05]])>,\n",
       " <tf.Tensor: shape=(2,), dtype=float64, numpy=array([0.0000000e+00, 3.1478608e-06])>,\n",
       " <tf.Tensor: shape=(2, 1), dtype=float64, numpy=\n",
       " array([[ 0.00000000e+00],\n",
       "        [-4.74910706e-05]])>,\n",
       " <tf.Tensor: shape=(1,), dtype=float64, numpy=array([-2.43031263e-05])>]"
      ]
     },
     "execution_count": 86,
     "metadata": {},
     "output_type": "execute_result"
    }
   ],
   "source": [
    "tape.gradient(loss,[W1,b1,W2,b2])"
   ]
  },
  {
   "cell_type": "code",
   "execution_count": 87,
   "id": "de91bc82-584c-425b-aae6-b673451bd859",
   "metadata": {},
   "outputs": [
    {
     "data": {
      "text/plain": [
       "[<matplotlib.lines.Line2D at 0x7fe3387a6530>]"
      ]
     },
     "execution_count": 87,
     "metadata": {},
     "output_type": "execute_result"
    },
    {
     "data": {
      "image/png": "[encoded data removed]",
      "text/plain": [
       "<Figure size 432x288 with 1 Axes>"
      ]
     },
     "metadata": {
      "needs_background": "light"
     },
     "output_type": "display_data"
    }
   ],
   "source": [
    "plt.plot(x,y,'.') \n",
    "plt.plot(x,net(x),'--')"
   ]
  },
  {
   "cell_type": "markdown",
   "id": "baa588e0-03dd-4f33-aff2-19e09ab69f6d",
   "metadata": {},
   "source": [
    "`(3)` 아래는 `(1)-(2)`번 모형에 대한 discussion이다. 올바른 것을 모두 골라라. \n",
    "\n",
    "**(곤이)** (2) 모형은 활성화함수로 relu를 사용하였다. (O)\n",
    "\n",
    "**(철용)** (1) 모형에서 추정해야할 파라메터의 수는 2개이다. \n",
    "\n",
    "**(아귀)** (2) 모형이 (1) 모형보다 복잡한 모형이다. (X)\n",
    "\n",
    "**(짝귀)** (1) 의 모형은 오버피팅의 위험이 있다. (O)"
   ]
  },
  {
   "cell_type": "markdown",
   "id": "1fbe974e-1a43-4281-bfd0-84c09e00ead4",
   "metadata": {},
   "source": [
    "## `5`. 다음을 잘 읽고 참과 거짓을 판단하라. (5점)"
   ]
  },
  {
   "cell_type": "markdown",
   "id": "6a972202-b9ef-4e37-9561-41bb58c3df17",
   "metadata": {},
   "source": [
    "`(1)` 적절한 학습률이 선택된다면, 경사하강법은 손실함수가 convex일때 언제 전역최소해를 찾을 수 있다. (참)"
   ]
  },
  {
   "cell_type": "markdown",
   "id": "99bcd77d-c751-4cb9-ac24-ba15f5f01d01",
   "metadata": {},
   "source": [
    "`(2)` `tf.GradeintTape()`는 경사하강법을 이용하여 최적점을 찾아주는 tool이다. (참)"
   ]
  },
  {
   "cell_type": "markdown",
   "id": "9ce0ca2f-39c7-441f-ac28-4d2647f42049",
   "metadata": {},
   "source": [
    "`(3)` 학습률이 크다는 것은 파라메터는 1회 업데이트 하는 양이 크다는 것을 의미한다. (참)"
   ]
  },
  {
   "cell_type": "markdown",
   "id": "00e49702-9cfc-4148-bbd9-d90c61299cfb",
   "metadata": {},
   "source": [
    "`(4)` 학습률이 크면 학습파라메터의 수렴속도가 빨라지지만 때때로 과적합에 빠질 수도 있다. (참)"
   ]
  },
  {
   "cell_type": "markdown",
   "id": "7520eafe-392a-4b37-b117-add58f81f74e",
   "metadata": {},
   "source": [
    "`(5)` 단순회귀분석에서 MSE loss를 최소화 하는 해는 경사하강법을 이용하지 않아도 해석적으로 구할 수 있다. (거짓)"
   ]
  }
 ],
 "metadata": {
  "kernelspec": {
   "display_name": "Python 3 (ipykernel)",
   "language": "python",
   "name": "python3"
  },
  "language_info": {
   "codemirror_mode": {
    "name": "ipython",
    "version": 3
   },
   "file_extension": ".py",
   "mimetype": "text/x-python",
   "name": "python",
   "nbconvert_exporter": "python",
   "pygments_lexer": "ipython3",
   "version": "3.10.0"
  }
 },
 "nbformat": 4,
 "nbformat_minor": 5
}
