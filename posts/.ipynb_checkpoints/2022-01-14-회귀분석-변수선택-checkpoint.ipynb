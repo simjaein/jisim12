{
 "cells": [
  {
   "cell_type": "markdown",
   "id": "cd348f76-8b86-4fa8-8a93-6fe99178c602",
   "metadata": {
    "tags": []
   },
   "source": [
    "# Variable Selection\n",
    "> 회귀분석\n",
    "\n",
    "- toc:false\n",
    "- branch: master\n",
    "- badges: true\n",
    "- comments: true\n",
    "- author: 심재인"
   ]
  },
  {
   "cell_type": "markdown",
   "id": "d673172e-32b8-4a13-8137-c67ba51ab25b",
   "metadata": {},
   "source": [
    "## Model Selection\n",
    "- Goal : explain the response with minimum number of explanatory variables   \n",
    "- Full Model   \n",
    "  - $y_i = \\beta_0+\\beta_1x_{i1}+\\dots+\\beta_px_{ip}+\\dots+\\beta_qx_{iq}+\\epsilon_i$   \n",
    "  - $\\epsilon_i\\sim_{idd}N(0,\\epsilon^2)$   \n",
    "  - $SSE_q = ||Y-X\\hat{\\beta^*}||^2,\\quad\\hat{\\sigma_{q}^2}=SSE_q/(n-p-1)$   \n",
    "-Current Model   \n",
    "  - $y_i = \\beta_0+\\beta_1x_{i1}+\\dots+\\beta_px_{ip}\\epsilon_i$,   \n",
    "  - $\\epsilon_i\\sim_{idd}N(0,\\epsilon_{p}^2)$   \n",
    "  - $SSE_p = ||Y-X_{p}\\hat{\\beta^p}||^2,\\quad\\hat{\\sigma_{p}^2}=SSE_p/(n-p-1)$   \n",
    "- Statistics used in model selection   \n",
    "  - Residual mean squares error (MSE) : $MSE = \\frac{SSE_P}{(n-p-1)}$   \n",
    "  - coefficient of determination : $R^2 = \\frac{SSR}{SST}=1-\\frac{SSE_p}{SST}$   \n",
    "  - Adjusted $R^2 : R^2_{adj} = 1-\\frac{SSE_p/(n-p-1)}{SST/(n-1)}$   \n",
    "  - Partial F-test statistics\n",
    "  \n",
    "## Partial F-test statistics\n",
    "- 부분 F-검정통계량   \n",
    "  $H_0:\\beta_p=0_{|\\beta_0,\\beta_1,\\dots,\\beta_{p-1}}\\;vs. H_1:\\beta_p\\neq 0_{|\\beta_0,\\beta_1,\\dots,\\beta_{p-1}}$   \n",
    "  - 부분 검정통계량 : $F_0 = \\frac{SSR_{FM}-SSR_{RM}}{MSE_{FM}}\\qquad 유의확률\\begin{cases}낮으면\\;추가 \\\\ 높으면\\;제거 \\end{cases}$   \n",
    "  - $FM$ : 변수 $p$개, $RM$ : 변수 $(p-1)$개   \n",
    "  - $F_0$ ~ $F(1,n-p-1), under\\;H_0$   \n",
    "  - $F_0 \\geq F_c = F_{\\alpha}(1,n-p-1) \\Rightarrow H_0$ 기각 $\\qquad f_0\\begin{cases}높으면\\;추가 \\\\ 낮으면\\;제거 \\end{cases}$\n",
    "  \n",
    "## Variable Selection\n",
    "- Variable selection.  \n",
    "  - All possible regression : 모든 가능한 회귀 $\\Rightarrow$ 수가 많아지면 너무 오래 걸린다   \n",
    "  - Backward Elimination : 후진 제거법 $\\Rightarrow$ 필요없는것부터 제거 $\\qquad\\;$ (단, 한번 제거되면 무조건 제거)   \n",
    "  - Forward Selection : 전진 선택법 $\\Rightarrow$ 하나씩 추가해보며 하는 것 $\\qquad$ (단, 한번 추가되면 무조건 추가)   \n",
    "  - Stepwise regression : 단계별 회귀 $\\Rightarrow$ 후진 제거법 + 전진 선택법   \n",
    "- All possible regression   \n",
    "  - 모든 가능한 변수들의 조합 $(2^p)$을 회귀분석하여 결과 비교   \n",
    "  - 시간이 오래 걸림   \n",
    "  - $R^2$또는 $MSE$ 사용   \n",
    "- Backward Elimination   \n",
    "  (step 0) 모든 변수를 포함한 회귀방정식 적합 (Full Model).  \n",
    "  (step 1) 변수 하나하나씩에 대한 부분 F-검정통계량 $F_0$ 구함   \n",
    "  (step 2) 가장 작은 부분 F-검정통계량 $F_L$과 $F_c$를 구함   \n",
    "  (step 3) $F_L < F_c$ 이면 $x_L$ `제거` $\\Rightarrow$ (step 2)로   \n",
    "  $\\qquad\\quad F_L\\geq F_c$ 이면 `멈춘 후 최종모형으로 선택`"
   ]
  },
  {
   "cell_type": "markdown",
   "id": "40cd81d3-e6f8-4bd7-85dc-aca38f6b9ff4",
   "metadata": {},
   "source": [
    "- Forward Selection   \n",
    "  (step 0) 변수 하나하나씩에 대한 회귀모형 적합 후 $R^2$ 를 `가장 크게 하는` 설명변수 선택   \n",
    "  (step 1) 변수를 하나하나씩 `추가`하여 $R^2$를 가장 크게 하는 변수 선택 $(x_s)$   \n",
    "  (step 2) 위에서 추가된 변수 $x_s$에 대해 부분 `F-검정 수행`   \n",
    "  (step 3) 위의 결과가 유의하면 `$x_s$ 추가`하고 (step 1)으로, 유의하지 않으면 멈춘 후 `$x_s$를 제외한 모형을 최종모형으로 선택`   \n",
    "- Stepwise regression   \n",
    "  (step 0) 전진선택법의 (step 0)와 동일   \n",
    "  (step 1) 변수를 하나하나씩 `추가`하여 $R^2$를 가장 크게 하는 변수 선택 $x_s$   \n",
    "  (step 2) 위에서 추가된 변수 $x_s$에 대해 부분 F-검정 수행   \n",
    "  (step 3) 위의 결과가 유의하면 $x_s$ 포함하고 (step 4)로, 유의하지 않으면 멈춘 후 $x_s$를 제외한 모형을 최종모형으로 선택   \n",
    "  (step 4) 포함된 변수에 대해 부분 F-검정을 실시하여 유의하지 않은 변수가 있으면 `제거`하고 (step 1)로"
   ]
  }
 ],
 "metadata": {
  "kernelspec": {
   "display_name": "Python 3 (ipykernel)",
   "language": "python",
   "name": "python3"
  },
  "language_info": {
   "codemirror_mode": {
    "name": "ipython",
    "version": 3
   },
   "file_extension": ".py",
   "mimetype": "text/x-python",
   "name": "python",
   "nbconvert_exporter": "python",
   "pygments_lexer": "ipython3",
   "version": "3.10.0"
  }
 },
 "nbformat": 4,
 "nbformat_minor": 5
}
