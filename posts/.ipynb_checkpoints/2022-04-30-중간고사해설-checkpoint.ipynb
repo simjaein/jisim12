{
 "cells": [
  {
   "cell_type": "markdown",
   "id": "f9810af1-1131-4f88-aa46-650310fa095e",
   "metadata": {},
   "source": [
    "# 중간고사해설\n",
    "> 빅데이터분석특강\n",
    "\n",
    "- toc:false\n",
    "- branch: master\n",
    "- badges: true\n",
    "- comments: true\n",
    "- author: 심재인"
   ]
  },
  {
   "cell_type": "markdown",
   "id": "80426de4-3ac2-4a11-b267-292fc92c6e3a",
   "metadata": {},
   "source": [
    "### imports"
   ]
  },
  {
   "cell_type": "code",
   "execution_count": 1,
   "id": "6135ffbc-c4a2-47c3-8e0c-fb529b291a09",
   "metadata": {},
   "outputs": [],
   "source": [
    "import numpy as np\n",
    "import tensorflow as tf \n",
    "import tensorflow.experimental.numpy as tnp"
   ]
  },
  {
   "cell_type": "code",
   "execution_count": 2,
   "id": "8f605494-1297-45c2-83e7-7ccf82570c88",
   "metadata": {},
   "outputs": [],
   "source": [
    "tnp.experimental_enable_numpy_behavior()"
   ]
  },
  {
   "cell_type": "code",
   "execution_count": 3,
   "id": "8dacb805-5af4-4205-97d6-de22c214c873",
   "metadata": {},
   "outputs": [],
   "source": [
    "import matplotlib.pyplot as plt "
   ]
  },
  {
   "cell_type": "markdown",
   "id": "6f801cc4-c07e-4cd4-a489-2236f7e049c9",
   "metadata": {},
   "source": [
    "### `1`. 경사하강법과 tf.GradientTape()의 사용방법 (30점)"
   ]
  },
  {
   "cell_type": "markdown",
   "id": "cf3ad633-22ab-4a0c-b32e-e46ec24ecfee",
   "metadata": {},
   "source": [
    "`(1)` 아래는 $X_i \\overset{iid}{\\sim} N(3,2^2)$ 를 생성하는 코드이다. "
   ]
  },
  {
   "cell_type": "code",
   "execution_count": 4,
   "id": "26dbcc74-e9a4-49e4-8324-47870cb29ac0",
   "metadata": {},
   "outputs": [
    {
     "name": "stderr",
     "output_type": "stream",
     "text": [
      "2022-05-04 14:57:40.284732: I tensorflow/stream_executor/cuda/cuda_gpu_executor.cc:939] successful NUMA node read from SysFS had negative value (-1), but there must be at least one NUMA node, so returning NUMA node zero\n"
     ]
    },
    {
     "data": {
      "text/plain": [
       "<tf.Tensor: shape=(10000,), dtype=float64, numpy=\n",
       "array([ 4.12539849,  5.46696729,  5.27243374, ...,  2.89712332,\n",
       "        5.01072291, -1.13050477])>"
      ]
     },
     "execution_count": 4,
     "metadata": {},
     "output_type": "execute_result"
    }
   ],
   "source": [
    "tf.random.set_seed(43052)\n",
    "x= tnp.random.randn(10000)*2+3\n",
    "x"
   ]
  },
  {
   "cell_type": "markdown",
   "id": "07e0cfdf-4358-42ee-8812-24e914709a2f",
   "metadata": {},
   "source": [
    "함수 $L(\\mu,\\sigma)$을 최대화하는 $(\\mu,\\sigma)$를 `tf.GradeintTape()`를 활용하여 추정하라. (경사하강법 혹은 경사상승법을 사용하고 $\\mu$의 초기값은 2로 $\\sigma$의 초기값은 3으로 설정할 것) \n",
    "\n",
    "$$L(\\mu,\\sigma)=\\prod_{i=1}^{n}f(x_i), \\quad f(x_i)=\\frac{1}{\\sqrt{2\\pi}\\sigma}e^{-\\frac{1}{2}(\\frac{x_i-\\mu}{\\sigma})^2}$$"
   ]
  },
  {
   "cell_type": "markdown",
   "id": "a79559e8-0423-4bfc-9365-1bc1841bbd42",
   "metadata": {},
   "source": [
    "**(풀이)**"
   ]
  },
  {
   "cell_type": "code",
   "execution_count": 5,
   "id": "e93acc13-0101-454e-94c2-900df76dcd06",
   "metadata": {},
   "outputs": [],
   "source": [
    "sigma = tf.Variable(3.0) \n",
    "mu = tf.Variable(2.0)"
   ]
  },
  {
   "cell_type": "code",
   "execution_count": 6,
   "id": "967c7994-8540-40ee-899f-dbdc8150b378",
   "metadata": {},
   "outputs": [
    {
     "data": {
      "text/plain": [
       "[<tf.Tensor: shape=(), dtype=float32, numpy=1129.3353>,\n",
       " <tf.Tensor: shape=(), dtype=float32, numpy=-1488.3431>]"
      ]
     },
     "execution_count": 6,
     "metadata": {},
     "output_type": "execute_result"
    }
   ],
   "source": [
    "with tf.GradientTape() as tape: \n",
    "    pdf = 1/sigma * tnp.exp(-0.5*((x-mu)/sigma)**2)\n",
    "    logL = tf.reduce_sum(tnp.log(pdf) ) \n",
    "tape.gradient(logL,[mu,sigma]) "
   ]
  },
  {
   "cell_type": "code",
   "execution_count": 7,
   "id": "5063ce55-61b7-480b-9bd6-6aa8eb02af7c",
   "metadata": {},
   "outputs": [],
   "source": [
    "for i in range(1000):\n",
    "    with tf.GradientTape() as tape: \n",
    "        pdf = 1/sigma * tnp.exp(-0.5*((x-mu)/sigma)**2)\n",
    "        logL = tf.reduce_sum(tnp.log(pdf) ) \n",
    "    slope1, slope2 = tape.gradient(logL,[mu,sigma]) \n",
    "    mu.assign_add(slope1* 0.1/10000) # N=10000 \n",
    "    sigma.assign_add(slope2* 0.1/10000) "
   ]
  },
  {
   "cell_type": "code",
   "execution_count": 8,
   "id": "d77bbd3f-9223-42b9-99c7-35b68a3ecc22",
   "metadata": {},
   "outputs": [
    {
     "data": {
      "text/plain": [
       "(<tf.Variable 'Variable:0' shape=() dtype=float32, numpy=3.0163972>,\n",
       " <tf.Variable 'Variable:0' shape=() dtype=float32, numpy=1.9870595>)"
      ]
     },
     "execution_count": 8,
     "metadata": {},
     "output_type": "execute_result"
    }
   ],
   "source": [
    "mu,sigma"
   ]
  },
  {
   "cell_type": "markdown",
   "id": "79509422-e1b5-4cfb-8d91-1748557185a1",
   "metadata": {},
   "source": [
    "`(2)` 아래는 $X_i \\overset{iid}{\\sim} Ber(0.8)$을 생성하는 코드이다. "
   ]
  },
  {
   "cell_type": "code",
   "execution_count": 9,
   "id": "550d9ee5-29f4-4207-a3dd-099a04aa0c3c",
   "metadata": {},
   "outputs": [
    {
     "data": {
      "text/plain": [
       "<tf.Tensor: shape=(10000,), dtype=int64, numpy=array([1, 1, 1, ..., 1, 1, 1])>"
      ]
     },
     "execution_count": 9,
     "metadata": {},
     "output_type": "execute_result"
    }
   ],
   "source": [
    "tf.random.set_seed(43052)\n",
    "x= tf.constant(np.random.binomial(1,0.8,(10000,)))\n",
    "x"
   ]
  },
  {
   "cell_type": "markdown",
   "id": "29a506f6-4727-411f-8efc-3986a2763227",
   "metadata": {},
   "source": [
    "함수 $L(p)$을 최대화하는 $p$를 `tf.GradeintTape()`를 활용하여 추정하라. (경사하강법 혹은 경사상승법을 사용하고 $p$의 초기값은 0.3으로 설정할 것) \n",
    "\n",
    "\n",
    "$$L(\\mu,\\sigma)=\\prod_{i=1}^{n}f(x_i), \\quad f(x_i)=p^{x_i}(1-p)^{1-x_i}$$"
   ]
  },
  {
   "cell_type": "markdown",
   "id": "5f54cf79-e2d7-4606-a983-e2aad39aabea",
   "metadata": {},
   "source": [
    "**(풀이)**"
   ]
  },
  {
   "cell_type": "code",
   "execution_count": 10,
   "id": "0a366ba5-1c9a-4018-aad6-4a1d8818368d",
   "metadata": {},
   "outputs": [],
   "source": [
    "p=tf.Variable(0.3) \n",
    "for i in range(1000):\n",
    "    with tf.GradientTape() as tape: \n",
    "        pdf = p**x * (1-p)**(1-x) \n",
    "        logL = tf.reduce_sum(tnp.log(pdf)) \n",
    "    slope = tape.gradient(logL,p) \n",
    "    p.assign_add(slope* 0.1/10000) # N=10000 "
   ]
  },
  {
   "cell_type": "code",
   "execution_count": 11,
   "id": "2afc826b-0bd5-407c-b778-0664f41a8b28",
   "metadata": {},
   "outputs": [
    {
     "data": {
      "text/plain": [
       "<tf.Variable 'Variable:0' shape=() dtype=float32, numpy=0.8002>"
      ]
     },
     "execution_count": 11,
     "metadata": {},
     "output_type": "execute_result"
    }
   ],
   "source": [
    "p"
   ]
  },
  {
   "cell_type": "markdown",
   "id": "bf82bccc-d105-487b-b3ec-cece60f99e4a",
   "metadata": {},
   "source": [
    "`(3)` 아래의 모형에 따라서 $\\{Y_i\\}_{i=1}^{10000}$를 생성하는 코드를 작성하라. \n",
    "- $Y_i \\overset{iid}{\\sim} N(\\mu_i,1)$ \n",
    "- $\\mu_i = \\beta_0 + \\beta_1 x_i = 0.5 + 2 x_i$ , where $x_i = \\frac{i}{10000}$"
   ]
  },
  {
   "cell_type": "markdown",
   "id": "c4d076cb-0fe0-4e29-a430-8f4df95ad2ed",
   "metadata": {},
   "source": [
    "**(풀이)**"
   ]
  },
  {
   "cell_type": "code",
   "execution_count": 12,
   "id": "44709ffb-a65e-4736-853f-8531f2592524",
   "metadata": {},
   "outputs": [],
   "source": [
    "x= tf.constant(np.arange(1,10001)/10000)\n",
    "y= tnp.random.randn(10000) + (0.5 + 2*x) "
   ]
  },
  {
   "cell_type": "code",
   "execution_count": 13,
   "id": "5db29381-c672-4d58-8de7-c9dc1b60f2d7",
   "metadata": {},
   "outputs": [],
   "source": [
    "beta0= tf.Variable(1.0)\n",
    "beta1= tf.Variable(1.0)\n",
    "for i in range(2000):\n",
    "    with tf.GradientTape() as tape:\n",
    "        mu = beta0 + beta1*x\n",
    "        pdf = tnp.exp(-0.5*(y-mu)**2)\n",
    "        logL = tf.reduce_sum(tnp.log(pdf))\n",
    "    slope1, slope2 = tape.gradient(logL,[beta0,beta1])\n",
    "    beta0.assign_add(slope1* 0.1/10000) # N=10000\n",
    "    beta1.assign_add(slope2* 0.1/10000)"
   ]
  },
  {
   "cell_type": "code",
   "execution_count": 14,
   "id": "8d0ee08d-bc63-4cfa-8523-73b147138dc0",
   "metadata": {},
   "outputs": [
    {
     "data": {
      "text/plain": [
       "(<tf.Variable 'Variable:0' shape=() dtype=float32, numpy=0.5316726>,\n",
       " <tf.Variable 'Variable:0' shape=() dtype=float32, numpy=1.9530618>)"
      ]
     },
     "execution_count": 14,
     "metadata": {},
     "output_type": "execute_result"
    }
   ],
   "source": [
    "beta0, beta1"
   ]
  },
  {
   "cell_type": "markdown",
   "id": "0eec2ff5-8722-44a6-93e1-31212678e116",
   "metadata": {},
   "source": [
    "### `2`. 회귀분석의 이론적해와 tf.keras.optimizer 이용방법 (20점)"
   ]
  },
  {
   "cell_type": "markdown",
   "id": "fd7fdad8-052e-42ca-9e30-12d22eec3771",
   "metadata": {},
   "source": [
    "아래와 같은 선형모형을 고려하자. \n",
    "\n",
    "$$y_i = \\beta_0 + \\beta_1 x_i +\\epsilon_i.$$\n",
    "\n",
    "이때 오차항은 정규분포로 가정한다. 즉 $\\epsilon_i \\overset{iid}{\\sim} N(0,\\sigma^2)$라고 가정한다. \n",
    "\n",
    "관측데이터가 아래와 같을때 아래의 물음에 답하라. "
   ]
  },
  {
   "cell_type": "code",
   "execution_count": 15,
   "id": "3dfcda52-2339-4702-8015-a20c80ac1f70",
   "metadata": {},
   "outputs": [],
   "source": [
    "x= tnp.array([20.1, 22.2, 22.7, 23.3, 24.4, 25.1, 26.2, 27.3, 28.4, 30.4])\n",
    "\n",
    "X= tnp.array([[1.0, 20.1], [1.0, 22.2], [1.0, 22.7], [1.0, 23.3], [1.0, 24.4],\n",
    "              [1.0, 25.1], [1.0, 26.2], [1.0, 27.3], [1.0, 28.4], [1.0, 30.4]])\n",
    "y= tnp.array([55.4183651 , 58.19427589, 61.23082496, 62.31255873, 63.1070028 , \n",
    "              63.69569103, 67.24704918, 71.43650092, 73.10130336, 77.84988286]).reshape(10,1)"
   ]
  },
  {
   "cell_type": "markdown",
   "id": "84e369ed-dabd-420e-ad21-c9f591318518",
   "metadata": {},
   "source": [
    "`(1)` MSE loss를 최소화 하는 $\\beta_0,\\beta_1$의 해석해를 구하라."
   ]
  },
  {
   "cell_type": "markdown",
   "id": "f7144012-2e58-41d5-b9aa-284a3a36d4be",
   "metadata": {},
   "source": [
    "**(풀이)**"
   ]
  },
  {
   "cell_type": "code",
   "execution_count": 16,
   "id": "71e4051e-a966-46e7-8803-ff0545afda49",
   "metadata": {},
   "outputs": [
    {
     "data": {
      "text/plain": [
       "<tf.Tensor: shape=(2, 1), dtype=float64, numpy=\n",
       "array([[9.94457323],\n",
       "       [2.21570461]])>"
      ]
     },
     "execution_count": 16,
     "metadata": {},
     "output_type": "execute_result"
    }
   ],
   "source": [
    "tf.linalg.inv(X.T @ X ) @ X.T @ y"
   ]
  },
  {
   "cell_type": "markdown",
   "id": "2d09617f-c9df-4ca2-aecd-de87c4cecb5e",
   "metadata": {},
   "source": [
    "`(2)` 경사하강법과 MSE loss의 도함수를 이용하여 $\\beta_0,\\beta_1$을 추정하라. \n",
    "\n",
    "**주의** tf.GradeintTape()를 이용하지 말고 MSE loss의 해석적 도함수를 사용할 것."
   ]
  },
  {
   "cell_type": "markdown",
   "id": "e3b36eb7-0dae-4499-ac96-cf3d681b314b",
   "metadata": {},
   "source": [
    "**(풀이)**"
   ]
  },
  {
   "cell_type": "code",
   "execution_count": 17,
   "id": "7d2943ae-2607-435b-ae30-5ab847ae771e",
   "metadata": {},
   "outputs": [],
   "source": [
    "beta= tnp.array([5,10]).reshape(2,1)"
   ]
  },
  {
   "cell_type": "code",
   "execution_count": 18,
   "id": "cf2390c9-e40c-49e4-a700-1678a2561d53",
   "metadata": {},
   "outputs": [],
   "source": [
    "for i in range(50000): \n",
    "    beta = beta - 0.0015 * (-2*X.T @y + 2*X.T@X@beta)/10"
   ]
  },
  {
   "cell_type": "code",
   "execution_count": 19,
   "id": "8c2b21d5-ebb9-4a6e-ae31-cdd5d9ad4c35",
   "metadata": {},
   "outputs": [
    {
     "data": {
      "text/plain": [
       "<tf.Tensor: shape=(2, 1), dtype=float64, numpy=\n",
       "array([[9.28579424],\n",
       "       [2.24168098]])>"
      ]
     },
     "execution_count": 19,
     "metadata": {},
     "output_type": "execute_result"
    }
   ],
   "source": [
    "beta"
   ]
  },
  {
   "cell_type": "markdown",
   "id": "7a8b76a0-86e9-4ad3-8d9e-2c40af144a18",
   "metadata": {},
   "source": [
    "`(3)` `tf.keras.optimizers`의 `apply_gradients()`를 이용하여 $\\beta_0,\\beta_1$을 추정하라."
   ]
  },
  {
   "cell_type": "markdown",
   "id": "f1520448-88c0-4e52-b1c6-c07c1e21cf4b",
   "metadata": {},
   "source": [
    "**(풀이)**"
   ]
  },
  {
   "cell_type": "code",
   "execution_count": 20,
   "id": "9863937d-68cb-44ea-b127-9549849c5b15",
   "metadata": {},
   "outputs": [],
   "source": [
    "beta = tf.Variable(tnp.array([5.0,10.0]).reshape(2,1)) \n",
    "opt = tf.optimizers.SGD(0.0015) \n",
    "for i in range(50000): \n",
    "    with tf.GradientTape() as tape: \n",
    "        loss = (y-X@beta).T @ (y-X@beta) / 10 \n",
    "    slope = tape.gradient(loss,beta) \n",
    "    opt.apply_gradients([(slope,beta)])"
   ]
  },
  {
   "cell_type": "code",
   "execution_count": 21,
   "id": "ce4e910d-4fe4-48f7-8915-0bfbcc93101c",
   "metadata": {},
   "outputs": [
    {
     "data": {
      "text/plain": [
       "<tf.Variable 'Variable:0' shape=(2, 1) dtype=float64, numpy=\n",
       "array([[9.28579425],\n",
       "       [2.24168098]])>"
      ]
     },
     "execution_count": 21,
     "metadata": {},
     "output_type": "execute_result"
    }
   ],
   "source": [
    "beta"
   ]
  },
  {
   "cell_type": "markdown",
   "id": "8139dcf5-a17b-4624-a775-07562baa38ee",
   "metadata": {},
   "source": [
    "`(4)` `tf.keras.optimizers`의 `minimize()`를 이용하여 $\\beta_0,\\beta_1$을 추정하라."
   ]
  },
  {
   "cell_type": "markdown",
   "id": "70f2f9ac-763a-4151-bfa7-86c270693b75",
   "metadata": {},
   "source": [
    "**(풀이)**"
   ]
  },
  {
   "cell_type": "code",
   "execution_count": 23,
   "id": "9a854e3e-9ef0-4483-a19a-15bfb56cd9f4",
   "metadata": {},
   "outputs": [],
   "source": [
    "beta = tf.Variable(tnp.array([5.0,10.0]).reshape(2,1)) \n",
    "opt = tf.optimizers.SGD(0.0015) \n",
    "loss_fn = lambda: (y-X@beta).T @ (y-X@beta) / 10 \n",
    "for i in range(50000): \n",
    "    opt.minimize(loss_fn,beta)  "
   ]
  },
  {
   "cell_type": "code",
   "execution_count": 24,
   "id": "b8853bb0-95aa-4b7d-bf8c-c7d5e87420a5",
   "metadata": {},
   "outputs": [
    {
     "data": {
      "text/plain": [
       "<tf.Variable 'Variable:0' shape=(2, 1) dtype=float64, numpy=\n",
       "array([[9.28579425],\n",
       "       [2.24168098]])>"
      ]
     },
     "execution_count": 24,
     "metadata": {},
     "output_type": "execute_result"
    }
   ],
   "source": [
    "beta"
   ]
  },
  {
   "cell_type": "markdown",
   "id": "557e5cb2-05b9-48d5-8e6e-c9e62f34eb6c",
   "metadata": {},
   "source": [
    "### `3`. keras를 이용한 풀이 (30점)"
   ]
  },
  {
   "cell_type": "markdown",
   "id": "0b915ca5-7aef-49eb-86ea-f51cfb8af58c",
   "metadata": {},
   "source": [
    "`(1)` 아래와 같은 모형을 고려하자. \n",
    "\n",
    "$$y_i= \\beta_0 + \\sum_{k=1}^{5} \\beta_k \\cos(k t_i)+\\epsilon_i, \\quad i=0,1,\\dots, 999$$\n",
    "\n",
    "여기에서 $t_i=\\frac{2\\pi i}{1000}$ 이다. 그리고 $\\epsilon_i \\sim i.i.d~ N(0,\\sigma^2)$, 즉 서로 독립인 표준정규분포에서 추출된 샘플이다. 위의 모형에서 아래와 같은 데이터를 관측했다고 가정하자."
   ]
  },
  {
   "cell_type": "code",
   "execution_count": 25,
   "id": "3c019c9a-e73b-4de5-8c3c-9e9f9b8c178c",
   "metadata": {},
   "outputs": [
    {
     "data": {
      "text/plain": [
       "[<matplotlib.lines.Line2D at 0x7f85c0093c40>]"
      ]
     },
     "execution_count": 25,
     "metadata": {},
     "output_type": "execute_result"
    },
    {
     "data": {
      "image/png": "[encoded data removed]",
      "text/plain": [
       "<Figure size 432x288 with 1 Axes>"
      ]
     },
     "metadata": {
      "needs_background": "light"
     },
     "output_type": "display_data"
    }
   ],
   "source": [
    "np.random.seed(43052)\n",
    "t= np.array(range(1000))* np.pi/1000\n",
    "y = -2+ 3*np.cos(t) + 1*np.cos(2*t) + 0.5*np.cos(5*t) + np.random.randn(1000)*0.2\n",
    "plt.plot(t,y,'.',alpha=0.2)"
   ]
  },
  {
   "cell_type": "markdown",
   "id": "ea22542a-b6da-40b1-9d7f-13c0b2373685",
   "metadata": {},
   "source": [
    "tf.keras를 이용하여 $\\beta_0,\\dots,\\beta_5$를 추정하라. ($\\beta_0,\\dots,\\beta_5$의 참값은 각각 -2,3,1,0,0,0.5 이다) "
   ]
  },
  {
   "cell_type": "markdown",
   "id": "f43f9093-ec4f-4445-95a8-f37d05eabddc",
   "metadata": {},
   "source": [
    "**(풀이)**"
   ]
  },
  {
   "cell_type": "code",
   "execution_count": 26,
   "id": "125081d3-8ff1-4723-980a-6d38b5458a57",
   "metadata": {},
   "outputs": [],
   "source": [
    "y = y.reshape(1000,1)\n",
    "x1 = np.cos(t) \n",
    "x2 = np.cos(2*t)\n",
    "x3 = np.cos(3*t)\n",
    "x4 = np.cos(4*t)\n",
    "x5 = np.cos(5*t)\n",
    "X = tf.stack([x1,x2,x3,x4,x5],axis=1)"
   ]
  },
  {
   "cell_type": "code",
   "execution_count": 27,
   "id": "31af1369-558a-4e74-a839-2041b843ac6f",
   "metadata": {},
   "outputs": [
    {
     "data": {
      "text/plain": [
       "<keras.callbacks.History at 0x7f8544703100>"
      ]
     },
     "execution_count": 27,
     "metadata": {},
     "output_type": "execute_result"
    }
   ],
   "source": [
    "net = tf.keras.Sequential()\n",
    "net.add(tf.keras.layers.Dense(1)) \n",
    "net.compile(loss='mse',optimizer='sgd') \n",
    "net.fit(X,y,batch_size=1000, epochs = 1000, verbose=0)"
   ]
  },
  {
   "cell_type": "code",
   "execution_count": 28,
   "id": "b1c9de6d-3015-4a15-b82c-3cb483bdbd92",
   "metadata": {},
   "outputs": [
    {
     "data": {
      "text/plain": [
       "[<tf.Variable 'dense/kernel:0' shape=(5, 1) dtype=float32, numpy=\n",
       " array([[ 3.0008404e+00],\n",
       "        [ 1.0067019e+00],\n",
       "        [ 1.8562055e-03],\n",
       "        [-3.8460968e-03],\n",
       "        [ 4.9710521e-01]], dtype=float32)>,\n",
       " <tf.Variable 'dense/bias:0' shape=(1,) dtype=float32, numpy=array([-2.0122595], dtype=float32)>]"
      ]
     },
     "execution_count": 28,
     "metadata": {},
     "output_type": "execute_result"
    }
   ],
   "source": [
    "net.weights"
   ]
  },
  {
   "cell_type": "markdown",
   "id": "41b5c41b-50b2-4260-8c0a-ccfa8c62ed4a",
   "metadata": {},
   "source": [
    "`(2)` 아래와 같은 모형을 고려하자. \n",
    "\n",
    "$$y_i \\sim Ber(\\pi_i), ~ \\text{where} ~ \\pi_i=\\frac{\\exp(w_0+w_1x_i)}{1+\\exp(w_0+w_1x_i)}$$"
   ]
  },
  {
   "cell_type": "markdown",
   "id": "719f1386-f592-4e7c-832a-1060fc341ea6",
   "metadata": {},
   "source": [
    "위의 모형에서 관측한 데이터는 아래와 같다."
   ]
  },
  {
   "cell_type": "code",
   "execution_count": 29,
   "id": "af15d309-f446-4d08-9a21-bd9fe9b763df",
   "metadata": {},
   "outputs": [
    {
     "data": {
      "text/plain": [
       "[<matplotlib.lines.Line2D at 0x7f854453eda0>]"
      ]
     },
     "execution_count": 29,
     "metadata": {},
     "output_type": "execute_result"
    },
    {
     "data": {
      "image/png": "[encoded data removed]",
      "text/plain": [
       "<Figure size 432x288 with 1 Axes>"
      ]
     },
     "metadata": {
      "needs_background": "light"
     },
     "output_type": "display_data"
    }
   ],
   "source": [
    "tf.random.set_seed(43052)\n",
    "x = tnp.linspace(-1,1,2000) \n",
    "y = tf.constant(np.random.binomial(1, tf.nn.sigmoid(-1+5*x)),dtype=tf.float64) \n",
    "plt.plot(x,y,'.',alpha=0.05)"
   ]
  },
  {
   "cell_type": "markdown",
   "id": "946ab735-7d7a-4a18-9302-687bb12b8f86",
   "metadata": {},
   "source": [
    "tf.keras를 이용하여 $w_0,w_1$을 추정하라. (참고: $w_0, w_1$에 대한 참값은 -1과 5이다.)"
   ]
  },
  {
   "cell_type": "markdown",
   "id": "fecb98a4-60e4-491c-b907-9df3af191f8c",
   "metadata": {},
   "source": [
    "**(풀이)**"
   ]
  },
  {
   "cell_type": "code",
   "execution_count": 30,
   "id": "23923621-920f-4cc8-9248-8d1c73f9a857",
   "metadata": {},
   "outputs": [],
   "source": [
    "x= x.reshape(2000,1)\n",
    "y= y.reshape(2000,1)"
   ]
  },
  {
   "cell_type": "code",
   "execution_count": 31,
   "id": "899f5174-fb14-4ee9-b272-7f047a793b30",
   "metadata": {},
   "outputs": [
    {
     "data": {
      "text/plain": [
       "<keras.callbacks.History at 0x7f854458fee0>"
      ]
     },
     "execution_count": 31,
     "metadata": {},
     "output_type": "execute_result"
    }
   ],
   "source": [
    "net= tf.keras.Sequential()\n",
    "net.add(tf.keras.layers.Dense(1,activation='sigmoid'))\n",
    "net.compile(optimizer='sgd', loss= tf.losses.binary_crossentropy) \n",
    "net.fit(x,y,epochs=10000,batch_size=2000, verbose=0)"
   ]
  },
  {
   "cell_type": "code",
   "execution_count": 32,
   "id": "7c3d3133-f550-4bc7-863c-df1fb60456ef",
   "metadata": {},
   "outputs": [
    {
     "data": {
      "text/plain": [
       "[<tf.Variable 'dense_1/kernel:0' shape=(1, 1) dtype=float32, numpy=array([[4.232856]], dtype=float32)>,\n",
       " <tf.Variable 'dense_1/bias:0' shape=(1,) dtype=float32, numpy=array([-0.90837014], dtype=float32)>]"
      ]
     },
     "execution_count": 32,
     "metadata": {},
     "output_type": "execute_result"
    }
   ],
   "source": [
    "net.weights"
   ]
  },
  {
   "cell_type": "code",
   "execution_count": 33,
   "id": "c683ce8a-eb62-4993-aa64-9728bb463a7f",
   "metadata": {},
   "outputs": [
    {
     "data": {
      "text/plain": [
       "[<matplotlib.lines.Line2D at 0x7f86aef068c0>]"
      ]
     },
     "execution_count": 33,
     "metadata": {},
     "output_type": "execute_result"
    },
    {
     "data": {
      "image/png": "[encoded data removed]",
      "text/plain": [
       "<Figure size 432x288 with 1 Axes>"
      ]
     },
     "metadata": {
      "needs_background": "light"
     },
     "output_type": "display_data"
    }
   ],
   "source": [
    "plt.plot(y,'.')\n",
    "plt.plot(net(x),'--')"
   ]
  },
  {
   "cell_type": "markdown",
   "id": "a3744d8a-bc90-44b5-8e71-1d61b4be694b",
   "metadata": {},
   "source": [
    "### `4`. Piecewise-linear regression (15점)"
   ]
  },
  {
   "cell_type": "markdown",
   "id": "50ebd710-9bd0-42da-adb0-d267b1b9ef6c",
   "metadata": {},
   "source": [
    "아래의 모형을 고려하자. \n",
    "\n",
    "model: $y_i=\\begin{cases} x_i +0.3\\epsilon_i & x\\leq 0 \\\\ 3.5x_i +0.3\\epsilon_i & x>0 \\end{cases}$"
   ]
  },
  {
   "cell_type": "markdown",
   "id": "1f8703a4-a8e2-4394-adee-08ab93041f43",
   "metadata": {},
   "source": [
    "아래는 위의 모형에서 생성한 샘플이다."
   ]
  },
  {
   "cell_type": "code",
   "execution_count": 34,
   "id": "6e1dc966-1714-4b53-9dd9-5474842a93d7",
   "metadata": {},
   "outputs": [],
   "source": [
    "np.random.seed(43052)\n",
    "N=100\n",
    "x= np.linspace(-1,1,N).reshape(N,1)\n",
    "y= np.array(list(map(lambda x: x*1+np.random.normal()*0.3 if x<0 else x*3.5+np.random.normal()*0.3,x))).reshape(N,1)"
   ]
  },
  {
   "cell_type": "markdown",
   "id": "4dfa9fe2-81f5-444b-8b2e-2efb8d7ae91e",
   "metadata": {},
   "source": [
    "`(1)` 다음은 $(x_i,y_i)$를 아래와 같은 아키텍처로 적합시키는 코드이다. \n",
    "\n",
    "- $\\hat{y} =  \\hat{\\beta}_0+\\hat{\\beta}_1x $"
   ]
  },
  {
   "cell_type": "code",
   "execution_count": 35,
   "id": "1c75bcc2-6b30-4470-942a-6de5b2899635",
   "metadata": {},
   "outputs": [
    {
     "data": {
      "text/plain": [
       "<keras.callbacks.History at 0x7f85c004b2e0>"
      ]
     },
     "execution_count": 35,
     "metadata": {},
     "output_type": "execute_result"
    }
   ],
   "source": [
    "tf.random.set_seed(43054) \n",
    "net = tf.keras.Sequential()\n",
    "net.add(tf.keras.layers.Dense(1)) \n",
    "net.compile(optimizer=tf.optimizers.SGD(0.1),loss='mse')\n",
    "net.fit(x,y,batch_size=N,epochs=1000,verbose=0) # numpy로 해도 돌아감"
   ]
  },
  {
   "cell_type": "markdown",
   "id": "05968259-11cf-4f89-933a-f150c0a895c5",
   "metadata": {},
   "source": [
    "케라스에 의해 추정된 $\\hat{\\beta}_0,\\hat{\\beta}_1$을 구하라."
   ]
  },
  {
   "cell_type": "code",
   "execution_count": 36,
   "id": "fe87cdab-625b-4336-b343-250f340b543e",
   "metadata": {},
   "outputs": [
    {
     "data": {
      "text/plain": [
       "[<tf.Variable 'dense_2/kernel:0' shape=(1, 1) dtype=float32, numpy=array([[2.2616348]], dtype=float32)>,\n",
       " <tf.Variable 'dense_2/bias:0' shape=(1,) dtype=float32, numpy=array([0.6069048], dtype=float32)>]"
      ]
     },
     "execution_count": 36,
     "metadata": {},
     "output_type": "execute_result"
    }
   ],
   "source": [
    "net.weights"
   ]
  },
  {
   "cell_type": "markdown",
   "id": "6b8d9186-2313-45ce-b469-0d6f341837f3",
   "metadata": {},
   "source": [
    "**(풀이)**"
   ]
  },
  {
   "cell_type": "markdown",
   "id": "21f16bc9-cf78-4e38-9000-25c9c3bccf7e",
   "metadata": {},
   "source": [
    "- $\\hat{\\beta}_0= 0.6069048$\n",
    "- $\\hat{\\beta}_1= 2.2616348$"
   ]
  },
  {
   "cell_type": "markdown",
   "id": "89f04802-d018-4a66-8627-4486b61cec9b",
   "metadata": {},
   "source": [
    "`(2)` 다음은 $(x_i,y_i)$를 아래와 같은 아키텍처로 적합시키는 코드이다. \n",
    "\n",
    "- $\\boldsymbol{u}= x\\boldsymbol{W}^{(1)}+\\boldsymbol{b}^{(1)}$\n",
    "- $\\boldsymbol{v}= \\text{relu}(u)$ \n",
    "- $yhat= \\boldsymbol{v}\\boldsymbol{W}^{(2)}+b^{(2)}$"
   ]
  },
  {
   "cell_type": "code",
   "execution_count": 37,
   "id": "3d2d8ae3-d514-45aa-b2b5-5b9a2ead3469",
   "metadata": {},
   "outputs": [
    {
     "data": {
      "text/plain": [
       "<keras.callbacks.History at 0x7f86aefa36a0>"
      ]
     },
     "execution_count": 37,
     "metadata": {},
     "output_type": "execute_result"
    }
   ],
   "source": [
    "tf.random.set_seed(43056) \n",
    "## 1단계\n",
    "net = tf.keras.Sequential() \n",
    "net.add(tf.keras.layers.Dense(2))\n",
    "net.add(tf.keras.layers.Activation('relu')) \n",
    "net.add(tf.keras.layers.Dense(1))\n",
    "net.compile(optimizer=tf.optimizers.SGD(0.1),loss='mse')\n",
    "net.fit(x,y,epochs=1000,verbose=0,batch_size=N)"
   ]
  },
  {
   "cell_type": "markdown",
   "id": "be24c3ee-7661-4faa-8615-e9ab63e9c277",
   "metadata": {},
   "source": [
    "${\\boldsymbol u}$를 이용하여 ${\\boldsymbol v}$를 만드는 코드와 ${\\boldsymbol v}$를 이용하여 $yhat$를 만드는 코드를 작성하라."
   ]
  },
  {
   "cell_type": "markdown",
   "id": "19cc79c9-2100-4c51-9d93-ae2787d6d8ab",
   "metadata": {},
   "source": [
    "**(풀이)**"
   ]
  },
  {
   "cell_type": "code",
   "execution_count": 38,
   "id": "291fd25e-f644-4644-a771-8bc5f892dede",
   "metadata": {},
   "outputs": [],
   "source": [
    "u=net.layers[0](x)\n",
    "v=net.layers[1](u) \n",
    "yhat=net.layers[2](v)"
   ]
  },
  {
   "cell_type": "markdown",
   "id": "1e478c18-f28f-4e63-83ed-b55d50fc5c67",
   "metadata": {},
   "source": [
    "`(3)` 아래는 `(1)-(2)`번 모형에 대한 discussion이다. 올바른 것을 모두 골라라. \n",
    "\n",
    "**(곤이)** (2) 모형은 활성화함수로 relu를 사용하였다. \n",
    "\n",
    "**(철용)** (1) 모형에서 추정해야할 파라메터의 수는 2개이다. \n",
    "\n",
    "**(아귀)** (2) 모형이 (1) 모형보다 복잡한 모형이다. \n",
    "\n",
    "~~**(짝귀)** (1) 의 모형은 오버피팅의 위험이 있다.~~"
   ]
  },
  {
   "cell_type": "markdown",
   "id": "4aa21504-25d2-4fe8-a8f9-2faedc7fbc6e",
   "metadata": {},
   "source": [
    "### `5`. 다음을 잘 읽고 참과 거짓을 판단하라. (5점)"
   ]
  },
  {
   "cell_type": "markdown",
   "id": "3390380d-fd89-4388-8696-cc982c8de3a8",
   "metadata": {},
   "source": [
    "`(1)` 적절한 학습률이 선택된다면, 경사하강법은 손실함수가 convex일때 언제나 전역최소해를 찾을 수 있다."
   ]
  },
  {
   "cell_type": "markdown",
   "id": "41badbe3-8b5e-4a0d-9476-2019548dbc22",
   "metadata": {},
   "source": [
    "~~`(2)` `tf.GradeintTape()`는 경사하강법을 이용하여 최적점을 찾아주는 tool이다.~~"
   ]
  },
  {
   "cell_type": "markdown",
   "id": "61234c86-bf76-45e9-b637-7b474773d1ef",
   "metadata": {},
   "source": [
    "`(3)` 학습률이 크다는 것은 파라메터는 1회 업데이트 하는 양이 크다는 것을 의미한다."
   ]
  },
  {
   "cell_type": "markdown",
   "id": "ab9ca388-a2d6-4500-8916-aad05bf2c90e",
   "metadata": {},
   "source": [
    "~~`(4)` 학습률이 크면 학습파라메터의 수렴속도가 빨라지지만 때때로 과적합에 빠질 수도 있다.~~"
   ]
  },
  {
   "cell_type": "markdown",
   "id": "3888f3ec-279c-47d2-b7bc-80ab21c20482",
   "metadata": {},
   "source": [
    "`(5)` 단순회귀분석에서 MSE loss를 최소화 하는 해는 경사하강법을 이용하지 않아도 해석적으로 구할 수 있다."
   ]
  }
 ],
 "metadata": {
  "kernelspec": {
   "display_name": "Python 3 (ipykernel)",
   "language": "python",
   "name": "python3"
  },
  "language_info": {
   "codemirror_mode": {
    "name": "ipython",
    "version": 3
   },
   "file_extension": ".py",
   "mimetype": "text/x-python",
   "name": "python",
   "nbconvert_exporter": "python",
   "pygments_lexer": "ipython3",
   "version": "3.10.0"
  }
 },
 "nbformat": 4,
 "nbformat_minor": 5
}
