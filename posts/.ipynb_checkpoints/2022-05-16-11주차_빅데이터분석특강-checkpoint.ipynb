{
 "cells": [
  {
   "cell_type": "markdown",
   "id": "fc953390-2b6b-4cd5-a7a2-599447134aae",
   "metadata": {},
   "source": [
    "# 11주차-5월 16일\n",
    "> 빅데이터분석특강\n",
    "\n",
    "- toc:false\n",
    "- branch: master\n",
    "- badges: true\n",
    "- comments: true\n",
    "- author: 심재인"
   ]
  },
  {
   "cell_type": "markdown",
   "id": "1ff613bc-5d2e-4b3b-8532-08989f82c99d",
   "metadata": {},
   "source": [
    "### imports"
   ]
  },
  {
   "cell_type": "code",
   "execution_count": 1,
   "id": "94544125-cc18-4568-810c-882da3512fde",
   "metadata": {},
   "outputs": [],
   "source": [
    "import tensorflow as tf \n",
    "import tensorflow.experimental.numpy as tnp \n",
    "import numpy as np \n",
    "import matplotlib.pyplot as plt"
   ]
  },
  {
   "cell_type": "code",
   "execution_count": 2,
   "id": "6895f9c3-7fc1-4a78-84db-3c3320809c14",
   "metadata": {},
   "outputs": [],
   "source": [
    "tnp.experimental_enable_numpy_behavior()"
   ]
  },
  {
   "cell_type": "code",
   "execution_count": 3,
   "id": "40015685-9cb9-46f0-a80c-70cf82d5e6b6",
   "metadata": {},
   "outputs": [],
   "source": [
    "(x_train, y_train), (x_test, y_test) = tf.keras.datasets.fashion_mnist.load_data()"
   ]
  },
  {
   "cell_type": "code",
   "execution_count": 64,
   "id": "7e5f4f10-9265-478d-9d54-43c4a84baa7d",
   "metadata": {},
   "outputs": [],
   "source": [
    "X = tf.constant(x_train.reshape(-1,28,28,1),dtype=tf.float64)\n",
    "y = tf.keras.utils.to_categorical(y_train)\n",
    "XX = tf.constant(x_test.reshape(-1,28,28,1),dtype=tf.float64)\n",
    "yy = tf.keras.utils.to_categorical(y_test)"
   ]
  },
  {
   "cell_type": "markdown",
   "id": "545de4cc-f00b-422f-a331-4c7e9f788a21",
   "metadata": {},
   "source": [
    "`-` 첫시도"
   ]
  },
  {
   "cell_type": "code",
   "execution_count": 5,
   "id": "d6acc6d5-ea91-4e98-8f06-46d8b0e437f4",
   "metadata": {},
   "outputs": [
    {
     "name": "stdout",
     "output_type": "stream",
     "text": [
      "Epoch 1/5\n",
      "1875/1875 [==============================] - 3s 2ms/step - loss: 1.0565 - accuracy: 0.7923\n",
      "Epoch 2/5\n",
      "1875/1875 [==============================] - 3s 1ms/step - loss: 0.4495 - accuracy: 0.8389\n",
      "Epoch 3/5\n",
      "1875/1875 [==============================] - 3s 2ms/step - loss: 0.4135 - accuracy: 0.8525\n",
      "Epoch 4/5\n",
      "1875/1875 [==============================] - 3s 2ms/step - loss: 0.4001 - accuracy: 0.8579\n",
      "Epoch 5/5\n",
      "1875/1875 [==============================] - 3s 2ms/step - loss: 0.3753 - accuracy: 0.8673\n"
     ]
    },
    {
     "data": {
      "text/plain": [
       "<keras.callbacks.History at 0x7f55d055a8c0>"
      ]
     },
     "execution_count": 5,
     "metadata": {},
     "output_type": "execute_result"
    }
   ],
   "source": [
    "net1 = tf.keras.Sequential()\n",
    "net1.add(tf.keras.layers.Flatten())\n",
    "net1.add(tf.keras.layers.Dense(500,activation='relu'))\n",
    "net1.add(tf.keras.layers.Dense(500,activation='relu'))\n",
    "net1.add(tf.keras.layers.Dense(500,activation='relu'))\n",
    "net1.add(tf.keras.layers.Dense(500,activation='relu'))\n",
    "net1.add(tf.keras.layers.Dense(10,activation='softmax'))\n",
    "net1.compile(optimizer='adam', loss=tf.losses.categorical_crossentropy,metrics='accuracy')\n",
    "net1.fit(X,y,epochs=5)"
   ]
  },
  {
   "cell_type": "code",
   "execution_count": 6,
   "id": "61f3b979-9227-4091-8fcd-eb0fe835972a",
   "metadata": {},
   "outputs": [
    {
     "name": "stdout",
     "output_type": "stream",
     "text": [
      "313/313 [==============================] - 1s 2ms/step - loss: 0.4420 - accuracy: 0.8570\n"
     ]
    },
    {
     "data": {
      "text/plain": [
       "[0.4419509172439575, 0.8569999933242798]"
      ]
     },
     "execution_count": 6,
     "metadata": {},
     "output_type": "execute_result"
    }
   ],
   "source": [
    "net1.evaluate(XX,yy)"
   ]
  },
  {
   "cell_type": "code",
   "execution_count": 7,
   "id": "0fc8df51-155d-4f19-888b-2e92d19d832f",
   "metadata": {},
   "outputs": [
    {
     "name": "stdout",
     "output_type": "stream",
     "text": [
      "Model: \"sequential\"\n",
      "_________________________________________________________________\n",
      " Layer (type)                Output Shape              Param #   \n",
      "=================================================================\n",
      " flatten (Flatten)           (None, 784)               0         \n",
      "                                                                 \n",
      " dense (Dense)               (None, 500)               392500    \n",
      "                                                                 \n",
      " dense_1 (Dense)             (None, 500)               250500    \n",
      "                                                                 \n",
      " dense_2 (Dense)             (None, 500)               250500    \n",
      "                                                                 \n",
      " dense_3 (Dense)             (None, 500)               250500    \n",
      "                                                                 \n",
      " dense_4 (Dense)             (None, 10)                5010      \n",
      "                                                                 \n",
      "=================================================================\n",
      "Total params: 1,149,010\n",
      "Trainable params: 1,149,010\n",
      "Non-trainable params: 0\n",
      "_________________________________________________________________\n"
     ]
    }
   ],
   "source": [
    "net1.summary()"
   ]
  },
  {
   "cell_type": "markdown",
   "id": "cf1c88fd-b620-456f-99b6-867319a57019",
   "metadata": {},
   "source": [
    "`-` 두번째 시도"
   ]
  },
  {
   "cell_type": "code",
   "execution_count": 8,
   "id": "0e4d5bb5-61c6-41c7-aa90-0ce6c59d58fe",
   "metadata": {},
   "outputs": [
    {
     "name": "stdout",
     "output_type": "stream",
     "text": [
      "Epoch 1/5\n",
      "1875/1875 [==============================] - 3s 1ms/step - loss: 0.7357 - accuracy: 0.8065\n",
      "Epoch 2/5\n",
      "1875/1875 [==============================] - 3s 2ms/step - loss: 0.3728 - accuracy: 0.8676\n",
      "Epoch 3/5\n",
      "1875/1875 [==============================] - 3s 2ms/step - loss: 0.3346 - accuracy: 0.8798\n",
      "Epoch 4/5\n",
      "1875/1875 [==============================] - 3s 1ms/step - loss: 0.3110 - accuracy: 0.8875\n",
      "Epoch 5/5\n",
      "1875/1875 [==============================] - 4s 2ms/step - loss: 0.2929 - accuracy: 0.8925\n"
     ]
    },
    {
     "data": {
      "text/plain": [
       "<keras.callbacks.History at 0x7f55d055be50>"
      ]
     },
     "execution_count": 8,
     "metadata": {},
     "output_type": "execute_result"
    }
   ],
   "source": [
    "net2 = tf.keras.Sequential()\n",
    "net2.add(tf.keras.layers.Conv2D(30,(2,2),activation='relu'))\n",
    "net2.add(tf.keras.layers.MaxPool2D()) \n",
    "net2.add(tf.keras.layers.Conv2D(30,(2,2),activation='relu'))\n",
    "net2.add(tf.keras.layers.MaxPool2D()) \n",
    "net2.add(tf.keras.layers.Flatten())\n",
    "#net2.add(tf.keras.layers.Dense(500,activation='relu'))\n",
    "net2.add(tf.keras.layers.Dense(10,activation='softmax'))\n",
    "net2.compile(optimizer='adam', loss=tf.losses.categorical_crossentropy,metrics='accuracy')\n",
    "net2.fit(X,y,epochs=5)"
   ]
  },
  {
   "cell_type": "code",
   "execution_count": 9,
   "id": "17b1e7e6-74f8-4677-aecc-464213b05ed0",
   "metadata": {},
   "outputs": [
    {
     "name": "stdout",
     "output_type": "stream",
     "text": [
      "313/313 [==============================] - 1s 1ms/step - loss: 0.3280 - accuracy: 0.8807\n"
     ]
    },
    {
     "data": {
      "text/plain": [
       "[0.32795271277427673, 0.8806999921798706]"
      ]
     },
     "execution_count": 9,
     "metadata": {},
     "output_type": "execute_result"
    }
   ],
   "source": [
    "net2.evaluate(XX,yy)"
   ]
  },
  {
   "cell_type": "code",
   "execution_count": 10,
   "id": "498a5518-91b8-4cb4-a024-cdcc501ba091",
   "metadata": {},
   "outputs": [
    {
     "name": "stdout",
     "output_type": "stream",
     "text": [
      "Model: \"sequential_1\"\n",
      "_________________________________________________________________\n",
      " Layer (type)                Output Shape              Param #   \n",
      "=================================================================\n",
      " conv2d (Conv2D)             (None, 27, 27, 30)        150       \n",
      "                                                                 \n",
      " max_pooling2d (MaxPooling2D  (None, 13, 13, 30)       0         \n",
      " )                                                               \n",
      "                                                                 \n",
      " conv2d_1 (Conv2D)           (None, 12, 12, 30)        3630      \n",
      "                                                                 \n",
      " max_pooling2d_1 (MaxPooling  (None, 6, 6, 30)         0         \n",
      " 2D)                                                             \n",
      "                                                                 \n",
      " flatten_1 (Flatten)         (None, 1080)              0         \n",
      "                                                                 \n",
      " dense_5 (Dense)             (None, 10)                10810     \n",
      "                                                                 \n",
      "=================================================================\n",
      "Total params: 14,590\n",
      "Trainable params: 14,590\n",
      "Non-trainable params: 0\n",
      "_________________________________________________________________\n"
     ]
    }
   ],
   "source": [
    "net2.summary()"
   ]
  },
  {
   "cell_type": "code",
   "execution_count": 11,
   "id": "a7a5c0db-7b23-4917-9119-a152a355fe31",
   "metadata": {},
   "outputs": [
    {
     "data": {
      "text/plain": [
       "0.012697887746842934"
      ]
     },
     "execution_count": 11,
     "metadata": {},
     "output_type": "execute_result"
    }
   ],
   "source": [
    "14590/ 1149010"
   ]
  },
  {
   "cell_type": "code",
   "execution_count": 12,
   "id": "8355ff4f-d8ef-4186-a531-a43f43ebec95",
   "metadata": {},
   "outputs": [],
   "source": [
    "c1, m1, c2, m2, flttn, dns = net2.layers"
   ]
  },
  {
   "cell_type": "markdown",
   "id": "7e772b07-fd1b-491b-8c1d-96877a88a1e9",
   "metadata": {},
   "source": [
    "### MaxPool2D"
   ]
  },
  {
   "cell_type": "markdown",
   "id": "116385b4-445b-4c4d-8bae-c8d037f96366",
   "metadata": {},
   "source": [
    "#### 테스트1"
   ]
  },
  {
   "cell_type": "markdown",
   "id": "7a28fc44-a944-470d-bbd6-c13caf07c6a6",
   "metadata": {},
   "source": [
    "`-` 레이어생성"
   ]
  },
  {
   "cell_type": "code",
   "execution_count": 13,
   "id": "0d5996fd-7152-4f19-9417-7cadf77178e8",
   "metadata": {},
   "outputs": [],
   "source": [
    "m=tf.keras.layers.MaxPool2D()"
   ]
  },
  {
   "cell_type": "markdown",
   "id": "3bad1d47-f68a-43f6-ba47-19ca5e9a72c2",
   "metadata": {},
   "source": [
    "`-` 입력데이터"
   ]
  },
  {
   "cell_type": "code",
   "execution_count": 14,
   "id": "b8d5c70c-2e32-44e6-b762-145d4c063725",
   "metadata": {},
   "outputs": [
    {
     "data": {
      "text/plain": [
       "<tf.Tensor: shape=(1, 4, 4), dtype=int64, numpy=\n",
       "array([[[ 0,  1,  2,  3],\n",
       "        [ 4,  5,  6,  7],\n",
       "        [ 8,  9, 10, 11],\n",
       "        [12, 13, 14, 15]]])>"
      ]
     },
     "execution_count": 14,
     "metadata": {},
     "output_type": "execute_result"
    }
   ],
   "source": [
    "XXX = tnp.arange(1*4*4*1).reshape(1,4,4,1)\n",
    "XXX.reshape(1,4,4)"
   ]
  },
  {
   "cell_type": "markdown",
   "id": "6a6c22a2-5e62-45b8-b0f2-366d18c71ebc",
   "metadata": {},
   "source": [
    "`-` 입력데이터가 레이어를 통과한 모습"
   ]
  },
  {
   "cell_type": "code",
   "execution_count": 15,
   "id": "1d0c554b-11bc-4259-9846-5350d384aac5",
   "metadata": {},
   "outputs": [
    {
     "data": {
      "text/plain": [
       "<tf.Tensor: shape=(1, 2, 2), dtype=int64, numpy=\n",
       "array([[[ 5,  7],\n",
       "        [13, 15]]])>"
      ]
     },
     "execution_count": 15,
     "metadata": {},
     "output_type": "execute_result"
    }
   ],
   "source": [
    "m(XXX).reshape(1,2,2)"
   ]
  },
  {
   "cell_type": "markdown",
   "id": "f2df30f3-258c-4a71-81dd-d49243371ae7",
   "metadata": {},
   "source": [
    "`-` MaxPool2D layer의 역할: (2,2)윈도우를 만들고 (2,2)윈도우에서 max를 뽑아 값을 기록, 윈도우를 움직이면서 반복"
   ]
  },
  {
   "cell_type": "markdown",
   "id": "dd9e274a-bfc6-49c7-ab6d-2a40c79ceb39",
   "metadata": {},
   "source": [
    "#### 테스트2"
   ]
  },
  {
   "cell_type": "code",
   "execution_count": 16,
   "id": "b084daac-1ede-4086-9eff-23bfd7df86e4",
   "metadata": {},
   "outputs": [
    {
     "data": {
      "text/plain": [
       "<tf.Tensor: shape=(1, 6, 6), dtype=int64, numpy=\n",
       "array([[[ 0,  1,  2,  3,  4,  5],\n",
       "        [ 6,  7,  8,  9, 10, 11],\n",
       "        [12, 13, 14, 15, 16, 17],\n",
       "        [18, 19, 20, 21, 22, 23],\n",
       "        [24, 25, 26, 27, 28, 29],\n",
       "        [30, 31, 32, 33, 34, 35]]])>"
      ]
     },
     "execution_count": 16,
     "metadata": {},
     "output_type": "execute_result"
    }
   ],
   "source": [
    "XXX = tnp.arange(1*6*6*1).reshape(1,6,6,1)\n",
    "XXX.reshape(1,6,6)"
   ]
  },
  {
   "cell_type": "code",
   "execution_count": 17,
   "id": "9f417928-883a-4c81-be94-669e5a450610",
   "metadata": {},
   "outputs": [
    {
     "data": {
      "text/plain": [
       "<tf.Tensor: shape=(1, 3, 3), dtype=int64, numpy=\n",
       "array([[[ 7,  9, 11],\n",
       "        [19, 21, 23],\n",
       "        [31, 33, 35]]])>"
      ]
     },
     "execution_count": 17,
     "metadata": {},
     "output_type": "execute_result"
    }
   ],
   "source": [
    "m(XXX).reshape(1,3,3)"
   ]
  },
  {
   "cell_type": "markdown",
   "id": "30e8123a-c055-4c0a-9983-8b37b633d1be",
   "metadata": {},
   "source": [
    "#### 테스트3"
   ]
  },
  {
   "cell_type": "code",
   "execution_count": 18,
   "id": "84ac3bf4-d084-4c06-85dd-61f3aceef53c",
   "metadata": {},
   "outputs": [],
   "source": [
    "m=tf.keras.layers.MaxPool2D(pool_size=(3, 3))"
   ]
  },
  {
   "cell_type": "code",
   "execution_count": 19,
   "id": "61028f5d-acab-439f-a60e-78e99be92937",
   "metadata": {},
   "outputs": [
    {
     "data": {
      "text/plain": [
       "<tf.Tensor: shape=(1, 6, 6), dtype=int64, numpy=\n",
       "array([[[ 0,  1,  2,  3,  4,  5],\n",
       "        [ 6,  7,  8,  9, 10, 11],\n",
       "        [12, 13, 14, 15, 16, 17],\n",
       "        [18, 19, 20, 21, 22, 23],\n",
       "        [24, 25, 26, 27, 28, 29],\n",
       "        [30, 31, 32, 33, 34, 35]]])>"
      ]
     },
     "execution_count": 19,
     "metadata": {},
     "output_type": "execute_result"
    }
   ],
   "source": [
    "XXX = tnp.arange(1*6*6*1).reshape(1,6,6,1)\n",
    "XXX.reshape(1,6,6)"
   ]
  },
  {
   "cell_type": "code",
   "execution_count": 20,
   "id": "77532cf5-8e77-4bbe-b288-a133e145ed67",
   "metadata": {},
   "outputs": [
    {
     "data": {
      "text/plain": [
       "<tf.Tensor: shape=(1, 2, 2), dtype=int64, numpy=\n",
       "array([[[14, 17],\n",
       "        [32, 35]]])>"
      ]
     },
     "execution_count": 20,
     "metadata": {},
     "output_type": "execute_result"
    }
   ],
   "source": [
    "m(XXX).reshape(1,2,2)"
   ]
  },
  {
   "cell_type": "markdown",
   "id": "8fc2a8d9-d8e6-41cd-b7ac-6cc72aaf1d0d",
   "metadata": {},
   "source": [
    "#### 테스트4"
   ]
  },
  {
   "cell_type": "code",
   "execution_count": 21,
   "id": "75d024b6-c22c-44c5-9a74-70b70fa6bba1",
   "metadata": {},
   "outputs": [],
   "source": [
    "m=tf.keras.layers.MaxPool2D(pool_size=(2, 2))"
   ]
  },
  {
   "cell_type": "code",
   "execution_count": 22,
   "id": "ac0695bb-acce-4bf9-870e-583241d0339b",
   "metadata": {},
   "outputs": [
    {
     "data": {
      "text/plain": [
       "<tf.Tensor: shape=(1, 5, 5), dtype=int64, numpy=\n",
       "array([[[ 0,  1,  2,  3,  4],\n",
       "        [ 5,  6,  7,  8,  9],\n",
       "        [10, 11, 12, 13, 14],\n",
       "        [15, 16, 17, 18, 19],\n",
       "        [20, 21, 22, 23, 24]]])>"
      ]
     },
     "execution_count": 22,
     "metadata": {},
     "output_type": "execute_result"
    }
   ],
   "source": [
    "XXX = tnp.arange(1*5*5*1).reshape(1,5,5,1)\n",
    "XXX.reshape(1,5,5)"
   ]
  },
  {
   "cell_type": "code",
   "execution_count": 23,
   "id": "1db40b1f-e392-4691-9fa2-44d8593d5727",
   "metadata": {},
   "outputs": [
    {
     "data": {
      "text/plain": [
       "<tf.Tensor: shape=(1, 2, 2), dtype=int64, numpy=\n",
       "array([[[ 6,  8],\n",
       "        [16, 18]]])>"
      ]
     },
     "execution_count": 23,
     "metadata": {},
     "output_type": "execute_result"
    }
   ],
   "source": [
    "m(XXX).reshape(1,2,2)"
   ]
  },
  {
   "cell_type": "code",
   "execution_count": 24,
   "id": "24f2c154-46c8-4b3c-9642-8ac54aad7ca1",
   "metadata": {},
   "outputs": [],
   "source": [
    "m=tf.keras.layers.MaxPool2D(pool_size=(2, 2),padding=\"same\")"
   ]
  },
  {
   "cell_type": "code",
   "execution_count": 25,
   "id": "31d212a2-176f-4314-b297-74141e77f467",
   "metadata": {},
   "outputs": [
    {
     "data": {
      "text/plain": [
       "<tf.Tensor: shape=(1, 5, 5), dtype=int64, numpy=\n",
       "array([[[ 0,  1,  2,  3,  4],\n",
       "        [ 5,  6,  7,  8,  9],\n",
       "        [10, 11, 12, 13, 14],\n",
       "        [15, 16, 17, 18, 19],\n",
       "        [20, 21, 22, 23, 24]]])>"
      ]
     },
     "execution_count": 25,
     "metadata": {},
     "output_type": "execute_result"
    }
   ],
   "source": [
    "XXX = tnp.arange(1*5*5*1).reshape(1,5,5,1)\n",
    "XXX.reshape(1,5,5)"
   ]
  },
  {
   "cell_type": "code",
   "execution_count": 26,
   "id": "c4925a00-d1f1-4f8c-a551-9beeb4e6d96d",
   "metadata": {},
   "outputs": [
    {
     "data": {
      "text/plain": [
       "<tf.Tensor: shape=(1, 3, 3), dtype=int64, numpy=\n",
       "array([[[ 6,  8,  9],\n",
       "        [16, 18, 19],\n",
       "        [21, 23, 24]]])>"
      ]
     },
     "execution_count": 26,
     "metadata": {},
     "output_type": "execute_result"
    }
   ],
   "source": [
    "m(XXX).reshape(1,3,3)"
   ]
  },
  {
   "cell_type": "markdown",
   "id": "327d9508-e35d-4632-92a6-879642248d3e",
   "metadata": {},
   "source": [
    "#### 테스트5"
   ]
  },
  {
   "cell_type": "code",
   "execution_count": 27,
   "id": "e525b12b-1607-4382-84bf-33520ae93bc0",
   "metadata": {},
   "outputs": [
    {
     "data": {
      "text/plain": [
       "<tf.Tensor: shape=(2, 4, 4), dtype=int64, numpy=\n",
       "array([[[ 0,  1,  2,  3],\n",
       "        [ 4,  5,  6,  7],\n",
       "        [ 8,  9, 10, 11],\n",
       "        [12, 13, 14, 15]],\n",
       "\n",
       "       [[16, 17, 18, 19],\n",
       "        [20, 21, 22, 23],\n",
       "        [24, 25, 26, 27],\n",
       "        [28, 29, 30, 31]]])>"
      ]
     },
     "execution_count": 27,
     "metadata": {},
     "output_type": "execute_result"
    }
   ],
   "source": [
    "XXX = tnp.arange(2*4*4*1).reshape(2,4,4,1)\n",
    "XXX.reshape(2,4,4)"
   ]
  },
  {
   "cell_type": "code",
   "execution_count": 28,
   "id": "5c229bbc-4801-4634-a860-02935fd1af8f",
   "metadata": {},
   "outputs": [
    {
     "data": {
      "text/plain": [
       "<tf.Tensor: shape=(2, 2, 2), dtype=int64, numpy=\n",
       "array([[[ 5,  7],\n",
       "        [13, 15]],\n",
       "\n",
       "       [[21, 23],\n",
       "        [29, 31]]])>"
      ]
     },
     "execution_count": 28,
     "metadata": {},
     "output_type": "execute_result"
    }
   ],
   "source": [
    "m(XXX).reshape(2,2,2)"
   ]
  },
  {
   "cell_type": "markdown",
   "id": "29c0b7bd-f7ae-48f4-b767-7fdfe9a3af96",
   "metadata": {},
   "source": [
    "#### 테스트6"
   ]
  },
  {
   "cell_type": "code",
   "execution_count": 29,
   "id": "78fae1c9-d7d6-4f59-8962-d56bdec0366f",
   "metadata": {},
   "outputs": [],
   "source": [
    "XXX = tnp.arange(1*4*4*3).reshape(1,4,4,3)"
   ]
  },
  {
   "cell_type": "code",
   "execution_count": 30,
   "id": "98502cac-9fb0-4186-a231-ee7a82e49a4f",
   "metadata": {},
   "outputs": [
    {
     "data": {
      "text/plain": [
       "<tf.Tensor: shape=(1, 4, 4), dtype=int64, numpy=\n",
       "array([[[ 0,  3,  6,  9],\n",
       "        [12, 15, 18, 21],\n",
       "        [24, 27, 30, 33],\n",
       "        [36, 39, 42, 45]]])>"
      ]
     },
     "execution_count": 30,
     "metadata": {},
     "output_type": "execute_result"
    }
   ],
   "source": [
    "XXX[...,0]"
   ]
  },
  {
   "cell_type": "code",
   "execution_count": 31,
   "id": "55fb65d0-9e45-4fbd-aae2-f73623981761",
   "metadata": {},
   "outputs": [
    {
     "data": {
      "text/plain": [
       "<tf.Tensor: shape=(1, 2, 2), dtype=int64, numpy=\n",
       "array([[[15, 21],\n",
       "        [39, 45]]])>"
      ]
     },
     "execution_count": 31,
     "metadata": {},
     "output_type": "execute_result"
    }
   ],
   "source": [
    "m(XXX)[...,0]"
   ]
  },
  {
   "cell_type": "markdown",
   "id": "207ab65b-16be-401e-8b7e-7974577dac47",
   "metadata": {},
   "source": [
    "### Conv2D"
   ]
  },
  {
   "cell_type": "markdown",
   "id": "b01d073a-a159-4b99-84ee-d04647175468",
   "metadata": {},
   "source": [
    "#### 테스트1"
   ]
  },
  {
   "cell_type": "markdown",
   "id": "91b09df0-d691-4c86-842a-cb3ac3570708",
   "metadata": {},
   "source": [
    "`-` 레이어생성"
   ]
  },
  {
   "cell_type": "code",
   "execution_count": 32,
   "id": "c2bae386-252e-4b5d-b893-21c0d6800c09",
   "metadata": {},
   "outputs": [],
   "source": [
    "cnv = tf.keras.layers.Conv2D(1,(2,2))"
   ]
  },
  {
   "cell_type": "markdown",
   "id": "1b0aed4f-3544-4a3d-9804-5c0159a368be",
   "metadata": {},
   "source": [
    "`-` XXX생성"
   ]
  },
  {
   "cell_type": "code",
   "execution_count": 33,
   "id": "ad691e58-0841-4f3e-a187-b9360cc2cd8b",
   "metadata": {},
   "outputs": [
    {
     "data": {
      "text/plain": [
       "<tf.Tensor: shape=(1, 4, 4), dtype=float64, numpy=\n",
       "array([[[ 0.,  1.,  2.,  3.],\n",
       "        [ 4.,  5.,  6.,  7.],\n",
       "        [ 8.,  9., 10., 11.],\n",
       "        [12., 13., 14., 15.]]])>"
      ]
     },
     "execution_count": 33,
     "metadata": {},
     "output_type": "execute_result"
    }
   ],
   "source": [
    "XXX = tnp.arange(1*4*4*1,dtype=tf.float64).reshape(1,4,4,1)\n",
    "XXX.reshape(1,4,4)"
   ]
  },
  {
   "cell_type": "code",
   "execution_count": 34,
   "id": "02a797c3-5388-4b41-9c6e-18a23d18e5af",
   "metadata": {},
   "outputs": [
    {
     "data": {
      "text/plain": [
       "<tf.Tensor: shape=(1, 3, 3), dtype=float32, numpy=\n",
       "array([[[-2.8128474, -3.2847993, -3.756751 ],\n",
       "        [-4.7006545, -5.172607 , -5.6445584],\n",
       "        [-6.588462 , -7.060414 , -7.532366 ]]], dtype=float32)>"
      ]
     },
     "execution_count": 34,
     "metadata": {},
     "output_type": "execute_result"
    }
   ],
   "source": [
    "cnv(XXX).reshape(1,3,3)"
   ]
  },
  {
   "cell_type": "markdown",
   "id": "f007f04f-f6ee-4b3c-8633-c2aedf94908b",
   "metadata": {},
   "source": [
    "- XXX에서 cnv(XXX)로 가는 맵핑을 찾는건 쉽지 않아보인다. \n",
    "- 심지어 랜덤으로 결정되는 부분도 있어보임 "
   ]
  },
  {
   "cell_type": "markdown",
   "id": "4e71ba0f-da2c-418d-b119-2e0b48bada78",
   "metadata": {},
   "source": [
    "`-` 코드정리 + 시드통일"
   ]
  },
  {
   "cell_type": "code",
   "execution_count": 35,
   "id": "18b1eb4d-7d2e-4b68-8ea6-fe01f6b6660a",
   "metadata": {},
   "outputs": [],
   "source": [
    "tf.random.set_seed(43052)\n",
    "cnv = tf.keras.layers.Conv2D(1,(2,2))\n",
    "XXX = tnp.arange(1*4*4*1,dtype=tf.float64).reshape(1,4,4,1)"
   ]
  },
  {
   "cell_type": "markdown",
   "id": "150ad8da-4f51-4054-b040-4785f3e23137",
   "metadata": {},
   "source": [
    "`-` conv의 입출력"
   ]
  },
  {
   "cell_type": "code",
   "execution_count": 36,
   "id": "4d952489-129f-467d-a375-6a2157c91d64",
   "metadata": {},
   "outputs": [
    {
     "name": "stdout",
     "output_type": "stream",
     "text": [
      "tf.Tensor(\n",
      "[[[ 0.  1.  2.  3.]\n",
      "  [ 4.  5.  6.  7.]\n",
      "  [ 8.  9. 10. 11.]\n",
      "  [12. 13. 14. 15.]]], shape=(1, 4, 4), dtype=float64)\n",
      "tf.Tensor(\n",
      "[[[ -4.125754   -5.312817   -6.4998803]\n",
      "  [ -8.874006  -10.0610695 -11.248133 ]\n",
      "  [-13.622259  -14.809322  -15.996386 ]]], shape=(1, 3, 3), dtype=float32)\n"
     ]
    }
   ],
   "source": [
    "print(XXX.reshape(1,4,4))\n",
    "print(cnv(XXX).reshape(1,3,3))"
   ]
  },
  {
   "cell_type": "markdown",
   "id": "95153853-ef9a-42c1-a11e-81bf9caf26f3",
   "metadata": {},
   "source": [
    "`-` conv연산 추론"
   ]
  },
  {
   "cell_type": "code",
   "execution_count": 37,
   "id": "8905c1e0-e918-4877-b058-117adaae4d18",
   "metadata": {},
   "outputs": [
    {
     "data": {
      "text/plain": [
       "<tf.Tensor: shape=(2, 2), dtype=float32, numpy=\n",
       "array([[-0.13014299, -0.23927206],\n",
       "       [-0.20175874, -0.6158894 ]], dtype=float32)>"
      ]
     },
     "execution_count": 37,
     "metadata": {},
     "output_type": "execute_result"
    }
   ],
   "source": [
    "tf.reshape(cnv.weights[0],(2,2))"
   ]
  },
  {
   "cell_type": "code",
   "execution_count": 38,
   "id": "af3c91e6-02db-43b1-969c-0b1109db2aa0",
   "metadata": {},
   "outputs": [
    {
     "data": {
      "text/plain": [
       "-4.1257540200000005"
      ]
     },
     "execution_count": 38,
     "metadata": {},
     "output_type": "execute_result"
    }
   ],
   "source": [
    "0 * -0.13014299 + 1 * -0.23927206 + 4 * -0.20175874 + 5 * -0.6158894 + 0"
   ]
  },
  {
   "cell_type": "markdown",
   "id": "9032f240-de41-4150-aaf8-b8dfc528a507",
   "metadata": {},
   "source": [
    "`-` 내가 정의한 weights를 대입하여 conv 연산 확인"
   ]
  },
  {
   "cell_type": "code",
   "execution_count": 39,
   "id": "bd86dcaf-3086-46c1-bd8f-ce2f5b556fdc",
   "metadata": {},
   "outputs": [
    {
     "data": {
      "text/plain": [
       "(2, 2, 1, 1)"
      ]
     },
     "execution_count": 39,
     "metadata": {},
     "output_type": "execute_result"
    }
   ],
   "source": [
    "cnv.get_weights()[0].shape"
   ]
  },
  {
   "cell_type": "code",
   "execution_count": 40,
   "id": "98e43870-625c-4bf1-a712-779ca6223390",
   "metadata": {},
   "outputs": [],
   "source": [
    "w = np.array([1/4,1/4,1/4,1/4],dtype=np.float32).reshape(2, 2, 1, 1)\n",
    "b = np.array([3],dtype=np.float32)"
   ]
  },
  {
   "cell_type": "code",
   "execution_count": 41,
   "id": "dc85d42f-4a9e-44a7-ba19-aed14e877961",
   "metadata": {},
   "outputs": [],
   "source": [
    "cnv.set_weights([w,b])"
   ]
  },
  {
   "cell_type": "code",
   "execution_count": 42,
   "id": "7d439a59-4323-49ec-b9d0-c49442656f5b",
   "metadata": {},
   "outputs": [
    {
     "data": {
      "text/plain": [
       "<tf.Tensor: shape=(1, 4, 4), dtype=float64, numpy=\n",
       "array([[[ 0.,  1.,  2.,  3.],\n",
       "        [ 4.,  5.,  6.,  7.],\n",
       "        [ 8.,  9., 10., 11.],\n",
       "        [12., 13., 14., 15.]]])>"
      ]
     },
     "execution_count": 42,
     "metadata": {},
     "output_type": "execute_result"
    }
   ],
   "source": [
    "XXX.reshape(1,4,4)"
   ]
  },
  {
   "cell_type": "code",
   "execution_count": 43,
   "id": "1358b833-aff3-4c55-9d66-f29e2be547b9",
   "metadata": {},
   "outputs": [
    {
     "data": {
      "text/plain": [
       "<tf.Tensor: shape=(1, 3, 3), dtype=float32, numpy=\n",
       "array([[[ 5.5,  6.5,  7.5],\n",
       "        [ 9.5, 10.5, 11.5],\n",
       "        [13.5, 14.5, 15.5]]], dtype=float32)>"
      ]
     },
     "execution_count": 43,
     "metadata": {},
     "output_type": "execute_result"
    }
   ],
   "source": [
    "cnv(XXX).reshape(1,3,3)"
   ]
  },
  {
   "cell_type": "code",
   "execution_count": 44,
   "id": "418fcfaf-d79e-4608-a289-927856d208a4",
   "metadata": {},
   "outputs": [
    {
     "data": {
      "text/plain": [
       "(5.5, 6.5, 7.5)"
      ]
     },
     "execution_count": 44,
     "metadata": {},
     "output_type": "execute_result"
    }
   ],
   "source": [
    "np.mean([0,1,4,5])+3, np.mean([1,2,5,6])+3, np.mean([2,3,6,7])+3"
   ]
  },
  {
   "cell_type": "markdown",
   "id": "edf8730b-eeb9-4322-bef8-6590913eaf59",
   "metadata": {},
   "source": [
    "#### tf.keras.layers.Conv2D(1,kernel_size=(2,2)) 요약"
   ]
  },
  {
   "cell_type": "markdown",
   "id": "d5395539-ac42-4b45-b257-9c00d7f6ed70",
   "metadata": {},
   "source": [
    "`-` 요약"
   ]
  },
  {
   "cell_type": "markdown",
   "id": "9d41b850-7df1-4c23-b6af-e521f1bdbf0f",
   "metadata": {},
   "source": [
    "(1) size=(2,2)인 윈도우를 만듬. \n",
    "\n",
    "(2) XXX에 윈도우를 통과시켜서 (2,2)크기의 sub XXX 를 얻음. sub XXX의 각 원소에 conv2d.weights[0]의 각 원소를 element-wise하게 곱한다. \n",
    "\n",
    "(3) (2)의 결과를 모두 더한다. 그리고 그 결과에 다시 conv2d.weights[1]을 수행 \n",
    "\n",
    "(4) 윈도우를 이동시키면서 반복!"
   ]
  },
  {
   "cell_type": "markdown",
   "id": "755bd3b9-cf8b-4320-b68b-aeb1b9dcfc13",
   "metadata": {},
   "source": [
    "#### 테스트2"
   ]
  },
  {
   "cell_type": "markdown",
   "id": "9faff551-3573-4315-a07f-af050f43fdd6",
   "metadata": {},
   "source": [
    "`-` 레이어와 XXX생성"
   ]
  },
  {
   "cell_type": "code",
   "execution_count": 48,
   "id": "b0d85707-556a-4d3d-9203-75010d3998da",
   "metadata": {},
   "outputs": [],
   "source": [
    "tf.random.set_seed(43052)\n",
    "cnv = tf.keras.layers.Conv2D(1,(3,3))\n",
    "XXX = tnp.arange(1*5*5*1,dtype=tf.float64).reshape(1,5,5,1)"
   ]
  },
  {
   "cell_type": "code",
   "execution_count": 49,
   "id": "28fc49b4-6301-4056-a558-e80249ee3c3a",
   "metadata": {},
   "outputs": [
    {
     "data": {
      "text/plain": [
       "<tf.Tensor: shape=(1, 5, 5), dtype=float64, numpy=\n",
       "array([[[ 0.,  1.,  2.,  3.,  4.],\n",
       "        [ 5.,  6.,  7.,  8.,  9.],\n",
       "        [10., 11., 12., 13., 14.],\n",
       "        [15., 16., 17., 18., 19.],\n",
       "        [20., 21., 22., 23., 24.]]])>"
      ]
     },
     "execution_count": 49,
     "metadata": {},
     "output_type": "execute_result"
    }
   ],
   "source": [
    "XXX.reshape(1,5,5) ## 입력: XXX"
   ]
  },
  {
   "cell_type": "code",
   "execution_count": 52,
   "id": "05e77796-0838-4f91-9750-5d780217dd8f",
   "metadata": {},
   "outputs": [
    {
     "data": {
      "text/plain": [
       "<tf.Tensor: shape=(3, 3), dtype=float32, numpy=\n",
       "array([[-0.08676198, -0.1595147 , -0.13450584],\n",
       "       [-0.4105929 , -0.38366908,  0.07744962],\n",
       "       [-0.09255642,  0.4915564 ,  0.20828158]], dtype=float32)>"
      ]
     },
     "execution_count": 52,
     "metadata": {},
     "output_type": "execute_result"
    }
   ],
   "source": [
    "tf.reshape(cnv.weights[0],(3,3)) ## 커널의 가중치"
   ]
  },
  {
   "cell_type": "code",
   "execution_count": 53,
   "id": "29d957bd-6e1f-4aea-b823-b5eb3a2a186b",
   "metadata": {},
   "outputs": [
    {
     "data": {
      "text/plain": [
       "<tf.Tensor: shape=(1, 3, 3), dtype=float32, numpy=\n",
       "array([[[ 2.7395768 ,  2.2492635 ,  1.7589504 ],\n",
       "        [ 0.28801066, -0.20230258, -0.6926158 ],\n",
       "        [-2.1635566 , -2.6538715 , -3.1441827 ]]], dtype=float32)>"
      ]
     },
     "execution_count": 53,
     "metadata": {},
     "output_type": "execute_result"
    }
   ],
   "source": [
    "cnv(XXX).reshape(1,3,3) ## 출력: conv(XXX)"
   ]
  },
  {
   "cell_type": "code",
   "execution_count": 54,
   "id": "79da09e3-3bc1-4579-a26a-f0786963d744",
   "metadata": {},
   "outputs": [
    {
     "data": {
      "text/plain": [
       "<tf.Tensor: shape=(), dtype=float64, numpy=2.739577144384384>"
      ]
     },
     "execution_count": 54,
     "metadata": {},
     "output_type": "execute_result"
    }
   ],
   "source": [
    "tf.reduce_sum(XXX.reshape(1,5,5)[0,:3,:3] * tf.reshape(cnv.weights[0],(3,3)))"
   ]
  },
  {
   "cell_type": "markdown",
   "id": "e4318d98-14c6-4822-ac55-f3b238486dc2",
   "metadata": {},
   "source": [
    "#### 테스트3"
   ]
  },
  {
   "cell_type": "code",
   "execution_count": 55,
   "id": "c86104d0-759d-4c86-b1da-d01566939255",
   "metadata": {},
   "outputs": [
    {
     "name": "stdout",
     "output_type": "stream",
     "text": [
      "/bin/bash: -c: line 0: syntax error near unexpected token `https://github.com/guebin/2021BDA/blob/master/_notebooks/2021-11-04-conv.png?raw=true'\n",
      "/bin/bash: -c: line 0: `[](https://github.com/guebin/2021BDA/blob/master/_notebooks/2021-11-04-conv.png?raw=true)'\n"
     ]
    }
   ],
   "source": [
    "![](https://github.com/guebin/2021BDA/blob/master/_notebooks/2021-11-04-conv.png?raw=true)"
   ]
  },
  {
   "cell_type": "code",
   "execution_count": 56,
   "id": "3203bb89-f725-4c93-bc4a-cd0804370d4f",
   "metadata": {},
   "outputs": [
    {
     "data": {
      "text/plain": [
       "<tf.Tensor: shape=(1, 5, 5), dtype=float64, numpy=\n",
       "array([[[3., 3., 2., 1., 0.],\n",
       "        [0., 0., 1., 3., 1.],\n",
       "        [3., 1., 2., 2., 3.],\n",
       "        [2., 0., 0., 2., 2.],\n",
       "        [2., 0., 0., 0., 1.]]])>"
      ]
     },
     "execution_count": 56,
     "metadata": {},
     "output_type": "execute_result"
    }
   ],
   "source": [
    "XXX = tf.constant([[3,3,2,1,0],[0,0,1,3,1],[3,1,2,2,3],[2,0,0,2,2],[2,0,0,0,1]],dtype=tf.float64).reshape(1,5,5,1)\n",
    "XXX.reshape(1,5,5)"
   ]
  },
  {
   "cell_type": "code",
   "execution_count": 57,
   "id": "5fca8e62-aea4-4245-b7c5-9e7e84c7f591",
   "metadata": {},
   "outputs": [],
   "source": [
    "cnv = tf.keras.layers.Conv2D(1,(3,3))"
   ]
  },
  {
   "cell_type": "code",
   "execution_count": 58,
   "id": "2c493f73-ada9-4beb-a5bb-67a05b866954",
   "metadata": {},
   "outputs": [
    {
     "data": {
      "text/plain": [
       "[]"
      ]
     },
     "execution_count": 58,
     "metadata": {},
     "output_type": "execute_result"
    }
   ],
   "source": [
    "cnv.weights"
   ]
  },
  {
   "cell_type": "code",
   "execution_count": 59,
   "id": "79067e2c-e82f-4d11-8f3e-f0ea37af1678",
   "metadata": {},
   "outputs": [
    {
     "data": {
      "text/plain": [
       "<tf.Tensor: shape=(1, 3, 3), dtype=float32, numpy=\n",
       "array([[[-0.6065799 , -0.69143724, -1.1179221 ],\n",
       "        [ 2.2352955 ,  1.5314975 ,  1.8658445 ],\n",
       "        [ 0.7364182 ,  1.4419123 ,  1.2381717 ]]], dtype=float32)>"
      ]
     },
     "execution_count": 59,
     "metadata": {},
     "output_type": "execute_result"
    }
   ],
   "source": [
    "cnv(XXX).reshape(1,3,3)"
   ]
  },
  {
   "cell_type": "code",
   "execution_count": 60,
   "id": "19d3855d-f2bc-4f51-9947-b9fddff416ca",
   "metadata": {},
   "outputs": [
    {
     "data": {
      "text/plain": [
       "<tf.Variable 'conv2d_6/kernel:0' shape=(3, 3, 1, 1) dtype=float32, numpy=\n",
       "array([[[[-0.3444655 ]],\n",
       "\n",
       "        [[ 0.4521824 ]],\n",
       "\n",
       "        [[ 0.236296  ]]],\n",
       "\n",
       "\n",
       "       [[[ 0.54707503]],\n",
       "\n",
       "        [[ 0.19746327]],\n",
       "\n",
       "        [[ 0.20471048]]],\n",
       "\n",
       "\n",
       "       [[[-0.1245549 ]],\n",
       "\n",
       "        [[-0.25237298]],\n",
       "\n",
       "        [[-0.4904977 ]]]], dtype=float32)>"
      ]
     },
     "execution_count": 60,
     "metadata": {},
     "output_type": "execute_result"
    }
   ],
   "source": [
    "cnv.weights[0]"
   ]
  },
  {
   "cell_type": "code",
   "execution_count": 61,
   "id": "e64b8bed-2537-48e1-98b4-9eb7517c3f9e",
   "metadata": {},
   "outputs": [],
   "source": [
    "_w = tf.constant([[0,1,2],[2,2,0],[0,1,2]],dtype=tf.float64).reshape(3,3,1,1)\n",
    "_b = tf.constant([0],dtype=tf.float64)"
   ]
  },
  {
   "cell_type": "code",
   "execution_count": 62,
   "id": "901ea4ef-dbfb-48a8-accc-b4d1070a27c2",
   "metadata": {},
   "outputs": [],
   "source": [
    "cnv.set_weights([_w,_b])"
   ]
  },
  {
   "cell_type": "code",
   "execution_count": 63,
   "id": "6d2ee8e1-c66e-4197-8a38-01f285ab36ba",
   "metadata": {},
   "outputs": [
    {
     "data": {
      "text/plain": [
       "<tf.Tensor: shape=(1, 3, 3), dtype=float32, numpy=\n",
       "array([[[12., 12., 17.],\n",
       "        [10., 17., 19.],\n",
       "        [ 9.,  6., 14.]]], dtype=float32)>"
      ]
     },
     "execution_count": 63,
     "metadata": {},
     "output_type": "execute_result"
    }
   ],
   "source": [
    "cnv(XXX).reshape(1,3,3)"
   ]
  },
  {
   "cell_type": "markdown",
   "id": "ecc84423-c40c-4f3a-9530-deecf86f7098",
   "metadata": {},
   "source": [
    "#### 테스트4"
   ]
  },
  {
   "cell_type": "code",
   "execution_count": 65,
   "id": "3721e51b-0383-40d8-9a95-e4d249a6d778",
   "metadata": {},
   "outputs": [],
   "source": [
    "tf.random.set_seed(43052)\n",
    "cnv = tf.keras.layers.Conv2D(1,(2,2))\n",
    "XXX = tnp.arange(2*5*5*1,dtype=tf.float64).reshape(2,5,5,1)"
   ]
  },
  {
   "cell_type": "code",
   "execution_count": 66,
   "id": "3a948566-a23c-44b7-9d9d-5a4b434a6654",
   "metadata": {},
   "outputs": [
    {
     "name": "stdout",
     "output_type": "stream",
     "text": [
      "tf.Tensor(\n",
      "[[[ 0.  1.  2.  3.  4.]\n",
      "  [ 5.  6.  7.  8.  9.]\n",
      "  [10. 11. 12. 13. 14.]\n",
      "  [15. 16. 17. 18. 19.]\n",
      "  [20. 21. 22. 23. 24.]]\n",
      "\n",
      " [[25. 26. 27. 28. 29.]\n",
      "  [30. 31. 32. 33. 34.]\n",
      "  [35. 36. 37. 38. 39.]\n",
      "  [40. 41. 42. 43. 44.]\n",
      "  [45. 46. 47. 48. 49.]]], shape=(2, 5, 5), dtype=float64)\n",
      "tf.Tensor(\n",
      "[[[ 6.  7.  8.  9.]\n",
      "  [11. 12. 13. 14.]\n",
      "  [16. 17. 18. 19.]\n",
      "  [21. 22. 23. 24.]]\n",
      "\n",
      " [[31. 32. 33. 34.]\n",
      "  [36. 37. 38. 39.]\n",
      "  [41. 42. 43. 44.]\n",
      "  [46. 47. 48. 49.]]], shape=(2, 4, 4), dtype=float32)\n"
     ]
    }
   ],
   "source": [
    "print(XXX.reshape(2,5,5))\n",
    "cnv(XXX) # weights를 초기화 시키기 위해서 레이어를 1회 통과 \n",
    "cnv.set_weights([w,b])\n",
    "print(cnv(XXX).reshape(2,4,4))"
   ]
  },
  {
   "cell_type": "code",
   "execution_count": 67,
   "id": "420535de-ffd0-4abb-8864-4bd1e4ced94a",
   "metadata": {},
   "outputs": [
    {
     "data": {
      "text/plain": [
       "(6.0, 31.0)"
      ]
     },
     "execution_count": 67,
     "metadata": {},
     "output_type": "execute_result"
    }
   ],
   "source": [
    "np.mean([0,1,5,6])+3,np.mean([25,26,30,31])+3,"
   ]
  },
  {
   "cell_type": "markdown",
   "id": "f6abc0a2-7fa9-4d51-acd5-6142fa1da56c",
   "metadata": {},
   "source": [
    "#### 테스트5"
   ]
  },
  {
   "cell_type": "markdown",
   "id": "0d2ad372-dab3-4b46-9d2f-8aa622d67403",
   "metadata": {},
   "source": [
    "`-`"
   ]
  },
  {
   "cell_type": "code",
   "execution_count": 68,
   "id": "0233ba07-44bb-4bf8-b3fa-a4939c12431d",
   "metadata": {},
   "outputs": [],
   "source": [
    "tf.random.set_seed(43052)\n",
    "cnv = tf.keras.layers.Conv2D(4,(2,2),activation='relu')\n",
    "XXX = tnp.arange(1*2*2*1,dtype=tf.float64).reshape(1,2,2,1)"
   ]
  },
  {
   "cell_type": "code",
   "execution_count": 69,
   "id": "13313897-e91d-4e03-a611-bc2e1c1a7169",
   "metadata": {},
   "outputs": [
    {
     "name": "stdout",
     "output_type": "stream",
     "text": [
      "tf.Tensor(\n",
      "[[[0. 1.]\n",
      "  [2. 3.]]], shape=(1, 2, 2), dtype=float64)\n"
     ]
    }
   ],
   "source": [
    "print(XXX.reshape(1,2,2))"
   ]
  },
  {
   "cell_type": "code",
   "execution_count": 70,
   "id": "b7fdcdf0-8b9a-4bfa-9d71-16f698d45e04",
   "metadata": {},
   "outputs": [
    {
     "data": {
      "text/plain": [
       "<tf.Tensor: shape=(1, 1, 1, 4), dtype=float32, numpy=array([[[[1.048703, 0.      , 0.      , 0.      ]]]], dtype=float32)>"
      ]
     },
     "execution_count": 70,
     "metadata": {},
     "output_type": "execute_result"
    }
   ],
   "source": [
    "cnv(XXX)"
   ]
  },
  {
   "cell_type": "code",
   "execution_count": 71,
   "id": "5b04074e-f15a-4b12-9a37-f151048abe43",
   "metadata": {},
   "outputs": [
    {
     "data": {
      "text/plain": [
       "<tf.Variable 'conv2d_8/kernel:0' shape=(2, 2, 1, 4) dtype=float32, numpy=\n",
       "array([[[[-0.08230966, -0.15132892, -0.12760344, -0.38952267]],\n",
       "\n",
       "        [[-0.36398047,  0.07347518, -0.08780673,  0.46633136]]],\n",
       "\n",
       "\n",
       "       [[[ 0.19759327, -0.46042526, -0.15406173, -0.34838456]],\n",
       "\n",
       "        [[ 0.33916563, -0.08248386,  0.11705655, -0.49948823]]]],\n",
       "      dtype=float32)>"
      ]
     },
     "execution_count": 71,
     "metadata": {},
     "output_type": "execute_result"
    }
   ],
   "source": [
    "cnv.weights[0] # (2,2) 커널의 크기 // 1은 XXX의 채널수 // 4는 conv(XXX)의 채널수"
   ]
  },
  {
   "cell_type": "code",
   "execution_count": 72,
   "id": "dbf594b2-3fcb-4972-b94d-95d10a50b18c",
   "metadata": {},
   "outputs": [
    {
     "data": {
      "text/plain": [
       "<tf.Tensor: shape=(2, 2), dtype=float32, numpy=\n",
       "array([[-0.08230966, -0.36398047],\n",
       "       [ 0.19759327,  0.33916563]], dtype=float32)>"
      ]
     },
     "execution_count": 72,
     "metadata": {},
     "output_type": "execute_result"
    }
   ],
   "source": [
    "cnv.weights[0][...,0].reshape(2,2) ## conv(XXX)의 첫번째채널 출력을 얻기 위해 곱해지는 w"
   ]
  },
  {
   "cell_type": "code",
   "execution_count": 73,
   "id": "540a597e-fa3c-4f84-ae31-3e39060cdaaf",
   "metadata": {},
   "outputs": [
    {
     "data": {
      "text/plain": [
       "<tf.Tensor: shape=(), dtype=float64, numpy=1.0487029552459717>"
      ]
     },
     "execution_count": 73,
     "metadata": {},
     "output_type": "execute_result"
    }
   ],
   "source": [
    "tf.reduce_sum(XXX.reshape(1,2,2) * cnv.weights[0][...,0].reshape(2,2)) ### conv(XXX)의 첫번째 채널 출력결과"
   ]
  },
  {
   "cell_type": "markdown",
   "id": "c92b86bd-03a9-4d87-806f-28a3756c6d7f",
   "metadata": {},
   "source": [
    "`-` 계산결과를 확인하기 쉽게 하기 위한 약간의 트릭"
   ]
  },
  {
   "cell_type": "code",
   "execution_count": 74,
   "id": "3a97e6b4-d591-450c-9ecf-bcf05b4df4df",
   "metadata": {},
   "outputs": [],
   "source": [
    "tf.random.set_seed(43052)\n",
    "cnv = tf.keras.layers.Conv2D(4,(2,2))\n",
    "XXX = tnp.array([1]*1*2*2*1,dtype=tf.float64).reshape(1,2,2,1)"
   ]
  },
  {
   "cell_type": "code",
   "execution_count": 75,
   "id": "a1f095d6-ef01-4eeb-ac93-dafc6f35fc2b",
   "metadata": {},
   "outputs": [
    {
     "name": "stdout",
     "output_type": "stream",
     "text": [
      "tf.Tensor(\n",
      "[[[1. 1.]\n",
      "  [1. 1.]]], shape=(1, 2, 2), dtype=float64)\n"
     ]
    }
   ],
   "source": [
    "print(XXX.reshape(1,2,2))"
   ]
  },
  {
   "cell_type": "markdown",
   "id": "0f714f40-570f-4a36-8579-73d92189061b",
   "metadata": {},
   "source": [
    "- 이렇게 XXX를 설정하면 cnv(XXX)의 결과는 단지 cnv의 weight들의 sum이 된다."
   ]
  },
  {
   "cell_type": "code",
   "execution_count": 76,
   "id": "7b8815b0-08ae-4a65-b9f4-2336021ef6f2",
   "metadata": {},
   "outputs": [
    {
     "data": {
      "text/plain": [
       "<tf.Tensor: shape=(1, 1, 1, 4), dtype=float32, numpy=\n",
       "array([[[[ 0.09046876, -0.6207628 , -0.25241536, -0.7710641 ]]]],\n",
       "      dtype=float32)>"
      ]
     },
     "execution_count": 76,
     "metadata": {},
     "output_type": "execute_result"
    }
   ],
   "source": [
    "cnv(XXX)"
   ]
  },
  {
   "cell_type": "code",
   "execution_count": 77,
   "id": "f79d9942-3326-46ec-8553-bd11046cb92f",
   "metadata": {},
   "outputs": [
    {
     "data": {
      "text/plain": [
       "<tf.Variable 'conv2d_9/kernel:0' shape=(2, 2, 1, 4) dtype=float32, numpy=\n",
       "array([[[[-0.08230966, -0.15132892, -0.12760344, -0.38952267]],\n",
       "\n",
       "        [[-0.36398047,  0.07347518, -0.08780673,  0.46633136]]],\n",
       "\n",
       "\n",
       "       [[[ 0.19759327, -0.46042526, -0.15406173, -0.34838456]],\n",
       "\n",
       "        [[ 0.33916563, -0.08248386,  0.11705655, -0.49948823]]]],\n",
       "      dtype=float32)>"
      ]
     },
     "execution_count": 77,
     "metadata": {},
     "output_type": "execute_result"
    }
   ],
   "source": [
    "cnv.weights[0] # (2,2) 커널의 크기 // 1은 XXX의 채널수 // 4는 conv(XXX)의 채널수"
   ]
  },
  {
   "cell_type": "code",
   "execution_count": 78,
   "id": "6f6836d9-9f27-4643-8d47-0d1c2a22f620",
   "metadata": {},
   "outputs": [
    {
     "data": {
      "text/plain": [
       "<tf.Tensor: shape=(2, 2), dtype=float32, numpy=\n",
       "array([[-0.08230966, -0.36398047],\n",
       "       [ 0.19759327,  0.33916563]], dtype=float32)>"
      ]
     },
     "execution_count": 78,
     "metadata": {},
     "output_type": "execute_result"
    }
   ],
   "source": [
    "cnv.weights[0][...,0].reshape(2,2) ## conv(XXX)의 첫번째채널 출력을 얻기 위해 곱해지는 w"
   ]
  },
  {
   "cell_type": "code",
   "execution_count": 79,
   "id": "73b4025f-26f3-4713-8a52-0dc70b8ae4f6",
   "metadata": {},
   "outputs": [
    {
     "data": {
      "text/plain": [
       "<tf.Tensor: shape=(), dtype=float32, numpy=0.090468764>"
      ]
     },
     "execution_count": 79,
     "metadata": {},
     "output_type": "execute_result"
    }
   ],
   "source": [
    "tf.reduce_sum(cnv.weights[0][...,0])\n",
    "#tf.reduce_sum(XXX.reshape(1,2,2) * cnv.weights[0][...,0].reshape(2,2)) ### conv(XXX)의 첫번째 채널 출력결과"
   ]
  },
  {
   "cell_type": "markdown",
   "id": "6d40a8ea-2a2f-444a-a83e-557982de41eb",
   "metadata": {},
   "source": [
    "#### 테스트6"
   ]
  },
  {
   "cell_type": "markdown",
   "id": "928874fe-5609-4755-a5e5-b02ac7dbfcbf",
   "metadata": {},
   "source": [
    "`-` 결과확인을 쉽게하기 위해서 XXX를 1로 통일"
   ]
  },
  {
   "cell_type": "code",
   "execution_count": 80,
   "id": "ac6dca10-8339-41f4-8614-967fcc626ca5",
   "metadata": {},
   "outputs": [],
   "source": [
    "tf.random.set_seed(43052)\n",
    "cnv = tf.keras.layers.Conv2D(4,(2,2))\n",
    "XXX = tnp.array([1]*1*2*2*3,dtype=tf.float64).reshape(1,2,2,3)"
   ]
  },
  {
   "cell_type": "code",
   "execution_count": 81,
   "id": "6d2cfb8a-9365-43fb-bfee-49bf9da7e350",
   "metadata": {},
   "outputs": [
    {
     "data": {
      "text/plain": [
       "<tf.Tensor: shape=(1, 1, 1, 4), dtype=float32, numpy=\n",
       "array([[[[ 0.3297621, -0.4498347, -1.0487393, -1.580095 ]]]],\n",
       "      dtype=float32)>"
      ]
     },
     "execution_count": 81,
     "metadata": {},
     "output_type": "execute_result"
    }
   ],
   "source": [
    "cnv(XXX)"
   ]
  },
  {
   "cell_type": "code",
   "execution_count": 82,
   "id": "8a94c22b-8678-4da9-8abd-32d7046af67c",
   "metadata": {},
   "outputs": [
    {
     "data": {
      "text/plain": [
       "<tf.Variable 'conv2d_10/kernel:0' shape=(2, 2, 3, 4) dtype=float32, numpy=\n",
       "array([[[[-0.06956434, -0.12789628, -0.10784459, -0.32920673],\n",
       "         [-0.30761963,  0.06209785, -0.07421023,  0.3941219 ],\n",
       "         [ 0.16699678, -0.38913035, -0.13020593, -0.29443866]],\n",
       "\n",
       "        [[ 0.28664726, -0.0697116 ,  0.09893084, -0.4221446 ],\n",
       "         [-0.23161241, -0.16410837, -0.36420006,  0.12424195],\n",
       "         [-0.14245945,  0.36286396, -0.10751781,  0.1733647 ]]],\n",
       "\n",
       "\n",
       "       [[[ 0.02764335,  0.15547717, -0.42024496, -0.31893867],\n",
       "         [ 0.22414821,  0.3619454 , -0.00282967, -0.3503708 ],\n",
       "         [ 0.4610079 , -0.17417148,  0.00401336, -0.29777044]],\n",
       "\n",
       "        [[-0.1620284 , -0.42066965, -0.01578814, -0.4240524 ],\n",
       "         [ 0.37925082,  0.24236053,  0.3949356 , -0.20996472],\n",
       "         [-0.30264795, -0.28889188, -0.3237777 ,  0.37506342]]]],\n",
       "      dtype=float32)>"
      ]
     },
     "execution_count": 82,
     "metadata": {},
     "output_type": "execute_result"
    }
   ],
   "source": [
    "cnv.weights[0] ## (2,2)는 커널의 사이즈 // 3은 XXX의채널 // 4는 cnv(XXX)의 채널"
   ]
  },
  {
   "cell_type": "code",
   "execution_count": 83,
   "id": "c7b1db38-45e3-4475-a511-f760acafc383",
   "metadata": {},
   "outputs": [
    {
     "data": {
      "text/plain": [
       "<tf.Tensor: shape=(2, 2, 3), dtype=float32, numpy=\n",
       "array([[[-0.06956434, -0.30761963,  0.16699678],\n",
       "        [ 0.28664726, -0.23161241, -0.14245945]],\n",
       "\n",
       "       [[ 0.02764335,  0.22414821,  0.4610079 ],\n",
       "        [-0.1620284 ,  0.37925082, -0.30264795]]], dtype=float32)>"
      ]
     },
     "execution_count": 83,
     "metadata": {},
     "output_type": "execute_result"
    }
   ],
   "source": [
    "cnv.weights[0][...,0] ## cnv(XXX)의 첫번째 채널결과를 얻기 위해서 사용하는 w"
   ]
  },
  {
   "cell_type": "code",
   "execution_count": 84,
   "id": "645d5bb0-6528-4b43-8361-b1e896023319",
   "metadata": {},
   "outputs": [
    {
     "data": {
      "text/plain": [
       "<tf.Tensor: shape=(), dtype=float32, numpy=0.32976213>"
      ]
     },
     "execution_count": 84,
     "metadata": {},
     "output_type": "execute_result"
    }
   ],
   "source": [
    "tf.reduce_sum(cnv.weights[0][...,0]) ### cnv(XXX)의 첫번째 채널의 결과"
   ]
  },
  {
   "cell_type": "code",
   "execution_count": 85,
   "id": "c020f2dc-55f6-484e-8f8d-c386291bcb06",
   "metadata": {},
   "outputs": [
    {
     "name": "stdout",
     "output_type": "stream",
     "text": [
      "tf.Tensor(0.32976213, shape=(), dtype=float32)\n",
      "tf.Tensor(-0.44983464, shape=(), dtype=float32)\n",
      "tf.Tensor(-1.0487392, shape=(), dtype=float32)\n",
      "tf.Tensor(-1.5800952, shape=(), dtype=float32)\n"
     ]
    }
   ],
   "source": [
    "print(tf.reduce_sum(cnv.weights[0][...,0]))\n",
    "print(tf.reduce_sum(cnv.weights[0][...,1]))\n",
    "print(tf.reduce_sum(cnv.weights[0][...,2]))\n",
    "print(tf.reduce_sum(cnv.weights[0][...,3])) ### cnv(XXX)의 결과"
   ]
  },
  {
   "cell_type": "code",
   "execution_count": 86,
   "id": "076d78fb-32cb-49df-b0a4-3220849b508d",
   "metadata": {},
   "outputs": [],
   "source": [
    "w_red = cnv.weights[0][...,0][...,0] \n",
    "w_green = cnv.weights[0][...,0][...,1] \n",
    "w_blue = cnv.weights[0][...,0][...,2]"
   ]
  },
  {
   "cell_type": "code",
   "execution_count": 87,
   "id": "4d5dbc74-1443-4fb5-b26b-cc0c75f95edf",
   "metadata": {},
   "outputs": [
    {
     "data": {
      "text/plain": [
       "<tf.Tensor: shape=(), dtype=float64, numpy=0.32976213097572327>"
      ]
     },
     "execution_count": 87,
     "metadata": {},
     "output_type": "execute_result"
    }
   ],
   "source": [
    "tf.reduce_sum(XXX[...,0] * w_red + XXX[...,1] * w_green + XXX[...,2] * w_blue) ## cnv(XXX)의 첫채널 출력결과"
   ]
  },
  {
   "cell_type": "markdown",
   "id": "29e1a678-4607-4ef1-95ed-4e07eb001526",
   "metadata": {},
   "source": [
    "### hw"
   ]
  },
  {
   "cell_type": "markdown",
   "id": "12128cc3-da27-4a58-99ba-8bbbfb89e674",
   "metadata": {},
   "source": [
    "아래와 같은 흑백이미지가 있다고 하자. \n",
    "```\n",
    "0 0 0 1 1 1 \n",
    "0 0 0 1 1 1 \n",
    "0 0 0 1 1 1 \n",
    "0 0 0 1 1 1 \n",
    "0 0 0 1 1 1\n",
    "0 0 0 1 1 1 \n",
    "```\n",
    "\n",
    "위의 이미지에 아래와 같은 weight를 가진 필터를 적용하여 convolution한 결과를 계산하라. (bias는 0으로 가정한다) \n",
    "```\n",
    "-1 1 \n",
    "-1 1 \n",
    "```"
   ]
  },
  {
   "cell_type": "code",
   "execution_count": 88,
   "id": "f97f4ed8-6c4c-4cd8-8c3b-c4c89d0fda73",
   "metadata": {},
   "outputs": [
    {
     "data": {
      "text/plain": [
       "<tf.Tensor: shape=(1, 6, 6), dtype=float64, numpy=\n",
       "array([[[0., 0., 0., 1., 1., 1.],\n",
       "        [0., 0., 0., 1., 1., 1.],\n",
       "        [0., 0., 0., 1., 1., 1.],\n",
       "        [0., 0., 0., 1., 1., 1.],\n",
       "        [0., 0., 0., 1., 1., 1.],\n",
       "        [0., 0., 0., 1., 1., 1.]]])>"
      ]
     },
     "execution_count": 88,
     "metadata": {},
     "output_type": "execute_result"
    }
   ],
   "source": [
    "cnv = tf.keras.layers.Conv2D(1,(2,2))\n",
    "XXX = tf.constant([[0,0,0,1,1,1],[0,0,0,1,1,1],[0,0,0,1,1,1],[0,0,0,1,1,1],[0,0,0,1,1,1],[0,0,0,1,1,1]],dtype=tf.float64).reshape(1,6,6,1)\n",
    "XXX.reshape(1,6,6)"
   ]
  },
  {
   "cell_type": "code",
   "execution_count": 89,
   "id": "ab9bf3f0-ccad-4cc3-978d-1006687b6446",
   "metadata": {},
   "outputs": [
    {
     "data": {
      "text/plain": [
       "<tf.Tensor: shape=(1, 5, 5), dtype=float32, numpy=\n",
       "array([[[0.       , 0.       , 1.4988861, 1.336632 , 1.336632 ],\n",
       "        [0.       , 0.       , 1.4988861, 1.336632 , 1.336632 ],\n",
       "        [0.       , 0.       , 1.4988861, 1.336632 , 1.336632 ],\n",
       "        [0.       , 0.       , 1.4988861, 1.336632 , 1.336632 ],\n",
       "        [0.       , 0.       , 1.4988861, 1.336632 , 1.336632 ]]],\n",
       "      dtype=float32)>"
      ]
     },
     "execution_count": 89,
     "metadata": {},
     "output_type": "execute_result"
    }
   ],
   "source": [
    "cnv(XXX).reshape(1,5,5)"
   ]
  },
  {
   "cell_type": "code",
   "execution_count": 90,
   "id": "4dfb969f-fe28-4234-af45-8d923d30e07e",
   "metadata": {},
   "outputs": [
    {
     "data": {
      "text/plain": [
       "<tf.Variable 'conv2d_11/kernel:0' shape=(2, 2, 1, 1) dtype=float32, numpy=\n",
       "array([[[[-0.51669824]],\n",
       "\n",
       "        [[ 0.6782736 ]]],\n",
       "\n",
       "\n",
       "       [[[ 0.3544441 ]],\n",
       "\n",
       "        [[ 0.8206125 ]]]], dtype=float32)>"
      ]
     },
     "execution_count": 90,
     "metadata": {},
     "output_type": "execute_result"
    }
   ],
   "source": [
    "cnv.weights[0]"
   ]
  },
  {
   "cell_type": "code",
   "execution_count": 91,
   "id": "38b6f389-55f6-4724-9eab-096f23d3ef10",
   "metadata": {},
   "outputs": [],
   "source": [
    "_w = tf.constant([[-1,1],[-1,1]],dtype=tf.float64).reshape(2,2,1,1)\n",
    "_b = tf.constant([0],dtype=tf.float64)"
   ]
  },
  {
   "cell_type": "code",
   "execution_count": 92,
   "id": "21c589ed-47cd-427d-bb0a-35c6f25cade2",
   "metadata": {},
   "outputs": [],
   "source": [
    "cnv.set_weights([_w,_b])"
   ]
  },
  {
   "cell_type": "code",
   "execution_count": 93,
   "id": "0a8ed0f4-1f11-4498-bad6-49ea86475765",
   "metadata": {},
   "outputs": [
    {
     "data": {
      "text/plain": [
       "[<tf.Variable 'conv2d_11/kernel:0' shape=(2, 2, 1, 1) dtype=float32, numpy=\n",
       " array([[[[-1.]],\n",
       " \n",
       "         [[ 1.]]],\n",
       " \n",
       " \n",
       "        [[[-1.]],\n",
       " \n",
       "         [[ 1.]]]], dtype=float32)>,\n",
       " <tf.Variable 'conv2d_11/bias:0' shape=(1,) dtype=float32, numpy=array([0.], dtype=float32)>]"
      ]
     },
     "execution_count": 93,
     "metadata": {},
     "output_type": "execute_result"
    }
   ],
   "source": [
    "cnv.weights"
   ]
  },
  {
   "cell_type": "code",
   "execution_count": 94,
   "id": "fee4278c-41bb-4862-94cd-557b1f524d94",
   "metadata": {},
   "outputs": [
    {
     "data": {
      "text/plain": [
       "<tf.Tensor: shape=(1, 5, 5), dtype=float32, numpy=\n",
       "array([[[0., 0., 2., 0., 0.],\n",
       "        [0., 0., 2., 0., 0.],\n",
       "        [0., 0., 2., 0., 0.],\n",
       "        [0., 0., 2., 0., 0.],\n",
       "        [0., 0., 2., 0., 0.]]], dtype=float32)>"
      ]
     },
     "execution_count": 94,
     "metadata": {},
     "output_type": "execute_result"
    }
   ],
   "source": [
    "cnv(XXX).reshape(1,5,5)"
   ]
  }
 ],
 "metadata": {
  "kernelspec": {
   "display_name": "Python 3",
   "language": "python",
   "name": "python3"
  },
  "language_info": {
   "codemirror_mode": {
    "name": "ipython",
    "version": 3
   },
   "file_extension": ".py",
   "mimetype": "text/x-python",
   "name": "python",
   "nbconvert_exporter": "python",
   "pygments_lexer": "ipython3",
   "version": "3.9.7"
  }
 },
 "nbformat": 4,
 "nbformat_minor": 5
}
